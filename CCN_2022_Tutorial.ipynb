{
  "nbformat": 4,
  "nbformat_minor": 0,
  "metadata": {
    "colab": {
      "name": "CCN 2022 Tutorial",
      "provenance": [],
      "collapsed_sections": [],
      "authorship_tag": "ABX9TyPOafNppR5aMM3p/YtHtoM/",
      "include_colab_link": true
    },
    "kernelspec": {
      "name": "python3",
      "display_name": "Python 3"
    },
    "language_info": {
      "name": "python"
    },
    "widgets": {
      "application/vnd.jupyter.widget-state+json": {
        "18c74527bc0e4355961983d5f1c562a5": {
          "model_module": "@jupyter-widgets/controls",
          "model_name": "VBoxModel",
          "model_module_version": "1.5.0",
          "state": {
            "_dom_classes": [
              "widget-interact"
            ],
            "_model_module": "@jupyter-widgets/controls",
            "_model_module_version": "1.5.0",
            "_model_name": "VBoxModel",
            "_view_count": null,
            "_view_module": "@jupyter-widgets/controls",
            "_view_module_version": "1.5.0",
            "_view_name": "VBoxView",
            "box_style": "",
            "children": [
              "IPY_MODEL_a5e49a38171f4738954d4d87c6e6e07c",
              "IPY_MODEL_00c2a0e392ee4d64b2784d73010dc63b",
              "IPY_MODEL_91cbb92df8f349f187f4a31590e707aa",
              "IPY_MODEL_27e7c41640224dc4bc5e461f0e7bc047",
              "IPY_MODEL_171f9b76983d4c769356cab713add819"
            ],
            "layout": "IPY_MODEL_1eea0a19d027477bbae8cc826f8b187d"
          }
        },
        "a5e49a38171f4738954d4d87c6e6e07c": {
          "model_module": "@jupyter-widgets/controls",
          "model_name": "FloatLogSliderModel",
          "model_module_version": "1.5.0",
          "state": {
            "_dom_classes": [],
            "_model_module": "@jupyter-widgets/controls",
            "_model_module_version": "1.5.0",
            "_model_name": "FloatLogSliderModel",
            "_view_count": null,
            "_view_module": "@jupyter-widgets/controls",
            "_view_module_version": "1.5.0",
            "_view_name": "FloatLogSliderView",
            "base": 10,
            "continuous_update": true,
            "description": "Perceptual uncertainty (target)",
            "description_tooltip": null,
            "disabled": false,
            "layout": "IPY_MODEL_511447cb6dd54b689f2948027aae6496",
            "max": 2,
            "min": -1,
            "orientation": "horizontal",
            "readout": true,
            "readout_format": ".3g",
            "step": 0.1,
            "style": "IPY_MODEL_ce0f960e3d624ffca21d79e978e08341",
            "value": 10
          }
        },
        "00c2a0e392ee4d64b2784d73010dc63b": {
          "model_module": "@jupyter-widgets/controls",
          "model_name": "FloatLogSliderModel",
          "model_module_version": "1.5.0",
          "state": {
            "_dom_classes": [],
            "_model_module": "@jupyter-widgets/controls",
            "_model_module_version": "1.5.0",
            "_model_name": "FloatLogSliderModel",
            "_view_count": null,
            "_view_module": "@jupyter-widgets/controls",
            "_view_module_version": "1.5.0",
            "_view_name": "FloatLogSliderView",
            "base": 10,
            "continuous_update": true,
            "description": "Behavioral costs",
            "description_tooltip": null,
            "disabled": false,
            "layout": "IPY_MODEL_95902d214b8448f2a67b44e3df1e675c",
            "max": 1,
            "min": -2,
            "orientation": "horizontal",
            "readout": true,
            "readout_format": ".3g",
            "step": 0.1,
            "style": "IPY_MODEL_27d8b117b9ac4b9a84c40c66306187d3",
            "value": 0.05011872336272723
          }
        },
        "91cbb92df8f349f187f4a31590e707aa": {
          "model_module": "@jupyter-widgets/controls",
          "model_name": "FloatSliderModel",
          "model_module_version": "1.5.0",
          "state": {
            "_dom_classes": [],
            "_model_module": "@jupyter-widgets/controls",
            "_model_module_version": "1.5.0",
            "_model_name": "FloatSliderModel",
            "_view_count": null,
            "_view_module": "@jupyter-widgets/controls",
            "_view_module_version": "1.5.0",
            "_view_name": "FloatSliderView",
            "continuous_update": true,
            "description": "Action variability",
            "description_tooltip": null,
            "disabled": false,
            "layout": "IPY_MODEL_fb037d3e22eb40089619cac38b4ecbed",
            "max": 2,
            "min": 0.1,
            "orientation": "horizontal",
            "readout": true,
            "readout_format": ".2f",
            "step": 0.1,
            "style": "IPY_MODEL_94256512d5714e24a257a4a0e3eac058",
            "value": 1
          }
        },
        "27e7c41640224dc4bc5e461f0e7bc047": {
          "model_module": "@jupyter-widgets/controls",
          "model_name": "FloatLogSliderModel",
          "model_module_version": "1.5.0",
          "state": {
            "_dom_classes": [],
            "_model_module": "@jupyter-widgets/controls",
            "_model_module_version": "1.5.0",
            "_model_name": "FloatLogSliderModel",
            "_view_count": null,
            "_view_module": "@jupyter-widgets/controls",
            "_view_module_version": "1.5.0",
            "_view_name": "FloatLogSliderView",
            "base": 10,
            "continuous_update": true,
            "description": "Perceptual uncertainty (cursor)",
            "description_tooltip": null,
            "disabled": false,
            "layout": "IPY_MODEL_57542aaacd7a4033abaa379013fbe05b",
            "max": 2,
            "min": -1,
            "orientation": "horizontal",
            "readout": true,
            "readout_format": ".3g",
            "step": 0.1,
            "style": "IPY_MODEL_e738d29f910c4b93942057a0cecd9521",
            "value": 1.9952623149688795
          }
        },
        "171f9b76983d4c769356cab713add819": {
          "model_module": "@jupyter-widgets/output",
          "model_name": "OutputModel",
          "model_module_version": "1.0.0",
          "state": {
            "_dom_classes": [],
            "_model_module": "@jupyter-widgets/output",
            "_model_module_version": "1.0.0",
            "_model_name": "OutputModel",
            "_view_count": null,
            "_view_module": "@jupyter-widgets/output",
            "_view_module_version": "1.0.0",
            "_view_name": "OutputView",
            "layout": "IPY_MODEL_d1098b857e7c474b9ae99a219e097828",
            "msg_id": "",
            "outputs": [
              {
                "output_type": "display_data",
                "data": {
                  "text/plain": "<Figure size 576x288 with 2 Axes>",
                  "image/png": "iVBORw0KGgoAAAANSUhEUgAAAjgAAAEYCAYAAABRMYxdAAAABHNCSVQICAgIfAhkiAAAAAlwSFlzAAALEgAACxIB0t1+/AAAADh0RVh0U29mdHdhcmUAbWF0cGxvdGxpYiB2ZXJzaW9uMy4yLjIsIGh0dHA6Ly9tYXRwbG90bGliLm9yZy+WH4yJAAAgAElEQVR4nOydd3gc1fWw36PereLeO9jEVNMJnQAJNZQAP0IJLT0EEgKkAWmEL0ASIIUWCITeWyD0asA2XTYuuDfZlqzetef7497dnZVW0lpW93mfZ56ZuXNn5uxKO3v2VFFVDMMwDMMwBhNJfS2AYRiGYRhGd2MKjmEYhmEYgw5TcAzDMAzDGHSYgmMYhmEYxqDDFBzDMAzDMAYdpuAYhmEYhjHoMAXH6HFE5L8icnZfy2EYhrEtiMhrInJ+X8thJIYpOEZcRKQ6sIREpC6w/39bcy1VPVpV795Gea4SkXu35RqGYXQNETlDROb5z/96/6PlgL6WyzA6whQcIy6qmhNegFXAsYGx/4TniUhK30mZOANFTsPob4jIJcCfgd8DI4DxwN+A4+PMHTCfMxFJbrXfZ7IPpPdtIGEKjrFViMjBIrJGRH4mIhuAf4lIgYg8IyKbRGSL3x4bOCfGrCsi3xKRhX7uCyIyIXBsJxF5UUTKRKRERK4UkaOAK4Fv+F+QH/u5o0XkKT93qYhcELjOVSLyiIjcKyKVwOUiUisiRYE5u3uZU3v2XTOMgYmIDAGuAb6nqo+pao2qNqnq06r60zifs3M6+Vzu5S1Blf7zfYMfz/DXKBWRchGZKyIjOpDrAv8MqRKRBSKyux+f4Z835SJSLCLHBc65S0T+LiLPiUgNcIiIrPDPsk+AGhFJEZF9ROQdf42PReTgdmRIEpFfiMhKEdkoIv/271f4+Fn+WKmI/NLf63B/LN77tpeIzPH3XS8iN4tIWuB6KiLfFZEl/nX/RkSmeFkrReSh4HwDUFVbbOlwAVYAh/vtg4Fm4I9AOpAJFAEnAVlALvAw8ETg/NeA8/328cBSYAaQAvwCeMcfywXWA5cCGX5/b3/sKuDeVnK9gfslmQHsCmwCDg3MbwJOwCnymcBzwHcC598I3NTX768ttvTXBTjKf95T2jke73PW0edyDvBNv50D7OO3LwKe9s+QZGAPIK+de54CrAX2BASYCkwAUv2z5UogDTgUqAJ28OfdBVQA+3tZM/yz7SNgnJd9DFAKfNXPOcLvD/PXCD7LvuXvN9m/lseAe/yxmUA1cICX5U/+fTq8g/dtD2Af/1ycCCwELg68bgWeBPKAnYAG4GV//yHAAuDsvv6f6U+LWXCMrhACfq2qDapap6qlqvqoqtaqahXwO+Cgds79NvAHVV2oqs04s/eu3opzDLBBVa9X1XpVrVLV9+JdRETG4R5UP/NzPwJuB84KTJujqk+oakhV64C7gTP9+cnA6cA92/pmGMYgpgjY7D+r7RH5nAFD6fhz2QRMFZGhqlqtqu8GxouAqaraoqrzVbWynfudD1ynqnPVsVRVV+KUgxzgWlVtVNVXgGdwn/MwT6rq2/6ZUO/H/qqqq/0z4kzgOVV9zs95EZiHU3ha83/ADaq6TFWrgSuA07y76WTgaVV9S1UbgV/hFJS475t/js5X1XdVtVlVVwD/pO1z9DpVrVTVYuAz4H/+/hXAf4Hd2nnPtktMwTG6wqbAwwERyRKRf3pzbCXuF1y+tPJxeyYAf/Fm2HKgDPcrbAzuV9QXCcowGijzClWYlf46YVa3OudJYKaITML9MqtQ1fcTvJ9hbI+UAkOl4xiR4Oess8/lecB04HPvhjrGj98DvAA8ICLrROQ6EUkVkS9LNLmh2M9t7zkxGljtFa14924ta7yxCcAp4eeTf0YdAIxq534rW90rBRenNDp4XVWtxb2X7d0XEZkuzr2/wT9Hf49TGIOUBLbr4uznxJFzu8UUHKMrtP4lcimwA86dlAcc6MclzrmrgYtUNT+wZKrqO/7Y5ATvuQ4oFJHcwNh4nOk67jleKXsI9yvtm5j1xjA6Yw7OFXJCB3OCn7MOP5equkRVTweG49zcj4hItrq4nqtVdSawH86ae5aqvqnR5Iad/PVWA1PiyLEOGCciwe+1Dp8JccZW49xMwedTtqpe2879JgT2x+PceSU4V3swDjHsym/vvgB/Bz4Hpvnn6JXEf4YaCWIKjtEd5OJ+PZSLSCHw6w7m/gO4QkR2AhfEKCKn+GPPAKNE5GIRSReRXBHZ2x8rASaGH16quhp4B/iDD1DcGffrsLNU8n8D5wDHYQqOYXSId338CrhFRE7w1tpUETlaRK6LM7/Dz6WInCkiw7yVpdyfFhKRQ0Rklrf6VuJcVqHW1/fcDvxERPYQx1Tv4n4PqAUu8zIeDBwLPLAVL/le4FgROVJEkv1rOFgCSRMB7gd+LCKTRCQHZ3F50LvzHvHX2c8H/l5F58pKrn/t1SKyI/CdrZDbiIMpOEZ38GdckNxm4F3g+fYmqurjuF9uD3gz7GfA0f5YFc51dCywAVgCHOJPfdivS0XkA799Oi4Ybx3wOC4u6KWOBFXVt3EPzg+8394wjA5Q1euBS3AJAZtwVo7vA0+0c0pHn8ujgGIRqQb+ApzmY19G4pSCSlxw7eu08wNEVR/GxfndhwsifgIo9LEux+KeJ5txgc5nqernW/FaV+MSIa4MvNafEv+78k4v4xvAcqAe+IG/TrHffgBnzakGNuKsYe3xE+AM/5puAx5MVG4jPqIaz2JnGN2HiLwB3K6q/+5rWQBE5BXgPlW9va9lMQxj8OMtPOU499PyvpZne8EsOEaPIiJZuLiafvGhFpE9gd2xX0eGYfQgInKsd+ll49LEP8WlpRu9RJ8pON63+b64QkrFInK1H58kIu+JKxD1oBUuGriIyHCcq+l14K0+FgcRuRt4CVdboqqz+cbAQESOEpFF/plxeZzjB4rIByLSLCIntzp2ti+ctkSsX5rRvRyPc9OtA6bh3HHmMulF+sxFJSICZKtqtbhKsm8BP8L5eh9T1QdE5B/Ax6r69z4R0jCMfo0PSl2Mi91aA8wFTlfVBYE5E3HF0X4CPKWqj/jxQlyNk9m4jJb5wB6quqUXX4JhGD1En1lwfIGmar+b6hfFVZ98xI/fTcfpiYZhbN/sBSz1xc4acUGdMT2SVHWFqn5C26ycI4EXVbXMKzUv4oJgDcMYBPRpgy//62s+rtT2LbjiTeWBqplriC3SFDz3QuBCgJkzZ+5RXFwcb5phGH1Db9XvGENswbQ1wN7tzE3k3DbPG3vWGEa/J+7zpk+DjH1J7l1xBZH2AnbcinNvVdXZqjo7MzOzx2Q0DGP7xp41hjEw6RdZVKpaDrwK7Isr8R+2LI0ltgqlYRhGkLW40v1htuaZsS3nGobRz+nLLKphIpLvtzNxQYILcYpOONPhbFz/IMMwjHjMBab57Ms04DTgqQTPfQH4iogUiEgB8BU/ZhjGIKAvLTijgFdF5BPcQ+pFVX0G+BlwiYgsxfXuuKMPZTQMox/j4/W+j1NMFgIPqWqxiFwjIseBq30kImuAU4B/hps2qmoZ8Bvc82cucI0fMwxjEDAoKhnPnj1b582b19diGIYRZVA2CbRnjWH0S/pfkLFhGIZhGEZPYAqOYRiGYRiDDlNwDMMwDMMYdJiCYxiGYRjGoMMUHMMwDMMwBh2m4BiGYRiGMegwBccwDMMwjEGHKTiGYRiGYQw6TMExDMMwDGPQYQqOYRiGYRiDDlNwDMMwDMMYdJiCYxiGYRjGoMMUHMMwDMMwBh2m4BiGYRiGMegwBccwDMMwjEGHKTiGYRiGYQw6TMExDMMwDGPQYQqOYRiGYRiDDlNwDMMwDMMYdJiCYxiGYRjGoMMUHMMwDMMwBh2m4BiGYRiGMegwBccwDMMwjEGHKTiGYRiGYQw6TMExDMMwDGPQYQqOYRiGYRiDDlNwDMMwDMMYdJiCYxiGYRjGoKPPFBwRGScir4rIAhEpFpEf+fFCEXlRRJb4dUFfyWgYhmEYxsCkLy04zcClqjoT2Af4nojMBC4HXlbVacDLft8wDMMwDCNh+kzBUdX1qvqB364CFgJjgOOBu/20u4ET+kZCwzAMwzAGKv0iBkdEJgK7Ae8BI1R1vT+0ARjRzjkXisg8EZm3adOmXpHT8KjCi7+G9Z/0tSSGgYgcJSKLRGSpiLSx+IpIuog86I+/5583iEiqiNwtIp+KyEIRuaK3ZTcMo+focwVHRHKAR4GLVbUyeExVFdB456nqrao6W1VnDxs2rBckNSI01sDbf4Y7vtL53C0roKmux0Uytk9EJBm4BTgamAmc7l3dQc4DtqjqVOBG4I9+/BQgXVVnAXsAF4WVH8MwBj59quCISCpOufmPqj7mh0tEZJQ/PgrY2FfyGe0QVlia66Chuv15jTXwl13gmUt6Ry5je2QvYKmqLlPVRuABnJs7SNDt/QhwmIgI7sdTtoikAJlAI1CJYRiDgr7MohLgDmChqt4QOPQUcLbfPht4srdlMzqhqSa6/dA325+39gO3Xv1ez8pjbM+MAVYH9tf4sbhzVLUZqACKcMpODbAeWAX8SVXLWt/A3OGGMTDpSwvO/sA3gUNF5CO/fBW4FjhCRJYAh/t9oz8RdDlt+LT9eSWfuXXRlJ6VxzC6xl5ACzAamARcKiKTW08yd7hhDExS+urGqvoWIO0cPqw3ZTE6pry2kcsf/ZRfHzeTUUMyobE2erBmk3NTpee0PbFqg1snp/WOoMb2yFpgXGB/rB+LN2eNd0cNAUqBM4DnVbUJ2CgibwOzgWU9LrVhGD1OnwcZG/2fv732Bc8Xb+CReWvcQNhFtce5bl2xJv6JNd6c31DVswIa2zNzgWkiMklE0oDTcG7uIEG398nAKz6BYRVwKICIZOPqcX3eK1IbhtHjmIJjdEhLSHlkvlNgUlP8v0vYgpMz3K2baqBiLcy5xaWQg1tXl7htU3CMHsLH1HwfeAFXS+shVS0WkWtE5Dg/7Q6gSESWApcQLR56C5AjIsU4Relfqmq1DwxjkNBnLipjYFBZ10RZTSMA9767kgXrKvnrLK/gZPt4hMYaeO4nsOg5aKqFfb8Pt+wN5Svd8QZLTDF6DlV9Dniu1divAtv1uJTw1udVxxs3DGNwYBYco0Mq65si22u21PHUx+uoqfYKS0TBqY3G2bzyWyhbHlVuAOpNwTEMwzB6F1NwjA6prGtuM1ZWXu42vIIzf+lqGrJHRSeseNOt97wA9vmeuagMwzCMXscUHKNDwhacJJ/vNlY2MaT4324nbzQAD72ziPcXBxJX/nuZW+91AWQWuIKALVFLkGEYhmH0NKbgGHF5aN5qvvHPOVR5BWdIZioAN6beQl7VF25SxhAAsqgn1FAN6UNiL5IzAjLy3La5qQzDMIxexBQcIy6XPfIJ7y0vY3WZK+pXkCHsJksYSkV0UpqrfZNFA1nUU5k+PHIoNHoPpwClewWnIXCeYRiGYfQwlkVltGFlabQVwydrnWJy64RXmVp7S3TS6N0gJY2QpJAt9WSE6lhSDnt4lXnZCU8yVSRqwbE4HMMwDKMXMQuO0YbXFkX77XywcgupycKUlGjP08+KjoRzngWgKTmLbOpIbqmlRjMiczZWNbiN9Fy3NheVYRiG0YuYBcdoQ6mvewOwtty5qCQ76n7amDoW0rIBqE3Jp1CqSG2ppZY89q2/CQV+Xu2vEXFRmYJjGIZh9B5mwTHaUFbTQH5WauxgSrSfVDnRvlMVkksBVRRqOWWaw3qK2EARpdXegpPr08fba+dgGIZhGD2AKThGG0qrGynKbtUgs6E6slkiI6JzNZcDkospkirWywiW/u5okiRgBcoZ7rKrNi/uDdENwzAMAzAFx4hDaU0jRdnpkf1DdxwOjVEFZ0XS2Mh2YcO6yHZN1hhSkpMozE7no9XlHH/L2y4WZ+hU2Lykd4Q3DMMwDEzBMeJQUdtEflYq6b655m1nzY5RcFaFigAIhZTVLQWR8fL8nQAYmpPGm0s28/Hqcp76eB3kjqK0ZA0TL3+WNxZvwjAMwzB6GgsyNtpQUdfEkMxU3rvyMJpalOQkcS6qUbvy3aRfUtvoyhpvrm7g4sbvcPmeSbxRP4UjdnLxNkNz0gGXFp6dngLZw9CaNwC46uliXrn04L54WYZhGMZ2hCk4Rhsq652Ck58ViMNprIbMAlokn/pq1018TXkdZeQxdKfZ3LxjNC6nKCd6XllNI82ZhRRQRRIhpLuEbKqD0qUwclb7c6o3ObkLJ3XXXQ3DMIwBgrmojBiaWkLUNraQl9kqi6qhGtJzyExNprbJNeBcu8WlkI/Jz4qZWhBQjL7YWE255JMsSj7VdBtPfg/+cQDUlbc9VlMKb/wJ/rqrW6rNLWYYhrG9YQqOEUNlXWzvqQiN1ZCWS2ZaCnWNISBaI2dMQWbM1MNnjGDvSYUAPPbhWq562RUJHCbliGyjDad8FTTWwJKX3H5dWds5C5+EV34TjRta98G23dMwDMMYcJiC0w1U1DaxdOPgaEVQ4RWcvMxW3suGKkjLJjM1mfqmFl5fvIlr//s5ADnpsXMPmDaUBy/al7+ctisAK9S5rybJhm1zUanCn2fBvSdDc70bq93Sdl6dHzv0F25dtX5b7moYhmEMQEzBaYf6phY+XZNYg8hjb36Lw294g/qmlh6WquepiGfBWTMf6sudiyotibqmFv719vJOr3X8rmO48MDJLNPRAEyRdWyTASdskVn1DrT4QoKtLTiqMO8uSE6H/S92Y+s+3IabGoZhGAMRU3Da4VdPfsaxN79FSWV9h/NqGppZVeaCbucsK+0N0XqUynoXX5OX4RWcxhq4/VC3nZZDVloKLSGNpHv/4mszOrze12aNopYMNmo+42QjTS3adeGqN7Yde+cm2LIyur/6fahY5RSgZP8a5t8FtXFcWYZhGMagxRScdnh/uftCXLCu/R5KLxRv4HfPLYzsr9xc0+7c/oyq8vxn66ltbG5rwQk2yUzPJSM1GYCQwk++Mp3zvzy5w2tPH+GabZZpLrOKQpEYn62msQbuP73t+PLX4S87u9gcgKba2ON5Y9y6pLhr9zUMwzAGJKbgtEOaL3J37l1zeXVRrOXg3ndX8p/3VnLRPfO5771VkfEVpbUDMhbnkflr+Pa9H3D3OysjCkgki6oh8HrScshIjf7LnLH3hE6vnZnmFKJKsskLVbFn/TvonL/BK7/dOiGXvQ6bF7V/fNW7ULku2tTziGvc+tzn3PruY2Dx/7bunoZhGMaAxRScOLy+eBOLS6IpzTf8L9pHqaklxC+e+IyfP/5ZzDn5Wanc9c4KDr/hDZpaQm0vqgp3HgULnuoxubvKu8uctaqirqmtBSfYBTw9h4Ym99rO2ncCha37VbXDB788gl2nT2Zc1Yf8I/UG5IUr4I3/B589BlUbAKdk/eThj9u/iMZ5T0/8Z3T7sQvghhnRtPEvneTWQ8ZF5yx+PiF5DcMwjIGPKThxuOOt5QzLTefXx84EcJV8PZ+vj2+hmTIs2mG7ysexxHD/6bBqjqvf0s9Y7WOI1pbXUVnXRFpKUsQVRX0g0HrIOCrrvYUnI7X1ZdqlMDuNtNyitgceORduPRhV5ScPf8wj89fQ2BxHkYFoZtT5L0fHJuzXdt76j9w6Y4hbJyXDkX9w2zrwg8ANwzCMxDAFJw4bK+vZZWw+5+4/iaO/NJKahqjCsrY8GuNx+IzhAKSnJFGQFf3CbxNn0tIEi//rtsfs3nOCd4EF6yp5f4Wz4Dz98ToWrK+MVV6CLqrhM/nSaKc47DM5jsLSEZkF8cer1tMQUGraDequ95aZodPhG/fC8X+D/PFMrL+Pm5pPiM5b8TZIEqRFFU72/S6M3RPKlm2dzIZhGMaApcNWDSJySQLXqFHVf3Y+Le717wSOATaq6pf8WCHwIDARWAGcqqpxip30HJuqGthtvPtCzk5PoTpGwYl+Af/f3hMQEfaaWMjC9c6VM5JSCp88E079B+T69gXrA66X4BdvP+DlhSUAfGv/Sdz59nLeXLKZmaPyohPCLqoZx0FqBofPzOD9Kw9jeF7G1t3It0t4NzSD+5oP5a9pt0QOha1C4KxI4wqz2pxeXb6JbElG0nNhxrEAEWvPX5u/zinTUxi57BEXp5NZQJt89MLJsHLO1slsGIZhDFg6s+D8FMgBcjtYLt2G+98FHNVq7HLgZVWdBrzs93uNppYQZbWNDM9NB1wRu7CCEwopa7fUkZos3HXunhyy43BuO2s2Fxw4mez0FIQQz6dfTt7qV2DlW9GLrnzbrQsmxVpE+gHLNtcwekgGvzp2JhOKnGIxcWhAwQhnUR13U2Roq5UbgHH7ALAqNJynQvvHHKoOuPTW+erIj3/ouo9vqmqguqGZJ975jJrk3BjF5cUFTjlrIoV9FnwdzfEKZfawtvcvnAwVq6G5YetlNwzDMAYcnTXbvEdVr+logohkd/XmqvqGiExsNXw8cLDfvht4DfhZV++xtWypaUQVhgUUnJqGZl75vIRv3TWPcYWZTB+Ry8E7DI85r0WVsbKJfPGp4hqo97LuIyiYCEVToLZ/1cpZvrmGiUPdn7AgK42VpbVMKAr8Seu2OJdPel47V0iQETNp+sb9/Obutqn01dXRgO71Fc5C9u85KyPypaUkkS81lDRmErR/Pf3xOgByM1Koqm8mVDCF5OoSyBlBGwomAgrlq2Ho1G17LYZhGEa/p0MLjqpe1tkFEpmzlYxQ1XBt/Q1AnG+rnqPKW2tyM5zul5ORQkjhskc+AWB1WR07jMxtc15KQwUzJVBwrqHKKTmlX7gCdbmjIT23zy04ZTWNTLz8WV753Fk/SmsaGOEtMmGXz8SigAWnrgwyCyFp28O1Umd8lSraup+mP3wIpyW/Amikv1VYP1xRWsP7y0vJo4YKsvlf8YbIeau31HLwDsO47KgdnfxDJroDuSPb3jwcA1SfWHVqwzAMY2DTmQUHABFJB07CxcVEzunMurOtqKqKSNzStyJyIXAhwPjx47vtnnWNLtMmK829zGzfZ2lzdWNkTjBjKswVi08lMy1gnXjm4tj1zOOdFaSPFZzlvhjh755dyKE7jqC8timSEh52xcVYcGrLIKuw2+7/4IX7cP6/58WMZdSu49rU2zkh+W3+XnYjAOE/+mWPfEJBVip3SzWbdQi/fPIzDp8xAgVWldWy+/gCcv3faEPaeCYBJMXJ8ArHPjW0X7jRMAzDGDwk+rP8SZzrqBmoCSw9QYmIjALw6zj1+UFVb1XV2ao6e9iwODEXXSScMZXlC9TlZcTqgOOlhJFZbXWuzFCct+OTB6Pb2cOcBae+b79gw1aa5ZtraG4JUVXfTL7PAAunw8cE+daWOgtON7H35CIOnD6Mc7Nugq/fHnNsn6SFZC57kfUVdTHjW2qbGJlaRzk5lFQ28PGacna9+n9U1TczfUROpNnnCe9MJjT5EJh1Utsbp3sFp7G67THDMAxj0JGogjNWVb+hqtep6vXhpYdkego422+fjVOueo3aiAXHKTjBL/t0Gnkj/cccUPzrds9/fOSPojuVa6Pb2cNdbZbmOpc23kdU+YylkEb7TuV7C84/ztyD7x48hdFDAkHEdVsgaytTwjthWE4682pGwNTDAFhdsE/kWBFbWFVaS31jbM2aIVJNhTrL0q1vLIu4Eo/fbUzEnVhBDj/P+Q1MPbztTSMWHFNwDMMwtgcSVXDeEZFZ3X1zEbkfmAPsICJrROQ84FrgCBFZAhzu93uN2lYuqqnDo+6oMbIZgMJN77c9MT0P9v42H4/+RnSsPNrGgRxvwYFudVNd8/QCrnoq8T5LD81bE9neUuvcbvlZriLxDiNzueyoHZFginVdOWTmd4+wnryMFKobmwllFFB80sucW//jyLEc6iiva2JlWdQilkSI9OZqytX9Lf77mYvDefnSg8jLSI24EQHuf38V5bVRd2KE8HtvFpxBh4gcJSKLRGSpiLTJuhSRdBF50B9/L5jYICI7i8gcESkWkU9FpAspgoZh9EcSVXAOAOb7h8gn/kHwybbeXFVPV9VRqpqqqmNV9Q5VLVXVw1R1mqoerqq92ga6prGViyq5mfOGzCUvI5l9C7x7qXUacqjFxXZk5EesCRFSMqLnhDORuikOZM2WWu58ezl3vbMiofktIeUlX/cG4NM1LuC2w5YLTTWQ2jYweFvIyUhBFWqbWvjaf0pYuqWFM1L/AkC21LGkpIr6phDfP8RlO506yxUXnDpuND841I2lJScx2Wd/pSTH1rwpr41jIYtYcPpXmr6xbYhIMnALcDQwEzhdRGa2mnYesEVVpwI3An/056YA9wLfVtWdcNmbfWdeNQyjW0lUwTkamAZ8BTgWV5zv2J4Sqi8p8WnKEavAC1fyy4Ybeev0bC7f2ykrqZsXwLM/gSYfK1Kzya0zhpCbkcL3Gn8YvWCyVx6yh0etCGs/6BZZV5XWdj4pQOsKy9f+93Ny01PYa1IHMTaNtZDWzQpOug9qDtS/2ZA+EU3LJYd63vOd3L88bSgvXHwgv//qRACO3Ws6X57mlMsdRuZGLE07jMjlR4dN43cnfgkg0k8rhtRMt375avj0EVjxVts5xkBkL2Cpqi5T1UbgAVy8YJDjcSUnAB4BDhP3z/MV4BNV/RjA/7iyfh6GMUjorJJxnqpWAtvNz97rX3SNNcMWHDa5DtZ59x8TO3HubTBqZ9j9LHjW1zpMyyYnKZU3QwFvXsg/L3OGufgbcD2Y8sfD2NnbJOsj86PuprrGlkjn7vbYEnDdFGSlsqGyngOmDo32nWpNqAVaGiC1y6WO4hK2clU3RBWR2sYWyMglu7aeN5dsJiVJ2HlsvntNJavdpLQcdh2Xz5n7jOf8AyZHzhURfnzEdOb6lhPBysiBSdHtR89z66ssZXwQMAZYHdhfA+zd3hxVbRaRCqAImA6oiLwADAMeUNXrWt+gpzI2DcPoWTqz4Nzn1/OBeX49P7A/qGgJRbOj0lP8W9PUgZVk8QtuvXa+W08+iNyMFKrx1oKCSb7AHJA1NGrBgdj4HICPH4TVcWJ7OuCxD6NBzFvixZ20otxbNsbkZ0aCp4MxRm1o9HEw3W3ByWibeiNZSKUAACAASURBVP+nU3ZB0nLJT3ZK4PiirKjC9q+j3To9l7SUJH57wqxIccIg4R5alXVxmp0CHPKL2H2NW4HA2H5Iwbnf/8+vTxSRw1pP6qmMTcMwepbOCv0d49eTVHWyX4eXyR2dOxAJu0z2mFAQDbRtaqf5IziFJNTiXFT7XwwFE11hQJJYcuQ98K0X4MxH4KQ7ICMvNt26ZnPstR6/EO44grPuTEzJaWpx6d4j8lzF5bKazhWcCh+bcvMZu9HU4r7cp49oW7QwehOv3HVzDE64bs2fXnDWse8ePIUDpjkFMD/ZvY5Iw8+68mijzU76eOVluusu2VjF1U8Xt+1Mvt8PQALWqjuP3MZXYvQD1gLjAvtj/VjcOT7uZghQirP2vKGqm1W1FngO6F/dcA3D6DIJl6f12QbHicjXw0tPCtbbNDaHuOaZBQCctmfgedle1k1mIdRshNf/CKFmyHfnhOvmrC/a1zXbzBsNs0525xRMhNPud9tV66LXCtTGeWPxJhqavVvr2Uth7h1xbx+Op5k90SlNiVhwwnMKstKo8NvTRiRiweleF1XYgrPANyg9Ybcx7kB6LnuHPuTG1FvISvEK5tqAoTC9YwUnXLDwzy8t4V9vr+DdZa3aYqRmwLAdo/ur3zMrzsBnLjBNRCaJSBpwGq7URJBg6YmTgVdUVYEXgFkikuUVn4OABb0kt2EYPUxCCo7v+n0nrprxsUQDjQcNT360lkc/cDEtuWHrQUuTa9AYJi3XBQsDjPE/9F7/o1vnuPYA4QDaqvo4bhIR2PGrrvHj5iXR8eA9iFYbZu7t8Gz8hu5hd1M4kygRC044uyg/K5Up3jU1rSMXVcSCk9nptbeGQp+WXtvYwtThOVErku8hdWLy28yo84rNqveiJ3ZiwclMTY7GTtGO0velE2P3rXXDgEZVm4Hv45SVhcBDqlosIteIyHF+2h1AkYgsBS7BN/BV1S3ADTgl6SPgA1V9trdfg2EYPUNCrRqAfVS1derloCKYeRN2dcQoIQBXroG3/wov/hKmHwVLX4oe8/2P4gXQtmHsnvDFq856IAJly2IOP/HhOi4/uuPmlmF5J/q2ClsSUnAaEXEK3F9P243P1lVEauDE5YtX3Lqbg4yLctJJEldscFhOevRAUvTfcUq9/yG9LpBx1omCIyKMzs9k6UZndVuzpa7tpAN/CstehxVvuv3a0m6v82N0HZ/2PYLYljCr2j8DVPU5nHspOParwHY9cEo7596LSxU3DGOQkaiLak6c2hKDipqGaHZoJP4j6J4a4zOe9v8h/GoL7Bwo6AcR60PY/fLSwo0cf/NbfLEpjotr8sHOvbVqjtsviS3U9593V0Z6YrVHOJ5mQlGW05Hi1X5pRXmd6zuVnCQUZKdFUq7b5UX/HZEcp7fTNpCcJBR5xSbctd0RdRcVtPjU+y0r3DpjSEKKyKhAFeZ15XEUHICWgDJY26tllowOEJEfACXAi8CzfnmmT4UyDGPAkqiC82+cktOthf76E6vKotlSI1vWw/Uz4ANfOuOkO+DsgFs/KckFDf+6HH5cDEdfB0PGApDjKyC/uKCEj9dU8Mf/ft72ZjN9mY5/HQ3FT8CGTyOHdihKpaqhmbWl5dH5c2+Hj+6LuUTYglOQnUZ+ZmqCFpymSFuGrWJM98ddhi03I4NtIfb7IU1DJrNGh1LUshlCIShfDfv9EC5flZCiNTIver24Bf+glYJTGn+O0Rf8CNhBVXdS1Vl+2bmvhTIMY2CSqIJzB/BN4CgGaaG/cA0VgKGL7nNBwB96y3XhpPiBtiJOsdn7okidlaSk2Kq66anJhELKve+u5I63lqOq7lpH/sFNePhs+Dzq9t8hz30p19UELD/PXgpPfCcafExUwcnPTKUoJ52NVR1ke3m21DZ27JIKMv8ut97vh7Hp7d1ERqr71xtXEIjvGb4jzd+bx2ehSUzPqnKxSS0NrmZQggR7h5XXtaP0tQTio0zB6U+sBiwoyjCMbiFRBWeTqj6lqstVdWV46VHJepHaxmZWldXytVmjeP7iL7dNi07pepDtvBVl/G/BBn7xxGf85pkFLC7xisseZwdmKY3DXHHA8ZkNANTXtG3ncMPtd0OzOx62TuRlpjJteA6LNnRci7GusYVlm2oincPjsmUlvHer237zBrcev28nr7BrhDOeWitcmWnJHLXv7uQ3bYLPHgEEphya8HXP2ncCB04fxrThOWypaceCc8iV0W1TcPoTy4DXROQKEbkkvPS1UIZhDEwSVXA+FJH7ROT0wZgmHs542n/qUHYcmde2X9E2ZBGtr6jnfwui/Z9KKr2lpZVFqHbYLgCMTXeusvratgrLFRt+DM9eQk1DMze+5CoupyYnMWNUHivLaqlpaKfAHfCd/8xnbXkdM0d1ELz8jwPgvz91Qc/VG2G3b7qsrx7gooOmAK7mUBvyRrt+Xes+gtxRUDQl4evmZ6Xx72/txZRhOSxYX9k2VRzca/p1uWujsew1qCppO8foC1bh4m/SgNzAYhiGsdUkquBkAg1Ee1ENqjTxsIITDhCman3shK1UcH7oG0KGWVISdTd9tLrcualaUZ0zEYC9tjzNQUkf01gbv/6OLnkxpmEmwMSh2ajC2vaCaoG3l7rCgt8I1vhpTbgJ6OPfca6hfb7b/txtZJ/JRay49muMzo/z3ub5ujjrP4bsoV26/opSl2r/4wc/ij9BBLKK4IuX4Z8HdukeRveiqler6tXA9cD1gX3DMIytJiEFR1XPjbN8q6eF6y2qfO+icIVdajbB2L2iE1Iy4pzVPpd8ZQcW//Zo0ny7h+J1FQzNca6YG15czD3veu/efj+InFORNRGAyRue5+60PzKz+E/uwOzzCAX/TDWbXd8mYLZ8DtfPYId69yXeXtZQKKQkJwnnHTCJCUUJpHyvfhd2OR1G9FHiXN5oty5fCTnDu3SJcOPNDZX17WdThf+u1Ru6dA+jexGRL4nIh0AxUCwi80Vkp76WyzCMgUmihf7uFpH8wH6BL/43KKhuaGXBqS2LtRx0wUWVlpLE3CsPB1y9l2Dwa9iawj7fi4yVZcYG0o4q8wXu9rqQR0f+ODIu2sLazRUk08Ij6ddA1Tp2+O/p/Djl4XYtOO8uL6W+KcQOHbZlaBWkPPHLnb3EniN7WPztrWCPCYU8+b39UYVP17YTt2qNo/sbtwKXqOoEVZ0AXArc1scyGYYxQEnURbWzqkbyln0F0N16RqTeJ9yDKjei4JQ690WY5AQzj1oxJCuVTN+pe0zAFZMdthQFspO2JBXSpLFdvXX0bjy0MpuXV8V+EVevXcDsjFg32o9SHue1T+PHfZ9xm1OW9p5cGPc4EO33FKZoavx5vUFQufQFFLtCWKmMW/APIHd0l69t9AjZqvpqeEdVXwO6t8qkYRjbDYkqOEkiEokGFZFCEq+C3O+JxOCkp7jqwq0VHJF2zuycXcYNAYhpIRBWeoKBxj9/dhmpEqvIrK0RLnv0EzZqbIG7q9ZeyINc1uZeS1aubjMWjvdJT0lifGEHTTPrtsTu545of25PkxF4vTt0Pci5ICuV7LRkVpe10xH+KJ+qH/xbG33JMhH5pYhM9MsvcJlVhmEYW02iCs71uEJ/vxGR3wDvANf1nFi9y6uLNgIu5ZrGalcIrpu+9H5/4ixSk4VDdhjO7We5ash1TV6REYEDf0rzN+5r07vqi9Aoft/iUskrUtqxvOx6JlwQ+cFLUnMttY3NVDc0c8G/5/GXl5ZQ5d1vP/nKDtEO6fGoa2XByelDBScp8G85Zo8uX0ZEGFeY1b4FZ8zusMc5sR3Gjb7kW8Aw4DG/DPNjhmEYW02nVhgRSQKWAl8HwgVJvq6qg6br7vyVW9hvSpFr0bBlrRvMKoIzH3WZPNvA5GE5LP7t0RHlYsaovEgncAAO/QVLN1QCb0blOeF1TnpgLeNDWUAt3/7qvq6VYIAX9rmHI4881ilJp90HD5xBJo2UVjfy7rJSXlxQwosLSjhwunP3FGR34Gabe3vblgUp6fHn9jZJ26Z8jC3IZM2WthacUEj5z3srObw+jVE1G127jOEzt8laZ2wb3vX9w76WwzCMwUGnCo6qhkTkFlXdDRg0Sg04981/3lvFxqoGjt/Vx2PU+LopWUUw9XC3bCNBy0lBViorSmsJhTRS9XhNWayFYfoOM8nNKGFVWS0j8tI5Zd/p8AK8kbIvC+qLyKaeglG7R7+MfRB0JvWU1jTy3vKosrJwfVXkvnFpaXKVksOcdAdU94O6MGc/3S1NPscWZDHni1JUNebvsHRTNb98spgP07O5QYC/7+eCvo/6/Tbf09g6ROTPqnqxiDxNsCGZR1WPi3OaYRhGhyQaR/OyiJwEPKbxirgMUN5YsplfPPEZADnpXgGoDSg4PcBXZ43iF098xtwVZew92d2jqSUEwIoTnmAiG8jNTOOYnUdz//urXFwQwBVr+fNt8/lgjauPc09WwMLiFYEsaaC0uoH1FVGFaclGp+C026KhZnN0Oz0PZp3cHS9z25nUPbVpxhZkUtPYQmVdM0MCSl64EvRjDXtyw45fdt3FV7/XLfc0tpp7/PpPfSqFYRiDikRjcC4CHgYaRKRSRKpEpG0vgQFG8bpo+nAkg2r5626d1UHG0TZw7M7OUvSNW9+lsdkpNo1ewQmN2RN2PR2ASUNdQHBEnUzP4efHRvsO5mcGFJaIBaeR0hrnpgqnhIeLDBa256IKWmsy41QVHuDk+ZYQlfVRt2Dxugq+eUdUmQl94z6XFt86k8zoFVR1vt/cVVVfDy7Arn0pm2EYA5dEC/3lqmqSqqapap7f76Dm/8BgcaB/U6QGzpyb3bqHLDhDslIjVplwbEhY0UlNjv45wgX5Iq0dIFIsEKK9nIBINlYmDVz2yCd8vqGKHUY6BWdxSScuqppN0e2jru3KS+rXhN/r6kAbi6c+XkeDf88BSpvTYfgMqN7U5nyjVzk7ztg5vS2EYRiDg0QtOOHifnuJyIHhpScF61E2fg5NdXyyJmrByctIgVAgTTtjSI/d/q5z9wRgpU9fDltwwpWPAXYb71KlaxqjMuVmRJWUoLsl3Bw0SxoiQ2MLMslMTWZjVQNJggugjkf1xuj2NmQs9VfCNYeCfbpKKmKLGm6sqncVkxsq2hY8NHoc3+PuaWCSiDwVWF4Fyjo73zAMIx4JxeCIyPnAj4CxwEfAPsAcollVA4eGKvjb3oRmnsiK0lMiw7kZPkUcYJczejSbZnyRU0hWlToFp8lbE9ICFpzhuRnsOi6fI2ZG07UjbjS8QhYm4qIKKjhZDM1NY3VZHflZaZGA5jYE3TJdbIvQnwlacBqbQ/z22QW8vHBjzJyq+uZoYcO/7AIXvAxDxva2qNsz7wDrgaG4khRhqoBP+kQiwzAGPIlacH4E7AmsVNVDcFWMB2bAQr0LHapc8CKhQLj0kMxUaPAKzvi9e1SEoux0RKC02ikkTS1OkNSU2D/HE9/bn+8dEq0oHHRhxdS08S6qLJz1YafReZy8x1iG5bhA5Pz23FMA9d6K9f35gzJFOidiwWnh2U/X8e85KyO1gcJU1jXBjse6neoN8MLPe1vM7RpVXamqr6nqvq1icD5Q1ebOr2AYhtGWRBWcelWtBxCRdFX9HNih58TqQXzHbNFQzPDEodnOugOQltOjIiQnCUMyUyn39XAiLqrkhD2GrS6YCmk5XJr6CPeePoVnfnAAaSlJDPUKTmF7GVTgFL70PBjah60ZepDsdFdHp6ahmc8DMVcn7jaGU2c7K01VfTMkByxirf43jN5BRPYRkbkiUi0ijSLSMhiSGQzD6BsS/UZd45ttPgG8KCJPAvEbH/VnKtbAemfxllblNnLSU6IKTnrPx0/nZ6ZGUpWjQcadW1BSkoR9J8cJgPbutQM23BOx7gzPcwpOhx3E6yt6NN6or8n16f9VDc0xBRbP3Gc8lx89wx0LZFgB/afI4fbHzcDpwBIgEzgfuKVPJTIMY8CSUAyOqp7oN6/ygX9DgOd7TCpARI4C/gIkA7er6ran+Nw0G5pdjZhkUXYfn8+ekwrZUtPojjeGFZwOum53E0Oy0thS6+7b2BIiNVk6bqXgWfzbozueMOdm2OlEGDubyUNzODjpQ65fcAZcBXzjPzDjmNj5g1zBCVpwttREFZnhuRmRmKbKcJuMwilQ9oUrfmj0Caq6VESSVbUF+JeIfAhc0ddyGYYx8Njqhpm+NkWPIiLJuF9uRwBrgLki8tQ2t4dojhbASxF47Lv7xx6PWHB61kUFLm37naWlLNtUTVNzKGH3VLvBwifdAY+e57bfvAFOv4/jdx3N9NffgfD39bw72yo4FasGtYKTkpxEekqSU3C8QgkwLDed1OQkMlOToxac8/4Hf92tf1Ry3j6pFZE04CMRuQ4XeNxFv61hGNs7HT48ROSDzi6QyJwusBewVFWXqWoj8ABw/LZccNPmzTH7ybTAiregakN0MBxk3AsWnPzMVBpbQhx6/evOgpOyjc/xYAXiOpdZW1Q6nwOa3o6OZw+LPaekGDZ8Gtu9exCSk57C5urYFhYZvqN7bkYKlXXegpM91Fm/NnzqLFutO6wbPc03cRbb7wM1wDjgpD6VyDCMAUtnFpwZItJRmqbg3FXdzRhgdWB/DRCT2iQiFwIXAowfP77TC4aqN/FFaBRTktYDkKJNcNfXIGck/GSRmxQJMu4FBScQ+NvUkrgFJyHKlrn1v1q5syrXRrdrSqPZQgdc3H337ofkZKTw6Adr4h7LzUihqiHgkhq1M3xwN1zr/6euqoh7ntH9qGo4rq8OuLovZTEMY+DTmYKzYwLXaOl8SvejqrcCtwLMnj270/5YGSOmsnfj9YygjPNTnuOClOfcgeqgBaf3XFTB1O3GZo1JAe8yE/aHlW87F0tj2w7aVK6Lbs+7E5a96rZHztr2e/djMlKiHcnvPW/vSJVncK0c1lfUR5txzjwxtvmo0eOIyKfEabIZRlV3bu+YYRhGe3So4AR+UfU2a3Hm6TBj/ViXyU5zX3IlFDI/NJ0LeC56sL4SMvJckHFyeq9k0USaaOKCjNO21UUFcO5z8PED8PhFscpMmHAjUYCKgIHMFwocrCwqiaaHHzBtaJvjH64q56ZXlvLDw6ZBdhEvZXyFw+v/5w421kJaVs8JV7kOckcNyhpEW8ExnU8xDMPYOvprAN9cYJqITPJBh6cBT23LBVMCFpKTD94z9uBa3+uvoapXrDetaWhq6T4XVd4Yt65cA+nee3jUH+Ggy13V4hYfb1K1AbKGwrffjn+d7YQKnzp+2xvLImNvVY2MTqjZ2PoUx5aV8Mafup5xVVsGj54PN8yAj+/v2jUGCb7Q38rAD6ppfnsj1qrBMIwu0i8VHF+99PvAC8BC4CFVLe6u6xeNmhA7sPQlKH4cSr/olQBjiK1E/L8FJd1jwQHIc93KqVznWi+M2wf2vijaPDQcOFu13vWeGvml7rnvAGDuzw9vMxbuURWubtzcEuLNUMBl91C8/o/A7YfDK79xgepd4dlL4dOH3fYT34HK9V27ziBCRC4AHgH+6YfG4mpvGYZhbDX9UsEBUNXnVHW6qk5R1d9157WLRowHxFUsnnIofPYoPHwOLH+9VwKMAfaaWBiz/+2DpnTPhcMWnIq1rmrzsOnO/ZHtFZzaUlCF8pVRZWiQU5jtArqH5bZ1PVb7GjjhIotV9c18oWP4WdMFbsL6j2CTD0LfuBBunAWv/7+oZSfo6tsa6lsFL9+wIyz6b9euNXj4HrA/UAmgqkuAwdcgzTCMXiEhBUdEvi4iS0SkQkQqRaRqIJdQH1mY66wbQ8ZC4WRnzQjTSxacWWOH8PlvjmLOFYfy2dVH8rWdR3XPhVMznOupck20DQNELTiPXeAsVfUVMGqX7rlnP+eZHxzAo9/ZN+6xq47bCYCstHDRP+dyerDlEKovet9NWvmOWz97qasb9Opvoxco76KCk+f/3imB+KeXf9O1aw0eGnxZCABEJIUOgo8NwzA6IlELznXAcao6RFXzVDVXVXu+n0EPkZaSBEXTYOj0qMUjTEbvvayM1GRGDcmMCTjuFoaMgc1LXGHDsGIzzCfEbfgk+gU9bq/uvW8/ZXR+JntMKIx77JTZ47jwwMk0NLtkwIpAO4fS1DGQPRxWzYGmepehFmbKoe5/pyJ++nmnqP/evihQNzM1o2vXGjy8LiJXApkicgTwMPB0ZyeJyFEiskhElorI5XGOp4vIg/74eyIysdXx8b7/1U+66XUYhtEPSFTBKVHVhT0qSS/wtZ1Hsft4X9Tu1LvhuL86K06QzPhfhAOKvDGw6l23ne/rueQGAmeLH4fRu8OInXpftn5IZmoy9U0hQiGNFv0DSmubYPw+sHJO22DjodMhqzCxYoA1m9uO1VfAsBlO0Q6TMriz2RLgZ8Am4FPgIuA54BcdnRCoen40MBM4XURmtpp2HrBFVacCNwJ/bHX8BmC79w8axmAjUdPBPBF5EBfw1xAeVNXHekSqHuKWM3aP7mT7dOExe8ROyhokCo768kT5gSKIP/gA/nmQS4ffjoKLOyPTlxCob26hvC7azqG0utHVFlr4FKz/OPakoqmuEnRnCs6i/8L9p8HZT8OkA6PjDb40QVISTPwyrHgTVr7lsqsGw//gVuIVlWJV3RG4bStOjVQ999cJVz0PtnU5HteNDVwQ880iIqqqInICsBxXOdkwjEFEohacPKAW+ApwrF8GR+2Koilw9jOwy+luP6mb3UV9wZCA261gUnS7aAp8+RK3HQr1rkz9mCyv4NQ1tlBWE1VwymoaYIKP3fn8udiTiqZCZoFLve+IcJbV2lYdTYJNTs95Jjr++TNsj/jmmotEpPOy5LHEq3o+pr05PkOzAigSkRyc1ajDqskicqGIzBOReZs2bdpK8QzD6CsSUnBU9dw4y7d6WrheY9KXo+6aprqO5w4ExFfuHb8v5LTqP7XbN2H4TrDXBb0vVz8l3JeqpqGF//eCy5jKSU/htUWbnCsKYM1ct977O2494kuQmQ+bPod1H7V/cfWKpAQ+aqGQq6MTdBue4xWozYu39eUMZAqAYhF5WUSeCi89eL+rgBtVtbqjSap6q6rOVtXZw4YN62iqYRj9iITMFSIyFrgJl8IJ8CbwI1XtYoRlPyTXZ7VkFvStHN3B2NlufeBP2x7LGQbffad35ennhC04r3xeQpVPGz9yp5G8vXSzq/KcOwpKl7jJB10GR1wDKWm8vKKJwwBuPaj9nlUh7ypMiraLYOMCZ/mZEOhmP3F/1zJj4+fd++IGFr/swjmJVD0Pz1njM7OGAKW4/nYn+87l+UBIROpV9eYuyGEYRj8jUX/Mv4D7gFP8/pl+7IieEKpP2OnrrpJx2FU1kJmwH/xspbMwGJ0SVnAWlUR/yA/NSWNLrXdXFUx0pQSS0ykLZVGY4urqvF8Ch4VbirU0Q3Kcj1PYgqMBl2BYWRrRKg4qfwKULt3GVzMw8TE4//QxOFtDpOo5TpE5DTij1ZyngLOBOcDJwCuqqsCXA/e/Cqg25cYwBg+JxuAMU9V/qWqzX+4CBpetNikJZp87eFJ1TblJmLCL6rO1zgpz7C6jGZKVSkNziPqmFlczCajPGcvuv32Zpz5eR1V9Ews0UBG7vZYOIZ+V1RDwgoRTy1tn8OVPgPJV0RTy7YiuxuC0V/VcRK4RkeP8tDtwMTdLgUuANqnkhmEMPhK14JSKyJlAuGnO6TgTr2EMePIynBlmbXkdI/MyuOn03bj//VUAbKltZJR3W1ZmuMrPz36yjpmjcvkgFEjxrtoQrQy97kNY9Dzs9/1oh/qGaMNPKta6KtrhIOMw+eOgqdZlUoUrT29fhGNw3ieQ1aSqx7V/iqt6DjzXauxXge16otbn9q5xVRfkNQyjH5OoBedbwKnABmA9zsx7bk8JZRi9yZBMp+CU1TSSne6sOfl+bEtNU6Q2UnGNKwL5QnEJi0uqqSGTUxr892h1SfSCr/wWXr8W/jAWynwTz3dvgWbv8ir7wqXvt+4gnu2NorVx6uZsH/wSl515DXB9YDEMw9hqErLg+M6+Hf6KMoyBSl5mamQ7XFU6P8vF2ZTXNUKyO/5ZeXTeYx84N9MGfFB6sB5O0FqzLpAeXr7StQZZ9R586cS2goTr39Runw20VfV1ERkB7OmH3lfVdnx/hmEYHdOhBUdELvPrm0Tkr62X3hHRMHqW3PSUiDElJyOs4Dhlpry2KRI/U63RSsMvLdxITnoKFZoDwNyFX7gYnprNzs0UZMphbn3fqbB2PjRUtC0wCdG2GrXbp/dXRE4F3se5k04F3hORk/tWKsNwXHTPPC7897y+FsPYCjqz4ITbM9hf1Ri0JCUJeRmpVNQ1ke2bbhaELTi1TTQN34lU4BOdHHPeXpMKefXzRlpIYk7xUu5dNpf3m05qe4N9vwdfvOzcVU9f7MZa90CDaJuQ7VTBAX4O7Bm22ojIMOAlXPVhw+hTXigu6XyS0a/oUMFR1XCju1pVfTh4TEQ6DNozjIHEkEyn4ERdVD4Gp7aRF4sO4bqG61mhsR3fdx+fT2ZqMhWLs8inhuz0FGhqdeH0PJh8cHR/o+8gEA5IDhK24NRtny4qIKmVS6qUxOMEDaPbaAkpN7+ylJP2GMPYgqy+FsfoIok+PK5IcMwwBiRhhSbbKzgZqclkpCZRXtvId+/7sI1yA7Db+AL+ePLOFEo1Z6W8yBFZSyLHXkg5lL+P+SON33nfFfn7/nx/xKeAx1Nw0rIgOS2xBp6Dk+dF5AUROUdEzgGepVV2lGH0NOvK67jvvZXc+NJibn5lKStLa7hnzoq+FsvoAh1acETkaOCrwJhWMTd5QHP8swxj4BHOpAorOOGx295c3mbunefM5sUFG9lvShESyIS6cuNPItvFdYX89YtxZC1o4Oz9gKFTYcdjXK+pjHxn2YlHem5szZztABGZCoxQSh3TpQAAIABJREFU1Z+KyNeBA/yhOcB/+k4yY3vkjNveZUWpi6PLSU/hlH/MYWNVQydnGf2Rziw463DxN/XA/MDyFHBkz4pmGL1HWFEpyk6LjFXXR3X4q4/bKbJ96I4j+MPXZ0WVm3PaGhk24gotfrgqYI0JKzUjZ7VNEY/MyY3Nwto++DNQCaCqj6nqJap6CfC4P2YYvUZYuQGoqGsy5WYA01kMzsfAxyLyH18x1DAGJU3NrpXC0NyogrP7hALeXLKZY3YexQm7jmGPCQWsK4/TjLVwcpuh9eriab7YVBMdzPAKzvAZ7QuyfSo4I1T109aDqvqpiEzsfXGM7Zmc9BROmT2WuSvKKK1p7GtxjG2gMxfVQ6p6KvChiATrxwugqrpzj0pnGL1EU4tXcHLSI2N/OW03nv10PWfuPR4RYUjWEL40Zkjbk7Pbdi3ZoK4+zpKNVaiqs/aEO4rHy6AKk563PSo4HfUVyezgmGF0Ky0hpbqhmSGZqRRlp1NabdabgUxnaeI/8utjeloQw+hLGr2Ck5UW/UgUZqfxzX0mtHdKlDhNNtfpUADqm0JU1jUzJCsVGn1sTUY78TfgLDiV6xIXfHAwT0QuUNXbgoMicj7OJW4YvULYLZ2bkUpRdhpLN25f8XCDjQ5jcFR1vd/cDKz2FY3TgV1w8TmGMSg4a9+JAEwemt2l85sPvIKNms+k+nuZUX8n71x1Atd+fRYAm6rr3aRw8HBaTvsX2j5dVBcD54rIayJyvV9eB84j+iPLMHqcynpX5yE3I4WinDQ2VNa3mRMKbX/NcAcqiaaJvwFkiMgY4H/AN4G7ekoow+htTt5jLCuu/RoFgSDjrSHl0Mv59LT3UZKoI4PcjFTGF7n6GZEgxb2/7dLAJx3U/oXS81ya+HbUUVxVS1R1P+BqYIVfrlbVfVV1Q1/KZmxfVHkLTl5GCkU56bTEUWbC1l6j/5OogiOqWgt8Hfibqp4C7NTJOYaxXXHg9NhYnOG5Lp7nuucXuYHxe8MvN0HuiPYvMmpnqC+HTYt6Ssx+i6q+qqo3+eWVvpbH2P6IWnBSYzIqgzQ0mYIzUEhYwRGRfYH/wxXfAkjuGZEMY2CSmhz7cRpXmMWw3HQ+Wl3O8s017ZzVign7u/Wbf4J7ToSQPUwNo7eIWnBSYxIOgjS0tPSmSMY2kKiCczGucvHjqlosIpOBV3tOLMMY+KSnJPOvc1xj7EUbKhM7KVzh+NOH4YtXoMaaaRtGb1EViMGZOjyHzNRkvjQmNimgoSnE+8vLIpmXRv8lIQVHVV9X1eOAW0QkR1WXqeoPe1g2wxhwHD5jBJccMT2yPzrfZTmvK28brBiXtGxIy43ul6/uTvEMw+iAqkgWVQrjCrNYcM2RPP39A0gK1OVcvrmGU/85h+c/s/Cw/k5CCo6IzBKRD4FiYIGIzBeRLsfgiMgpIlIsIiERmd3q2BUislREFomIVUs2BhS3nz2bHx42LbJfkJVKekpS/AKB7ZEzPLpdvrIbpTMMoyOqAjE44CqciwjZgfIR4cyqNVvqeHPJpt4X0kiYRF1U/wQuUdUJqjoeuBS4rZNzOuIzXMDyG8FBEZkJnIYLYD4K+JuIWKyPMWAREcYUZLJ6iyv/fsP/FvHG4k28vXQzx970VuSBGkNuoLFn1fq2xw3D6BEq65tJT0kiLSX2qzErPfo1VF7rqhv/572VfPOO99lkrRz6LZ0V+guTraqRmBtVfU1EulYwxJ2/EIhpVOg5HnhAVRuA5SKyFNgL13TPMAYkO47MpXhdJarKX19ZGhn7fEMVLxSXcPIeY2NPmHgArHzLbddX9LK0hrH9UlXfRJ5vvBvEWXCcIlNW436UrPVW2Yq6xv/f3nmHyVXWe/zz26k7s32TTdv0hJBGEhKQIr0KAiogcBUbXkBQwXrBgopgQ0UFpHhVLHgRURRpgdAFAoSSXklPNtneZ3bae/84Zc6U7WV2N+/nefbZmdPmPVPO+z2/ytjC7AHJmtzSUwvOdhH5tohMM/++BWwfhPFMApxBB3vNZRrNiGXu+CJ21bWztyHpprJqaWStlDrXUTg81DjYw9NoNCbN4RiF/sz7/mwWHKtUVUtYt2kcrvTUgvMZjCJc/wAU8LK5rFNEZAUwPsuqbyql/tWbQXZy/CuBKwGmTJnS38NpNIPG3AlGFsYJP0kmHu4yOxY3hbI08xu3APzFhvVGW3A0mkGnrrWDl7bW0ByKUuTPtOA4W7jUpzXgbO3QAme40l2zTT9wNTALWAt8RSmVJWggE6XU6X0Yzz5gsuN5pbks2/HvA+4DWLZs2aFT9lUz4pg3MbP3lFUhtbE9y89JBG7YDfeeqAWORjMEfOmh1by0pYaSgIfFkzN7vxb4klNlQ3uawNEWnGFLdy6qPwDLMMTNB4DbBnk8jwKXiohPRKYDs4E3Bvk1NZpBZUKxn88cP53/el+qpXFSST5NoS7uF/zFsHU5bHl6kEeo0RzaWIHCje1RirPE4AS8SRdVugWnRVtwhi3duajmKaUWAojIbxkgsSEiHwbuAMYCj4vIu0qps8wigg8BG4AYcK1SSpeN1IxoRISbzpsHwGmHV3DFH1ZRFvRy+PhCqpq6qI/jN+8k/3IxfFdbcjSawcIpYEqyCJzZFYVMKmlkX2OIhjSrq7bgDF+6s+DYn6RSasA+RaXUI0qpSqWUTyk1Til1lmPdrUqpmUqpOUqpJwfqNTWa4YCVbZHvcVEc8HRtwbGqGveG/e/ALp10qNH0hnxPUuBks+Bcd/ps/nmt0UYlw0WlLTjDlu4sOItExKoxL0C++VwApZTKDC7QaDSdUpJvNPCbO6GQMQU+alo7SCQUeXkZJRNS6+H0hEQc7jvZeKwtPhpNj/E7BU4ge5NNn8ewB6i0iE8tcIYvXVpwlFIupVSR+VeolHI7Hmtxo9H0kinlAe64bAk/++hiKkvzicQS1LZ2Uijs6P82/nsLenbwPTpcTaPpC/nduKgAvK7s02VLOMa9L77HX17fPShj0/SdntbB0Wg0A8R5iyZSnO+hstToU7WnoZM2Dt4gHPt5wzLTE3a8aPx35w/AKDWaQ5NsLioAnzv7dNnWEeOHT27iG4+sHcxhafqAFjgaTY6YXBoAYK/ZxiErnnyIheDFn3R/wLZa43+e7m6i0fSGcDR5E1ESyC5wRCSrFSfdRaWUysi00uQGLXA0mhwxybTg7O3MggPQWm38f/7W7g8YaUv+TyT6OTqN5tDBKXA6s+BAdiuOM4sqnlBc88DbHPn9Z9hT38WNi2ZI0AJHo8kRAa+b8qC3awvOCV8x/pfN6P6AEavtgzKsPocIInK2iGwWkW0ickOW9T4R+au5/nURmWYuP0NE3hKRteb/U4d67JrhQUc0eUNQ3IkFB7CbcFqF//I9LpodDXOf3XiQJ9cdAGC3Fjg5RwscjSaHVJbm2xaceEKRSKSlaJROhZO/AfXbDTdVumUm1gG3L4RNjyctOJD6eBQjIi7gLoxCpPOAy0RkXtpmVwANSqlZwO3Aj83ltcB5Zq2vTwJ/GppRa4Yb4VjPLDhWttUxM8o5dkY5R08vS0kSeHFLjf240+QBzZChBY5Gk0MqSwO2wJl701Ncet/KzI1mm11Pnr8Vtj2Tuq56IzTthn9cCU2OPrWRLE08RydHA9uUUtuVUhHgQeCCtG0uwKjKDvAwcJqIiFLqHaXUfnP5eowyGLot9CGI5aIKel343J3HsJ08ZyxgFAb8vyuPYUpZgNrWZLzNK9tq7cfvVbeyo7bNPv5l961k3T5dvmEo0QJHo8khlWX57GsIkUgoIrEEb+ysz9xowpLk41BD6rqD643/kVao3ZJcfohYcIBJgEPZsddclnUbs2BpE1Cets2FwNtKqYzbbhG5UkRWiciqmpqa9NWaUUA4mmDp1FLu/NiRXW539UkzAagwC3amdx7fWdfOnHGFeF15/Oq5bZzy0xcA2FPfzmvb63hrV9rvVzOoaIGj0eSQytIAkXiia399Xh58wGwD15hWa+NAWmqqzyxPpZt09hgRmY/htroq23ql1H1KqWVKqWVjx44d2sFphoRwNM6ssQWcMqeiy+0mlwV4/qsn85Uz5wBQXpBp8JtVUcCYgmSxwHhC0WhWLG8J96hXtWaA0AJHo8kh1p3gmu5M1++7EoIVqW4ogKrVqc87zMLjbbUcIuwDJjueV5rLsm4jIm6gGKgzn1cCjwCfUEq9N+ij1QwrqppCTLvhcapbOvB7ejYdTh8TtAsDOoXM9DFBAMYV+e2WLAA/fXozf33T+N226L5VQ4oWOBpNDrFM3C87ghNVei14i/xSqNkCP50DB9YZAccH1qRuM26h8b9tYF0pSqnOx5Vb3gRmi8h0EfEClwKPpm3zKEYQMcBFwHNKKSUiJcDjwA1KqVeGbMSaYcP6fc32Y2e7hp4yxmHB+flHF3H96bP55HFTcTvq5dz9wns8/NZeAJq1wBlStMDRaHJIkd/I2HjknaTRoS3SSeViXyHsWQmtB+DFH0PDDiP25qwfwpc2wOdeg0/809i2vW5Ax3nD39cy/cYnBvSYA4EZU/N5YDmwEXhIKbVeRG4WkfPNzX4LlIvINuDLgJVK/nlgFnCTiLxr/nXto9CMKpwtGnz9FDilAS/Xn34YU8uDnbqitItqaOmu2aZGoxlELAtOzJEefqApzKyKLP2nfIXJxw07oGaT8XjK+6B4kvEHkF+WLBA4QPx1lWFijycUrmyNQXOIUuoJ4Im0ZTc5HoeBi7Psdwtwy6APUDNsicaTZRd66qJyUu5wURU4Ao47c0V1ZsFRSiEyvH5XowFtwdFockihP1lzY1KJUdl4d30nGVBOgZOIJ+NsgmlGh+BYWPVb2NR3i8vfVu3hoVV7MpY3h/QdqGb0EHJYS/1dpId3Rqmj87hV/A/gjsuWsGBSZj/qbBacmpYO5t70FG/v1hlWA40WOBpNDnFeFBdPKQFgd52RUfX0+gP8+oVtyY19jgumy5t0QwXSMp4XXWL8f/bmPo/raw+v4esPr+G7j66nzdFrp75d99jRjB5CjhYNfYnBcVoznW0clk0r46Grjs3YvrE9yjtpQqaqKUQ4mrB/95qBQwscjSaHeN15WJbpOeMK8biEqqYwb+1q4Mo/vcVPntpsX/hiOEzYKm4IHHc+eAOpBz3uOjj8g9C0F/oQGOwMJr7/1Z189g+r7Od3PrdtuAYbazS9pt1pwemDi8pJuosp3+PK6F21o7aND//6VXbWJq20YbNNREesk9g7TZ/RAkejyTGWXhhX5KPA5+bel7Zz4d2v2utf32FYatr2bUruFGmH9vpM6w2Ayw1Tj4NIi7FNL2kOpcYJvLY9GbD8yDv7dKyAZtQQ7qcFpytEhLKgN+u6tkjyN2ZZkSIx3SB3oNECR6MZJkwtDxL0Zcb9b6xqAeDJiddQo4oBSETaoHkfBLMIHICSqcb/xp29GsPLW2tYdPPTWdctmlzC8utP7NXxNJrhjNOC43X1bTq8ZNlklpju5XRKA16y3Q84Y38skdWhBc6AowWORjNMmD4mmBKTY7Gtxugr9XL7NI7quJvfx84ir/UA7HoFpp+U/WBjZps7PwfRnncW/8WKrVmXX3XSDP517fHMGV+Ydb1GMxJxCpxwH11EP77oCB655vis68YX+5kzzvjNOON1Wh1xbVrgDB5a4Gg0Oeb+Tx/FWfPHUVHoy+htA7C/MURzOMrzm6sJeF2EMGtvJGIw9XjueHYrF9/zaupOYw4z0sWfvwV+PA1CjT0ay4Riv/34no8n+/Kcd8TEXp+XRjPccbqoQp3Vn+oH3//QAu69fClnzBvHaYcnsx3bOrQFZyjQAkejyTEnz6ng3suXISJZLTj7GkL8e/V+2iNxbv3wAqLO8lXFk/jZM1t4c2dDysUaESgyRUksDD+eCrXZrTNOnGnry6aV2Y/nTshMedVoRjrtkRjuPOEjSyZx7hETBvz4k0rymVoe5DefWMYJhyX7mLWlWHAMYaNjcAYeXehPoxlGZIvBCUXjfPORdQB8aPEkEruC8K6xLhyYABgNOLccbOGISkcswLwL4OC65PP6HUnXVSc4Tecl+R6e+dKJ1LVFhl1xP41mIAhFE0wuC/DzSxYP+msVOayz2V1UOotqoNEWHI1mGJHuolo6tdR+PH9iESKCK5EsFra7PZmlsbGqOWVfTvgqXLMSPv+W8TzcvZvKWcjP7cpj9rhCjpnRSSCzRjPCCUViA5491RnnHTGRuz9muH2dFhydRTV4aIGj0QwjnL1tAI6bmRQXv7DuMs/8PgeWXMcJHbfzgqNJ5//8fS3NzkqpeXlQMddo0gkQ6r5SanM4yqLJJbzw1ZP7fA4azUghFI0T8A6NwMnLEz6wcAJeVx6tkUwXlY7BGXi0wNFohhGTS1OL9k002zekPC6oIO/Ub7BHjeMHT2xK2f6N7Vnq3viN1PKeCJzq5g6mlgWYNibYu4FrNCOQ9kic/CGy4FgEfS7aswQZawvOwKMFjkYzjEh3UZ16eAUXLa0EUuNznD1wADbcfBauPOHNXVkEjssNvuJuBc6BpjD7GkMsmpy9podGM9oIReIpHcWHgqDPnRZknBmD8/buBs74+Yv86919Qzq20YYOMtZohhFHTS8j3+PinsuXMqnEz7giPz+58Ah+9JGFKdt50oqSBbxujqgs5q2dnYiY/JJk76pOWLevCYDFWuBoRgA7a9tYvbeRCxZP6vMxQtGht+AU+Ny0dsRoCkXJk9Q08Z8u38z22lZ217eztbqV13fU9+v8DnVyInBE5DbgPCACvAd8WinVaK67EbgCiANfVEotz8UYNZpcMKbAx8bvn52yLC9PyKP7LKYlk0v5yxu7UEpltlMonQZ173W5/w6zP87Msdo9pRn+nPOrl2mPxDl/0cQ+tw8JRYYuBsci6HPTFomx6HtP48oTTp9r1Md5YXMNL2w2YuomOVzTfWV7TSuPraniC6fO6tP7Y/WcG8mtWXLlonoGWKCUOgLYAtwIICLzgEuB+cDZwK9FZGi/fRrNCGVckY9wNJFSndVm7ByjDk4XjTK317ZRFvRSEsjeP0ejGU5Y3/P+BOeGIvEhy6KyCPrctJoxOPGEsoOMnVjJAh1Z1vWUx9ZU8fNnttDQHu1+4ywc9q0nufS+lfbzxvYIr2yr7fN4ckFOBI5S6mmllOWEXAlUmo8vAB5USnUopXYA24CjczFGjWa4M88svvfYF94PQKnZ2K++LZK5cdmMbptv7qhtZXp6cHFrDfz+XGiuGphBa4aEFRsO8u6enlWvHuk4a8r0lqHMorIo8LlSYnBawpkCpCVsrO9PbRyr5ENDe5brQQ+IxhWv70heLy65dyUf+9/XR1Qw9HAIMv4M8KT5eBKwx7Fur7ksAxG5UkRWiciqmpqabJtoNKOax7/4frb/4BwWTDKypMpMy8vB5nBqVWMAvxlX09HU6fF21LZlCpy374dd/4E37h2oYWtMmkJRlq8/kLLsQFOYo29dwdaDLf069mf/uIoP3fVKv44RiSXYbvZBGwp+8tQmrn/wnV7v19ZHgdMeiRFLqKHPovKmBhm/V9PW6bb9sU5ZIumOZ7dy74tdu6fTUQ5L77f+uZbtNa1sNr+TfX2/c8GgCRwRWSEi67L8XeDY5ptADHigt8dXSt2nlFqmlFo2duzY7nfQaEYZIkKeo8KwZcG56J7XWHzz03zjkbV8/eHVxh2XlSoezi5w2iMxDjZ3ZAocMS8RjXsgGh7wcziUufXxDVz1p7dYvz/5mWyvbaW6pcOeTHLJZ/+4ilN/9iLR+NDcsb+7p7FPVidnX6fe8K939wOpLUmGgqDPnVJQsynUuQupPwLHcnP98939PPzW3l7t2+Zwc/955W6ueeBt+3l/LGZDzaAFGSulTu9qvYh8CvggcJpKysV9wGTHZpXmMo1G0w1lwWTsTDia4C+vGy0cdta1871FwlzoVOAcaDLEy8QSf9oaU0Cte9joaXVpr+9FNJ1gxZBs2N/M/ImGALUm69ZwzyeRg81hyoNe3GZmneoizqo3vGQWkQxH4xlZe4NBUyjap8mzLdK3CfePr+1i/sQijpkxtAKn0O9OERBdEemHi6rF8R2qae3o1b4NaW7u7Q4rU1/e7x89uYlQJMb3LljQ6337Q05cVCJyNvB14HylVLtj1aPApSLiE5HpwGzgjVyMUaMZaYwvShcnBm/sqOfL/9phPAk3Z92mpsW4AKZXUibicFFsfabfY9QkmVxmFHXc4rDWWOb/lh4KnNaOGO/7wbPc/NgGe9lAVMR1xnGlx1wopbq0OvSVplC0x+ftHJMlihIJxR9f25npns1CNJ5g84FmTj28YsizhJw3It0xEBYcgMb2aK/ieRrTApMjDiteb8S3xdu7GnizsxIWg0iuYnDuBAqBZ0TkXRG5B0AptR54CNgAPAVcq5TSHcg0mh7QVcGyZmVWSH7ocnjqxpRsqlsf38D//H0NkEXgODuQ55eiGThi5qSxdl/SqtZiCZweWjLqzDvzf7ydNHQPhAth5fZkzaRImotq+foDvO8HK2jqY3ZOLJ4gkVB0xOJ885G1HGw2rIfNoSgdsUSPglgbHYGzlihcvbeRm/61nmc3VvPSlhp+sWILTe1RQlmsJfsaQiQUTCkLZKwbbDJ+Yw7GFqau620WVVMoar9/6WKxtrXnwcZdBSb35fvVHo3ZPbfSeWtXA2v3NhGOxrn+wXdsa/JAkKssqllKqclKqcXm39WOdbcqpWYqpeYopZ7s6jgajaZrKkuNehrNOGJrVv4afnqY/fQ3L+9gZ51hSE25wIabYPMTyef5ugBgb/j36v2pvcHSsC74G6syLTg9vUu2Ji3n5NGXO2yLbz6yluc2HWTD/qSlLxpLdXm9V9NGOJpgf1OoT6/xvh88y/l3/Yd1+5p44PXdPLPhIImEskVdT4JYnanP1vaWFbK+rYNP/O4NfrFiK5+6/w1+8MTGjP131xvf91wLnCVTUn9T44qS60oDngyry7p9TXZBzmws+t7TfP4vRrxMc5qVzXp/ekJXAqcvMU+hSJz2TlxbF979Kufd+R+e2XCQf767n+8/viHrdn1hOGRRaTSaAeKu/zqSWz60gHMWjmdMgdd2W7WS5r5qq0Y99mVqHb55rysvtQVEywFIxKB4ivE8MGawhz9qONAU5gv/9w6PmoGs2QhFjDtt54RuC5yOnllHLFdSPJEUIT1186SjlOKvb+7huU3VbDqQFDiReBylFDf/ewNv726wrSfpcRoWD76xm2sdQalOYvEEdW0R1u1rZk+9IZD2NLTTEo7ZRsWeWAicLjRrwq0zl9U51h1oClPVFCaeUDy1rsp2X1kCZ2r50Be1dN5EnDqnImXduMLk77Q04M1wUd382IYUd6QTy6L29IaDKKUyxHV3Aqe62fjOtnXEsn62fo8hF/qSRdVpfS4HHpfhKhzINHQtcDSaUcS5R0zg48dM5c7LjuT1b5xuu61Ulp+6rPotn7n1XgIYJuEFk4pwObKy7NYO5//SqITsyR7jo8nEugPuKlYlFDUmilhC2QLFEic9FSl1DoFqBRe39FAcpdMRSxBLKFrCMTZWteBz59nL2yNxfvfKDlZsOEh9m3H8urRJsCUc5a7nt3HDP9by+NrsdZO2VidjuvY2GCJjT317ymTck3PP5qKy3gvn5NzaESMcjbNqZz1X//ltzvnVyyil2F3fjtedR0Vh5+6iwWKsw4Jzsilwgubv1FlksyTgyRA4je2RDMuMxZ6GZDhrRyxBNJ5qeduwv7lL8fDGznr+vXo/G6qasxYHnDPeqLuVTYD+6919XHH/m50eOxSNE4rEMwLgnc/zzFiogcza0wJHoxmF5OUJrjzptsbHo75vc5X7MQA7k8emzaxaGhgDRZUQ7ZtL4lDEmoS6dFE57mitiSdpwemhwHFM5paY6quLyhIW+xtDRtPVyhJ7bHWmK6w9Ek9acNLcGHc+t43blm+2nzutShZr9ibTwG0LTn0oRQh2de4vb62hrrUj5bxbTdeH5a5zrmsJG7Ef1oS9vaaN21ds5b6XtjOuyJdSZmGoKMpPJi9PKs1n/ffO4uqTZgKGW8qiLOjNECRdBWJbVqmg15VVBN2+Ygu/WLHFfl7b2sGuumR2lPW9aWqPpghIe6xmhmW2z+f5TdU8u6m60wDvUCROLKHseK76tgi/+8+OlM89bJ5rLD4wWYCgBY5GM6pxXioOVhgVj5+NL0nZZpzLiAHJqIHTbgqc4Bjw5EO0HU3PsC7cXVkjnHEzVqxFay+zqOocgaN7G0IpxwAjs6inWOJqzV4jxmPeROOOPRpX1LYZ1pFQJE69OfnVpQWtJtLuzp3pxK0dMf62ao997PKg17Y47K5vTxM42UVhJJbg8t++wWW/WUl1SwciUORPFs2z3K21aSnR7ZF4itB8YOUuAE6fO66Ld2PwcGZtFfrdBH1uoubnFPS5cZuiqyTgzYjBaQ7FaA5H+eg9r/F0WpFIS+AU5XtoNr8/44p8dhweGAHtf3l9N+FonFNue4GTbnvBXmd955pC0awWnEKfB687L6uLynrt9PcejO+g9V23RP31f32Xmx/bwGvvJYPZ283jpge19wctcDSaUYzzTuz5I+8g8Y0DXBH9GsvCd3NAGVlR58wfywmzx3Dh0srUndvMi0+gHLwBbcHpBc09cDWFHBky1p16ay8tOPVtyQllX2Mo4zUNV0WCt3bV09geYU99dpH6Xk0rr5mZU5ZbxGr4mGLBicbtFGLLgnPpfa/xs6c3Z/Qwc1qSnlhTxdceXsObO43S/+2RuC3ImkJR212VPn4n1nd5y8FWalqM2j9F+R7arRgcc4zplYHD0XjKMevaIhwzo4zvnDc/6+sMJVZ9Ievz93nybLdyWdCIwbHcOJFYgpB5Lm/srOcNs41CNJ4gnlD2ZxtPJONvvv3BeTx89XF8+vhpAKwVvMKvAAAfOklEQVTa2cA3HlnL//x9jR3UnXRtJgVOYxYLUFG+2+6Ens4e87OszhLn43SzWXE4m6qazf2Sn7tVG2ggXVQ56Sau0WiGBnF0IW+LCRtqjEmglmKO7/gVz/u/zhQJ8acr3pe5c3steAvB7QNPQFtwekGzbcHpykWVKkSg91lUdW0RJhT7qWoK23fPzgkoFI1zx/Kt/P6VnfayHT88J6P2yw+f2MSKjQdTlo0rNlwSkXjcjm8JRWJ2gG9dWwSlFCu317Nyez3XnTY7ZX/nnb4lhnaZ2XqhaJx9jSFmjAmyvbYtJWurM3FX7xDrNS0djC30o5Syt68zxV56MG0oEs9w2ZQOs4ay1qTudeUR9BoiosjvRinDguZ1S8Z3afPBFi67byWvba9jWnnArqvkdGNNKPYzvtjPd86bz9q9TazaZdSi+Zcj+L05HKM435N0UYWiKa+VJ3DJUVO49pRZPLX+QIYFJxSJ2+/571/ZSXMoascWQaql0hI4lhtx68FkTJYlYAcyyFgLHI1mFHP7pYt5Z3cDn//LO9z1/DYeeScZKBzHRasUQEcnbQHa6yBYbjz25ENEC5yeYt1BdxYQumF/M63hGO48IZZQtsBJuqgy93v1vVqWTi3F507GVdW1Rpg9rpCqprBtwXBaK8LRuF2R2GJfY4jK0tT06OqWzNojVgBuJJawJ6SWcMw+t4a2SEq9nqc3pAok5zrLBeW8m48nFLMqCthe22ZbAKBzcdfQlnxP9jeGqSj00doRs11h6S4zi1CaBQfIsDYNNV86/bCUFh3WpO515xHwuQh2uO3PuSMWx+vOs62CFi9vNVzIpQEPO+va2W/Wj+mIJfj7W3sRgfHFSfdUZ+dc3Rzmzyt3sXafER9lCaSg10VbJM6YAh8//MhCAAp8HrsTuoXT+vbv1fvZXtPKyXMqUEohImkCJ0Z7JGbHZ73n6HVmiaTusq16g3ZRaTSjmEkl+Zy7cAJgBPat25daybiF/E6rG9NWm0wNLxhnCB4tcnpEc6hzF9Xzm6s551cvs78pTIkZVGrFWlgpz22ReEqQ7q66Nv7rN6/z79Wp2Um1rR2ML/JR5HdT19rB6j2N3ONorBiOxjO6y7+9O7PfU7o4cOUJ5WbF3Uhc2dahA81hO527vi2SkrG0sSr1e+QUKtlcHgATTTdYVVMYV56QJ51bcJxBzRuqmqko9BH0uVm9p4nmcJT69kjWzuChSJyWcDQlPbvEEcybC647fTb3fWKZ/dxyD598WAVBr5t8rwufmZb90pZapt3weErFayd3f3wpYIikBZOMuKlHV+/ncyfNtN2MAGXB7Oe8oaqZ25ZvtisNN5sWnAqzxETQl7SDFPhctHZESSQUdz2/jW3VrXb8jcXGqmZW7axn+o1P8ObO+pRg+v2NIebdtNx+vs2RVWe5t7IFOPcVLXA0mlFOtlL0vzEvrolEHPa+AQc3QF1ax+H2WiPAGKBiHqCgZtMgj7b3iMjZIrJZRLaJyA1Z1vtE5K/m+tdFZJpj3Y3m8s0ictZAjcmycjgFzpaDLWyrbuGhN/fYy4rzLYGTasGB1CBdqxCjczKpbe2guqWDWRUFjCnwUdsWsStSWzgziCze3pVaMl8pldGrqDTgsS0IzhicqkbDShDwuqhvi2SIJydtWSw4kCouJphusANNIQp8RsBtZzE46VlbFUU+yoNeWjtiXPPnt1EKZo4tyNgvEk/Q0B6lNOCh0O+2z284sXhyCTt/dC5TygMEvC6CXpedpv+nlTsBIxU7Hb8nj6OmldnCzhk4ffGyySnbduaWW7s3tXCgZcGxBKEzEzPoc9PWEee3/9nBbcs3c99L72XEdSUUfN38Hv7j7b0pmVVbDqZ2p3dapSwLTlMomlL+oD9ogaPRHIIcNs6YCGZjTrZ3Hwt3HAkJh3nYacGpmGf8r86sCptLRMQF3AV8AJgHXCYi89I2uwJoUErNAm4HfmzuOw+4FJgPnA382jxev8kWg3Pm7S9x+s9fSnEZWQInYgaTtnbEGFNgTEROC8g+04VzwFE92BIqR04ppbzAS11rh33XbbG7LtPi5nSNgCGq0uMeSgJevO5kAKwV32JluMyuKKC+LZK1/P+yqUbwutNF5XTVOXumWRachvYohX43hZ0EsUJmf6SKQj/fOGcuIrDpgGHdOGv+OE6ZM5Yvn3FYyrY1LWGK/B77/c61i6oryoJeSgJeW2BalY/Tra8AE4vzceUJCycVUxb0smRKsp1KepXmUtMil54tuSatMnJdW4T2SNx2UTqtYobAifGbl7cDhkttd30ooxyF1Zxzy8HWFJeTJYa+de7cjJ5clsBJKFh6y4oBaTmiBY5GcwhiXfx+kP+11BUh033R0QItVVA23XheNh3cfqgeuDLqA8TRwDal1HalVAR4ELggbZsLgD+Yjx8GThPDrHUB8KBSqkMptQPYZh6v31gWnLZI3O45ZeHsJG1NtB2xBB0xIxsmOek7U8CNiaGqKcw7uxu4/ZktvL27EY9LWDCpmPKgj7rWCB3ROAU+Nzd84HAAPpelovBuR7bN85uqs4qUshSBE89wYR1RWUIsoWyxZBWqO3paGf/7ScM66BRoTgvORIfbxNm9vsDnpsDvpjUc4/nN1bR1xHjwjd1Mu+FxOmKGqy3odXH4+ELzvfMwttDHWfPG2y60w8cX8ftPH805C8enjLe6pYNCv9u2Hg23IGMn3/7gPG6/ZLFtwbEEQrorCGC8aQH75rlzuf2SxZTkJy1TrrQaP5bVaubYYMq6dAuOlY1XYVZVDjhcVKUBD9UtHQ53UpTd9e0pYur7H1rAvAlFHFFZzOo9jSnWGCtr6sx54+3xWAIuPQ5sZ21qNlxf0AJHozkEuOfjSzl6WhkelzCtPICI8OoNp3LTF6+GeQ49YFUv3rbC+G9ZbvJcMHYOHFw/tAPvnknAHsfzveayrNsopWJAE1Dew30RkStFZJWIrKqpqUlfnZWmUGoNGGc9Gr8nz7ZilDgsOM9vqgZgqWkBsZoOXnT3q/z6BcN9WNUU5k+v7eKXz27lqXVVzJtYjN/jMiw4bRGaQlGOm1nOsTPK7dcrC3qx5rOxhT4ONnfYwcefvv9NntmQWk8FDPFglc6PxlWGCFo02SgC+O4eQxDPMF1DQZ/LjtnozEVlTcoAExxBsIV+Iw35vZpWPv37N7nuwXe47yXDUrD1YCsN7RFKAl6+aGZrWe4oZ+E8ywXlDMQGONgcpijfQ0m+IWyGm4vKycSSfKaPCdoxONlqy1hY798RlSWcdNhY20KVrUG6JerGFvpSBF56E0zLklJh9sUKOKwzlaWBFMuKleI/uSyf331qGT/6yEIuP2YqT1x3At85bz6xhOJ7/07eFFnFHcsLvBSY35PFk40Co+klmzoradAbtMDRaA4Bzl4wnoeuPpa13z2L5V86ETAupCUBL/gdFYxD9fDjafC3TxnPJyxKrltyORx29pCNebiglLpPKbVMKbVs7NixPdqnORS1RUVLOJZSXff9s8bY5vlic6INR+Pc8vhG5k0o4r9PmAEYAZmhSNxO7QWoagzZLoWdde2cMMtwIZYX+GhoN1xGJQEPfsek9OCVxzDNdEssqjQ+6z317ew179RX7UyNyQFjMrQsOEagcuoku9ghcNx5YheTK/B78Ljy8LnzMiZCi4kOgVNekHydQr+HAr/HFnavvlfHzApDxKzZ20RDW4SyoJdzFk5gzXfPZMEk41yK/EmxUmRO8PlpwcYJZYgf6/0ezi4qC0ukddVDakJxqkvSckN9ZEllxrbWujEFPtsNmi0o2yKbi2qyI/vO686joT3C7vp2JpcFOPXwcVx69BR7/dKppXz8mCkcaE5aZvY1hvB78gh4XXbguVUxG+C0wyt47cZTAdilBY5Go+kNfo8r4+42ReDUbYOQY8Irdhg0jv5vOObqwR1g79kHOKMpK81lWbcRETdQDNT1cN8+0RyO2laa5nCUg+ZF/qoTZ/Cd8+bbd6+WRWHd/ib2NYb41HHTGF/kx+MSfrFiK+f86uWU47ZF4imZJ2fMM4JKxxR4Ucq42y8JeFNiIiaW5Nt37EeYk8nu+naqzTG9syczq6o06MVrFqGrbukgoZITns+dx4wxQbzuPBrbo5SaMSNgZNmAISasGJxEQqXG4DisNj63y3ZvFfiMGBxrv/ZI3J6I1+5rpKE9aruYsoka52N/lhYlzhic4WzBsbCEX01LBzPGpsbNWNa18WkCpzjfw4ovn8iPLlyYcTzrOzCmwEe5+b5+YMGETl8/6aJyCJyy5Gc3d0IRO2raaI/EO+3K/v5ZmTcE5UEfImK7PS1rIBgxPhOK8ykNeLK65HqLFjgazaGOU+AcWJt8fNHvh34svedNYLaITBcRL0bQ8KNp2zwKfNJ8fBHwnDLKtz4KXGpmWU0HZgNv9HdASinmTiiyL9zr9zdz53PbAMOSNrksQNCcNCz3youbDdfXsTPLycsTxhf7qWuLsMMRh+CcRMqCXiaV5LPQtGKMKUhNgbY6P4MhHKwJ/QjTgvPcpmq7knA2C0FpwIOI4HXlUWUGNluF5EoDXvLyxB5PWcBrHz/oNc7HCkYF467d6X5ItzoEzH0KTBeVk7BZ7Xn1niZqWzuyxs4UOwSO5aLyuzOntkK/hzEFPjwuSdlnuGLF4MQSionF+dz5X0u4/vTZeFzCkimlfPG02XxgwfiM/WZVFNoVkp1MHxPkqhNncOb8cZQFje/LeYtSBY7ze1Oc76E04En5bjnrJ82bUGjHk00uzS5wpo3JXG6JVmud9Z0E7N/FlPLggLiodKE/jeZQx5+8g2LfW8nHM08d+rH0EqVUTEQ+DywHXMDvlFLrReRmYJVS6lHgt8CfRGQbUI8hgjC3ewjYAMSAa5VS/a4yJiI8dNWxrN7TyJPrDvD1h5Op2+OKMgM3wcgCmlSSb7t6Kgr9drwCwNrvnklda4QL7nqFSCzB364+Fp87z24W6RQ/JflefGkWDEsYzDJdPg+8vjtl/bgiIzYH4DPHT+d00zLkcQlVpstocmk+b+1qsF0d08qDbKtupcDvTrGigCGqWsMxqlvCnPCT5wHsoobpAsea1Ap9bmJpgRhW/MnGA80oBZcfM5V0LJEoAgWmWHK78vC4JKWjdqHfzSVHTea4meW4swiA4YbT0lqU7+aDR0wE4P5Xd1Ie9GZkinWHK0+48Zy5AHaNo2McsVpgfKZWRlqh380/rjk+pX5QacBjpLB7XPZ3GbILGYCpZUnLU6HfKAFQbgqm333qKLYcaKU430OeGG5ES+xOKQuwOotlsbdogaPRHOo4LTh738y+fBijlHoCeCJt2U2Ox2Hg4k72vRW4dTDGFfRlukmsycKaiJ2dkxdOKrZrFjnTy4+eVkah30Oh38O7N51BRyyR4YJxpv6WBDwZabuWKCkLevnZxYv4yt9Wp6w/9fBx+D15TCrJ57NmDBAYbhIrJiZpwTHEzFfOPIzSgIfjZ42x6+FYLQeCpqvpLUd8T3mBl4PNHSkTIzgsOFkEjtXCwSoueLwZc+TEclcV+Nwp3cH9HhfReDIOaHJZgLKgN2NSH674HFYop0vuqGllHOlIB+8LZ84fRzRufI823nw2mw408+Ffv8pHl03m5seMoOBCv9sWIxYiwuSyAK48ScnYmlqe1qjXxBkLNbbQR0s4Zu9XUehPusHM9hSWBWnBxCJqWzrsash9RQscjeZQZ/wRmctO/Xb2VAxNj7GyiUSSE7TlOrj+jNkcbAlz4dJKbn3CqC1U6qgLYk36L33tlJS4BxHJGl/irDZbkp/MgLImjDPmjaM9EiPf4+LCpZU8v7max9YkqyKfMmcsZ87PdHd43Xm2ZcdyQ1jjnDuhiNsuNoLQ/2R26La6Yo8t8LFuf1NKfM81J8/i7d0NGYGtlhAs8LtTqjeDUZPl6OllbDatCnMnFGWM0bIeOUWAce6ulKKBM8dmn4SHKz6Hu8hyvUGySGd/OG7mGI6baYjFfK+LJVNKefnrp1BZmu8QONndeFefNDPlO+3Ok6wusXSuPXkWX/nb6hQRanHB4ok88PpuW/xeddJMrjppZl9OLQUtcDSaQ52xczKXnfjVoR/HKMMSKdZEcO/lS+11E4rzuf/TR5t3qMY2zgq/d1y2hOc2VTO5LL/Xd7DFZvzMHZctsTNUjppWxlHTyuxt5owr5DGqOHpaGeOK/Zw0J3t2mBXoKpKsX5MtQNdjTlpRs2DgnPGFPL62iv9sreXIKSX8/XPHISJ88rhpGfs6LTjpAgcM19VVJ80gkVAZtV0gKWzS3WTpVqyJjuDmkYAz3ihdvA0Gk9MChb1Z4pgAPrTESDx4YbNR1mBMmpUnnUkl+exrDHHh0ko87jy7DIKTWz60gMuOnmK7UAcKLXA0mkMdEfhOIyRi8P1MF4CmbzgtFQsnFXNWFguJiNgCyBn4OrkskFUMdIXXlUcknrAzms5bNLHTbSeYYmXamAA/uWhRp9tZd+ZlAS8FphWhLEug71nzx/PA67v53MnGXbdladlQ1cwV75+eIdJ+/+mjbIuQFVhc6M90UQH4vS6uOXlWp2O0YnCcVg4wrFcFjsrI2SwHwxm/x8XU8gC76tozxNtg8uCVx/DWrszSAelYAtIZo5ONJ68/gSazCvX5nXwnRcRO+x9Ihn+klUajGXxEwGVeRL2FuR3LKMHjyrPvgrPF46RT0s9J7OtnG5a48mD3NV7OXTiBi5ZWct3pXQeqWqni5QVeW7BlqyFTGvTy7y+83y74N29i0pWUXlUY4JQ5FfbdesBOE/fYYsd5DoEsLjkntgXHn2nBKe2kweRIYXaF8Vt0ZjcNNsfMKOfaUzoXlBaWxedT3QjxIr8nwzo0VGgLjkajSXLdGvDk5mI0Ggl6XURiCTt9uiv6m7r82RNmpAQId0W+18VPL+7ccmNhBbqOKfAxrsjPmAIv8ydmxsGk4yzm111ArBU/ZMTgGC6u0qCX9kicUDTeZTE6MASSK09SKhoD+Dwugl4308oDfOLYad2OeThy5NQSVmw8aKfLDycmluSz5ZYPdOrKGg5ogaPRaJKUZqbhavpOwOumoT2akRaejeJhWHzOmrwmleRTnO9h1bfO6NF+IsJPLjqCcUX+bmOIAo5Cf1YMTqHfTaHfTSgax9+NwBERZowJMiOtiWRlST6NPje/+9RRPRrzcOSK908nT4RLjprc/cY5YDiLG9ACR6PRaAYNO0OoRy6q4dc+wIoPquykkFtXfHRZzyZly7rljMEp9Hso8EWpbukg4Ol+mnrsi+/HnZc62f7gIwvt8Y9UfG4XVw9ANtGhihY4Go1GM0hY7pdAT1xUw9CCY/XQmlQ6eBlIp82t4GBzmLEFPrtNQ6HPjdtMde/ORQWZzTUhe7sGzaGFFjgajUYzSNitC3owSfc3yHgwsNo4VA6iwJkxtoBvfdDoWu/MqHKZFpnuXFQaTWcMbweaRqPRjGAs60OwBzE4PbFUDDVWivWkkqGpIePKE8YV+ZhYkm8XK+wui0qj6QxtwdFoNJpBwnZR9UDg9Kck/WCT3rV6MPn3F95Pkd9jF5IbjsJPMzLIiQVHRL4vImtE5F0ReVpEJprLRUR+JSLbzPVH5mJ8Go1GMxDYFpwROklftLQSoEel+AeKikI/fo/LboipXVSavpIrC85tSqlvA4jIF4GbgKuBDwCzzb/3AXeb/zUajWbEYVlwunJRPXndCbYraLjx04sX9ahezmBguajcI6wCsWb4kBOBo5RqdjwNAlYy3wXAH5VSClgpIiUiMkEpVZVxEI1GoxnmJC04nV9qszWQ1GCnfTs7rms0vUFUjgoFiMitwCeAJuAUpVSNiDwG/Egp9R9zm2eB/1FKrcqy/5XAlebTOcDmHr70GKC2v+MfBujzGF7o80ilVil19gAcZ1ghIjXArh5uPlq+Exb6fIY3h/L5ZL3eDJrAEZEVQGYTEvimUupfju1uBPxKqe/0RuD0Y1yrlFL97zefY/R5DC/0eWjSGW3vpT6f4Y0+n0wGzUWllDq9h5s+ADwBfAfYBzjLX1aayzQajUaj0Wh6TK6yqGY7nl4AbDIfPwp8wsymOgZo0vE3Go1Go9Foekuusqh+JCJzgASGP/tqc/kTwDnANqAd+PQgvPZ9g3DMXKDPY3ihz0OTzmh7L/X5DG/0+aSRsyBjjUaj0Wg0msFCt2rQaDQajUYz6tACR6PRaDQazajjkBE4InK2iGw220DckOvx9AURmSwiz4vIBhFZLyLX5XpM/UFEXCLyjlkeYMRiFqR8WEQ2ichGETk212PqCyLyJfN7tU5E/k9Ehq4B0ShFRG4zvxdrROQRESnJ9Zj6g4hcbH5HEiIyIlOSR8Nc4EREfici1SKyLtdjGQgGcp47JASOiLiAuzBaQcwDLhORebkdVZ+IAV9RSs0DjgGuHaHnYXEdsDHXgxgAfgk8pZQ6HFjECDwnEZkEfBFYppRaALiAS3M7qlHBM8ACpdQRwBbgxhyPp7+sAz4CvJTrgfSFUTQXOLkfGE1FNQdsnjskBA5wNLBNKbVdKRUBHsRITx9RKKWqlFJvm49bMCbSSbkdVd8QkUrgXOB/cz2W/iAixcCJwG8BlFIRpVRjbkfVZ9xAvoi4gQCwP8fjGfEopZ5WSlmNplZi1PYasSilNiqlelo1fjgyKuYCJ0qpl4D6XI9joBjIee5QETiTgD2O53sZocLAQkSmAUuA13M7kj7zC+DrGKUCRjLTgRrg96a77X9FJJjrQfUWpdQ+4KfAbqAKowbV07kd1ajjM8CTuR7EIc6omwtGM/2d5w4VgTOqEJEC4O/A9WmNS0cEIvJBoFop9VauxzIAuIEjgbuVUkuANmDE+fVFpBTjTnY6MBEIisjHczuqkYGIrDDjltL/LnBs800M0/sDuRtpz+jJ+Wg0g81AzHO5KvQ31IyaFhAi4sH40B9QSv0j1+PpI8cD54vIOYAfKBKRPyulRuKEuhfYq5Sy7jAeZgQKHOB0YIdSqgZARP4BHAf8OaejGgF015ZGRD4FfBA4TY2AwmO9aLMzEhk1c8FoZqDmuUPFgvMmMFtEpouIFyN48tEcj6nXiIhgxHpsVEr9PNfj6StKqRuVUpVKqWkYn8VzI1TcoJQ6AOwxK3MDnAZsyOGQ+spu4BgRCZjfs9MYgcHSww0RORvDFXu+Uqo91+PRjI65YDQzkPPcISFwzCC/zwPLMS7aDyml1ud2VH3ieOBy4FQRedf8OyfXg9LwBeABEVkDLAZ+kOPx9BrTAvUw8DawFuPaMNpKv+eCO4FC4Bnz93pPrgfUH0TkwyKyFzgWeFxElud6TL1hFM0FNiLyf8BrwBwR2SsiV+R6TP1kwOY53apBo9FoNBrNqOOQsOBoNBqNRqM5tNACR6PRaDQazahDCxyNRqPRaDSjDi1wNBqNRqPRjDq0wNFoNBqNRjPq0AJHo9FoNDlDRMod6cAHRGSf+bhVRH49CK/3XRH56gAcZ5qIhETk3W62e0BE6kXkov6+pqZ3aIGj6TM5uDDdLyI7ROTqLrY5QUQ2iMi6gX59jUYz8Cil6pRSi5VSi4F7gNvN5wVKqWtyPb5ueM8cd6copT6GLiaYE7TA0fSZHF2YvqaU6rRYmlLqZUAXP9RoRjgicrKIPGY+/q6I/EFEXhaRXSLyERH5iYisFZGnzNL+iMhSEXlRRN4SkeUiMqGb1/hvEXlTRFaLyN9FJGAunykiK83j3yIirT0Yb1BEHjePtU5ELhmI90HTd7TA0Qw4Q3FhMve52LyQrBaRlwb7vDQaTU6ZCZwKnI/RI+15pdRCIASca15L7gAuUkotBX4H3NrNMf+hlDpKKbUIo7KxVQX4l8AvzePv7eH4zgb2K6UWKaUWAE/14tw0g4AWOJqhYDAuTAA3AWeZF6fzB2XkGo1muPCkUiqK0UrERVJArAWmAXOABZhtMYBvYTTT7IoF5s3XWuBjwHxz+bHA38zHf+nh+NYCZ4jIj0XkBKVUUw/30wwSh0o3cU1ueVIpFTUvIt1dmDC3qerBcV8B7heRh4CR2lldo9H0jA4ApVRCRKKOzuwJjLlMgPVKqWN7ccz7gQ8ppVaL0fX95L4OTim1RUSOxHCR3yIizyqlbu7r8TT9R1twNEOBfWECurowLTb/FiqlzuzuoEqpqzHu0iYDb4lI+eAMX6PRjAA2A2NF5FgAEfGIyPxu9ikEqkwr8sccy1cCF5qPL+3Ji4vIRKBdKfVn4DbgyN4MXjPwaIGjGQ705cKEiMxUSr2ulLoJqMEQOhqN5hBEKRUBLgJ+LCKrgXeB47rZ7dvA6xjW4E2O5dcDXxaRNcAsoCfupoXAG6Z77DvALb07A81Ao11UmpyjlIqYNSJ+JSLFGN/LXwDru9n1NhGZjWEBehZYPbgj1Wg0g4lS6ruOxy8AL6QvN58XdLLPu8CJvXiNu4G7s2y2DzhGKaVE5FIMN3p3Y18OLO9uO83QIUlvgUYzvBGR+4HHlFIPd7PdNHO7BUMwLI1GM8oQkROAOzFunhqBzyiltqVtMxl4FajrqhaOiDyAYUn6glLqscEbtSYdLXA0IwYR+SVwJkb6ZtZaOOaF6dcYF52Th3B4Go1GoxlGaIGj0Wg0Go1m1KGDjDUajUaj0Yw6tMDRaDQajUYz6tACR6PRaDQazahDCxyNRqPRaDSjjv8HGan6dddd/bEAAAAASUVORK5CYII=\n"
                },
                "metadata": {
                  "needs_background": "light"
                }
              }
            ]
          }
        },
        "1eea0a19d027477bbae8cc826f8b187d": {
          "model_module": "@jupyter-widgets/base",
          "model_name": "LayoutModel",
          "model_module_version": "1.2.0",
          "state": {
            "_model_module": "@jupyter-widgets/base",
            "_model_module_version": "1.2.0",
            "_model_name": "LayoutModel",
            "_view_count": null,
            "_view_module": "@jupyter-widgets/base",
            "_view_module_version": "1.2.0",
            "_view_name": "LayoutView",
            "align_content": null,
            "align_items": null,
            "align_self": null,
            "border": null,
            "bottom": null,
            "display": null,
            "flex": null,
            "flex_flow": null,
            "grid_area": null,
            "grid_auto_columns": null,
            "grid_auto_flow": null,
            "grid_auto_rows": null,
            "grid_column": null,
            "grid_gap": null,
            "grid_row": null,
            "grid_template_areas": null,
            "grid_template_columns": null,
            "grid_template_rows": null,
            "height": null,
            "justify_content": null,
            "justify_items": null,
            "left": null,
            "margin": null,
            "max_height": null,
            "max_width": null,
            "min_height": null,
            "min_width": null,
            "object_fit": null,
            "object_position": null,
            "order": null,
            "overflow": null,
            "overflow_x": null,
            "overflow_y": null,
            "padding": null,
            "right": null,
            "top": null,
            "visibility": null,
            "width": null
          }
        },
        "511447cb6dd54b689f2948027aae6496": {
          "model_module": "@jupyter-widgets/base",
          "model_name": "LayoutModel",
          "model_module_version": "1.2.0",
          "state": {
            "_model_module": "@jupyter-widgets/base",
            "_model_module_version": "1.2.0",
            "_model_name": "LayoutModel",
            "_view_count": null,
            "_view_module": "@jupyter-widgets/base",
            "_view_module_version": "1.2.0",
            "_view_name": "LayoutView",
            "align_content": null,
            "align_items": null,
            "align_self": null,
            "border": null,
            "bottom": null,
            "display": null,
            "flex": null,
            "flex_flow": null,
            "grid_area": null,
            "grid_auto_columns": null,
            "grid_auto_flow": null,
            "grid_auto_rows": null,
            "grid_column": null,
            "grid_gap": null,
            "grid_row": null,
            "grid_template_areas": null,
            "grid_template_columns": null,
            "grid_template_rows": null,
            "height": null,
            "justify_content": null,
            "justify_items": null,
            "left": null,
            "margin": null,
            "max_height": null,
            "max_width": null,
            "min_height": null,
            "min_width": null,
            "object_fit": null,
            "object_position": null,
            "order": null,
            "overflow": null,
            "overflow_x": null,
            "overflow_y": null,
            "padding": null,
            "right": null,
            "top": null,
            "visibility": null,
            "width": "400px"
          }
        },
        "ce0f960e3d624ffca21d79e978e08341": {
          "model_module": "@jupyter-widgets/controls",
          "model_name": "SliderStyleModel",
          "model_module_version": "1.5.0",
          "state": {
            "_model_module": "@jupyter-widgets/controls",
            "_model_module_version": "1.5.0",
            "_model_name": "SliderStyleModel",
            "_view_count": null,
            "_view_module": "@jupyter-widgets/base",
            "_view_module_version": "1.2.0",
            "_view_name": "StyleView",
            "description_width": "200px",
            "handle_color": null
          }
        },
        "95902d214b8448f2a67b44e3df1e675c": {
          "model_module": "@jupyter-widgets/base",
          "model_name": "LayoutModel",
          "model_module_version": "1.2.0",
          "state": {
            "_model_module": "@jupyter-widgets/base",
            "_model_module_version": "1.2.0",
            "_model_name": "LayoutModel",
            "_view_count": null,
            "_view_module": "@jupyter-widgets/base",
            "_view_module_version": "1.2.0",
            "_view_name": "LayoutView",
            "align_content": null,
            "align_items": null,
            "align_self": null,
            "border": null,
            "bottom": null,
            "display": null,
            "flex": null,
            "flex_flow": null,
            "grid_area": null,
            "grid_auto_columns": null,
            "grid_auto_flow": null,
            "grid_auto_rows": null,
            "grid_column": null,
            "grid_gap": null,
            "grid_row": null,
            "grid_template_areas": null,
            "grid_template_columns": null,
            "grid_template_rows": null,
            "height": null,
            "justify_content": null,
            "justify_items": null,
            "left": null,
            "margin": null,
            "max_height": null,
            "max_width": null,
            "min_height": null,
            "min_width": null,
            "object_fit": null,
            "object_position": null,
            "order": null,
            "overflow": null,
            "overflow_x": null,
            "overflow_y": null,
            "padding": null,
            "right": null,
            "top": null,
            "visibility": null,
            "width": "400px"
          }
        },
        "27d8b117b9ac4b9a84c40c66306187d3": {
          "model_module": "@jupyter-widgets/controls",
          "model_name": "SliderStyleModel",
          "model_module_version": "1.5.0",
          "state": {
            "_model_module": "@jupyter-widgets/controls",
            "_model_module_version": "1.5.0",
            "_model_name": "SliderStyleModel",
            "_view_count": null,
            "_view_module": "@jupyter-widgets/base",
            "_view_module_version": "1.2.0",
            "_view_name": "StyleView",
            "description_width": "200px",
            "handle_color": null
          }
        },
        "fb037d3e22eb40089619cac38b4ecbed": {
          "model_module": "@jupyter-widgets/base",
          "model_name": "LayoutModel",
          "model_module_version": "1.2.0",
          "state": {
            "_model_module": "@jupyter-widgets/base",
            "_model_module_version": "1.2.0",
            "_model_name": "LayoutModel",
            "_view_count": null,
            "_view_module": "@jupyter-widgets/base",
            "_view_module_version": "1.2.0",
            "_view_name": "LayoutView",
            "align_content": null,
            "align_items": null,
            "align_self": null,
            "border": null,
            "bottom": null,
            "display": null,
            "flex": null,
            "flex_flow": null,
            "grid_area": null,
            "grid_auto_columns": null,
            "grid_auto_flow": null,
            "grid_auto_rows": null,
            "grid_column": null,
            "grid_gap": null,
            "grid_row": null,
            "grid_template_areas": null,
            "grid_template_columns": null,
            "grid_template_rows": null,
            "height": null,
            "justify_content": null,
            "justify_items": null,
            "left": null,
            "margin": null,
            "max_height": null,
            "max_width": null,
            "min_height": null,
            "min_width": null,
            "object_fit": null,
            "object_position": null,
            "order": null,
            "overflow": null,
            "overflow_x": null,
            "overflow_y": null,
            "padding": null,
            "right": null,
            "top": null,
            "visibility": null,
            "width": "400px"
          }
        },
        "94256512d5714e24a257a4a0e3eac058": {
          "model_module": "@jupyter-widgets/controls",
          "model_name": "SliderStyleModel",
          "model_module_version": "1.5.0",
          "state": {
            "_model_module": "@jupyter-widgets/controls",
            "_model_module_version": "1.5.0",
            "_model_name": "SliderStyleModel",
            "_view_count": null,
            "_view_module": "@jupyter-widgets/base",
            "_view_module_version": "1.2.0",
            "_view_name": "StyleView",
            "description_width": "200px",
            "handle_color": null
          }
        },
        "57542aaacd7a4033abaa379013fbe05b": {
          "model_module": "@jupyter-widgets/base",
          "model_name": "LayoutModel",
          "model_module_version": "1.2.0",
          "state": {
            "_model_module": "@jupyter-widgets/base",
            "_model_module_version": "1.2.0",
            "_model_name": "LayoutModel",
            "_view_count": null,
            "_view_module": "@jupyter-widgets/base",
            "_view_module_version": "1.2.0",
            "_view_name": "LayoutView",
            "align_content": null,
            "align_items": null,
            "align_self": null,
            "border": null,
            "bottom": null,
            "display": null,
            "flex": null,
            "flex_flow": null,
            "grid_area": null,
            "grid_auto_columns": null,
            "grid_auto_flow": null,
            "grid_auto_rows": null,
            "grid_column": null,
            "grid_gap": null,
            "grid_row": null,
            "grid_template_areas": null,
            "grid_template_columns": null,
            "grid_template_rows": null,
            "height": null,
            "justify_content": null,
            "justify_items": null,
            "left": null,
            "margin": null,
            "max_height": null,
            "max_width": null,
            "min_height": null,
            "min_width": null,
            "object_fit": null,
            "object_position": null,
            "order": null,
            "overflow": null,
            "overflow_x": null,
            "overflow_y": null,
            "padding": null,
            "right": null,
            "top": null,
            "visibility": null,
            "width": "400px"
          }
        },
        "e738d29f910c4b93942057a0cecd9521": {
          "model_module": "@jupyter-widgets/controls",
          "model_name": "SliderStyleModel",
          "model_module_version": "1.5.0",
          "state": {
            "_model_module": "@jupyter-widgets/controls",
            "_model_module_version": "1.5.0",
            "_model_name": "SliderStyleModel",
            "_view_count": null,
            "_view_module": "@jupyter-widgets/base",
            "_view_module_version": "1.2.0",
            "_view_name": "StyleView",
            "description_width": "200px",
            "handle_color": null
          }
        },
        "d1098b857e7c474b9ae99a219e097828": {
          "model_module": "@jupyter-widgets/base",
          "model_name": "LayoutModel",
          "model_module_version": "1.2.0",
          "state": {
            "_model_module": "@jupyter-widgets/base",
            "_model_module_version": "1.2.0",
            "_model_name": "LayoutModel",
            "_view_count": null,
            "_view_module": "@jupyter-widgets/base",
            "_view_module_version": "1.2.0",
            "_view_name": "LayoutView",
            "align_content": null,
            "align_items": null,
            "align_self": null,
            "border": null,
            "bottom": null,
            "display": null,
            "flex": null,
            "flex_flow": null,
            "grid_area": null,
            "grid_auto_columns": null,
            "grid_auto_flow": null,
            "grid_auto_rows": null,
            "grid_column": null,
            "grid_gap": null,
            "grid_row": null,
            "grid_template_areas": null,
            "grid_template_columns": null,
            "grid_template_rows": null,
            "height": null,
            "justify_content": null,
            "justify_items": null,
            "left": null,
            "margin": null,
            "max_height": null,
            "max_width": null,
            "min_height": null,
            "min_width": null,
            "object_fit": null,
            "object_position": null,
            "order": null,
            "overflow": null,
            "overflow_x": null,
            "overflow_y": null,
            "padding": null,
            "right": null,
            "top": null,
            "visibility": null,
            "width": null
          }
        },
        "38fc1a4aff084ab6b6247d6f709989af": {
          "model_module": "@jupyter-widgets/controls",
          "model_name": "VBoxModel",
          "model_module_version": "1.5.0",
          "state": {
            "_dom_classes": [
              "widget-interact"
            ],
            "_model_module": "@jupyter-widgets/controls",
            "_model_module_version": "1.5.0",
            "_model_name": "VBoxModel",
            "_view_count": null,
            "_view_module": "@jupyter-widgets/controls",
            "_view_module_version": "1.5.0",
            "_view_name": "VBoxView",
            "box_style": "",
            "children": [
              "IPY_MODEL_8f15a528364a4f338a97ea356937b5f0",
              "IPY_MODEL_01789ef4430f4eedab341b1936e9a30c",
              "IPY_MODEL_46e37f300f0647299883f2e3d3ff3941"
            ],
            "layout": "IPY_MODEL_83120ef51bd5450dacdacfb0d0e134b4"
          }
        },
        "8f15a528364a4f338a97ea356937b5f0": {
          "model_module": "@jupyter-widgets/controls",
          "model_name": "FloatSliderModel",
          "model_module_version": "1.5.0",
          "state": {
            "_dom_classes": [],
            "_model_module": "@jupyter-widgets/controls",
            "_model_module_version": "1.5.0",
            "_model_name": "FloatSliderModel",
            "_view_count": null,
            "_view_module": "@jupyter-widgets/controls",
            "_view_module_version": "1.5.0",
            "_view_name": "FloatSliderView",
            "continuous_update": true,
            "description": "Subjective std",
            "description_tooltip": null,
            "disabled": false,
            "layout": "IPY_MODEL_2679f076376241df96e753f8530d2c0f",
            "max": 2,
            "min": 0,
            "orientation": "horizontal",
            "readout": true,
            "readout_format": ".2f",
            "step": 0.1,
            "style": "IPY_MODEL_5ca24d34aba4476b879eef6c4b5ba47c",
            "value": 0.4
          }
        },
        "01789ef4430f4eedab341b1936e9a30c": {
          "model_module": "@jupyter-widgets/controls",
          "model_name": "FloatSliderModel",
          "model_module_version": "1.5.0",
          "state": {
            "_dom_classes": [],
            "_model_module": "@jupyter-widgets/controls",
            "_model_module_version": "1.5.0",
            "_model_name": "FloatSliderModel",
            "_view_count": null,
            "_view_module": "@jupyter-widgets/controls",
            "_view_module_version": "1.5.0",
            "_view_name": "FloatSliderView",
            "continuous_update": true,
            "description": "Subjective vel std",
            "description_tooltip": null,
            "disabled": false,
            "layout": "IPY_MODEL_99937cf0d42444acb5a67553f060f3fa",
            "max": 2,
            "min": 0,
            "orientation": "horizontal",
            "readout": true,
            "readout_format": ".2f",
            "step": 0.1,
            "style": "IPY_MODEL_36de108691c54e24b3536611d75a8c53",
            "value": 1
          }
        },
        "46e37f300f0647299883f2e3d3ff3941": {
          "model_module": "@jupyter-widgets/output",
          "model_name": "OutputModel",
          "model_module_version": "1.0.0",
          "state": {
            "_dom_classes": [],
            "_model_module": "@jupyter-widgets/output",
            "_model_module_version": "1.0.0",
            "_model_name": "OutputModel",
            "_view_count": null,
            "_view_module": "@jupyter-widgets/output",
            "_view_module_version": "1.0.0",
            "_view_name": "OutputView",
            "layout": "IPY_MODEL_8d99525b31ea4fa5b6a01381ff3e50cb",
            "msg_id": "",
            "outputs": [
              {
                "output_type": "display_data",
                "data": {
                  "text/plain": "<Figure size 432x288 with 2 Axes>",
                  "image/png": "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\n"
                },
                "metadata": {
                  "needs_background": "light"
                }
              }
            ]
          }
        },
        "83120ef51bd5450dacdacfb0d0e134b4": {
          "model_module": "@jupyter-widgets/base",
          "model_name": "LayoutModel",
          "model_module_version": "1.2.0",
          "state": {
            "_model_module": "@jupyter-widgets/base",
            "_model_module_version": "1.2.0",
            "_model_name": "LayoutModel",
            "_view_count": null,
            "_view_module": "@jupyter-widgets/base",
            "_view_module_version": "1.2.0",
            "_view_name": "LayoutView",
            "align_content": null,
            "align_items": null,
            "align_self": null,
            "border": null,
            "bottom": null,
            "display": null,
            "flex": null,
            "flex_flow": null,
            "grid_area": null,
            "grid_auto_columns": null,
            "grid_auto_flow": null,
            "grid_auto_rows": null,
            "grid_column": null,
            "grid_gap": null,
            "grid_row": null,
            "grid_template_areas": null,
            "grid_template_columns": null,
            "grid_template_rows": null,
            "height": null,
            "justify_content": null,
            "justify_items": null,
            "left": null,
            "margin": null,
            "max_height": null,
            "max_width": null,
            "min_height": null,
            "min_width": null,
            "object_fit": null,
            "object_position": null,
            "order": null,
            "overflow": null,
            "overflow_x": null,
            "overflow_y": null,
            "padding": null,
            "right": null,
            "top": null,
            "visibility": null,
            "width": null
          }
        },
        "2679f076376241df96e753f8530d2c0f": {
          "model_module": "@jupyter-widgets/base",
          "model_name": "LayoutModel",
          "model_module_version": "1.2.0",
          "state": {
            "_model_module": "@jupyter-widgets/base",
            "_model_module_version": "1.2.0",
            "_model_name": "LayoutModel",
            "_view_count": null,
            "_view_module": "@jupyter-widgets/base",
            "_view_module_version": "1.2.0",
            "_view_name": "LayoutView",
            "align_content": null,
            "align_items": null,
            "align_self": null,
            "border": null,
            "bottom": null,
            "display": null,
            "flex": null,
            "flex_flow": null,
            "grid_area": null,
            "grid_auto_columns": null,
            "grid_auto_flow": null,
            "grid_auto_rows": null,
            "grid_column": null,
            "grid_gap": null,
            "grid_row": null,
            "grid_template_areas": null,
            "grid_template_columns": null,
            "grid_template_rows": null,
            "height": null,
            "justify_content": null,
            "justify_items": null,
            "left": null,
            "margin": null,
            "max_height": null,
            "max_width": null,
            "min_height": null,
            "min_width": null,
            "object_fit": null,
            "object_position": null,
            "order": null,
            "overflow": null,
            "overflow_x": null,
            "overflow_y": null,
            "padding": null,
            "right": null,
            "top": null,
            "visibility": null,
            "width": "400px"
          }
        },
        "5ca24d34aba4476b879eef6c4b5ba47c": {
          "model_module": "@jupyter-widgets/controls",
          "model_name": "SliderStyleModel",
          "model_module_version": "1.5.0",
          "state": {
            "_model_module": "@jupyter-widgets/controls",
            "_model_module_version": "1.5.0",
            "_model_name": "SliderStyleModel",
            "_view_count": null,
            "_view_module": "@jupyter-widgets/base",
            "_view_module_version": "1.2.0",
            "_view_name": "StyleView",
            "description_width": "200px",
            "handle_color": null
          }
        },
        "99937cf0d42444acb5a67553f060f3fa": {
          "model_module": "@jupyter-widgets/base",
          "model_name": "LayoutModel",
          "model_module_version": "1.2.0",
          "state": {
            "_model_module": "@jupyter-widgets/base",
            "_model_module_version": "1.2.0",
            "_model_name": "LayoutModel",
            "_view_count": null,
            "_view_module": "@jupyter-widgets/base",
            "_view_module_version": "1.2.0",
            "_view_name": "LayoutView",
            "align_content": null,
            "align_items": null,
            "align_self": null,
            "border": null,
            "bottom": null,
            "display": null,
            "flex": null,
            "flex_flow": null,
            "grid_area": null,
            "grid_auto_columns": null,
            "grid_auto_flow": null,
            "grid_auto_rows": null,
            "grid_column": null,
            "grid_gap": null,
            "grid_row": null,
            "grid_template_areas": null,
            "grid_template_columns": null,
            "grid_template_rows": null,
            "height": null,
            "justify_content": null,
            "justify_items": null,
            "left": null,
            "margin": null,
            "max_height": null,
            "max_width": null,
            "min_height": null,
            "min_width": null,
            "object_fit": null,
            "object_position": null,
            "order": null,
            "overflow": null,
            "overflow_x": null,
            "overflow_y": null,
            "padding": null,
            "right": null,
            "top": null,
            "visibility": null,
            "width": "400px"
          }
        },
        "36de108691c54e24b3536611d75a8c53": {
          "model_module": "@jupyter-widgets/controls",
          "model_name": "SliderStyleModel",
          "model_module_version": "1.5.0",
          "state": {
            "_model_module": "@jupyter-widgets/controls",
            "_model_module_version": "1.5.0",
            "_model_name": "SliderStyleModel",
            "_view_count": null,
            "_view_module": "@jupyter-widgets/base",
            "_view_module_version": "1.2.0",
            "_view_name": "StyleView",
            "description_width": "200px",
            "handle_color": null
          }
        },
        "8d99525b31ea4fa5b6a01381ff3e50cb": {
          "model_module": "@jupyter-widgets/base",
          "model_name": "LayoutModel",
          "model_module_version": "1.2.0",
          "state": {
            "_model_module": "@jupyter-widgets/base",
            "_model_module_version": "1.2.0",
            "_model_name": "LayoutModel",
            "_view_count": null,
            "_view_module": "@jupyter-widgets/base",
            "_view_module_version": "1.2.0",
            "_view_name": "LayoutView",
            "align_content": null,
            "align_items": null,
            "align_self": null,
            "border": null,
            "bottom": null,
            "display": null,
            "flex": null,
            "flex_flow": null,
            "grid_area": null,
            "grid_auto_columns": null,
            "grid_auto_flow": null,
            "grid_auto_rows": null,
            "grid_column": null,
            "grid_gap": null,
            "grid_row": null,
            "grid_template_areas": null,
            "grid_template_columns": null,
            "grid_template_rows": null,
            "height": null,
            "justify_content": null,
            "justify_items": null,
            "left": null,
            "margin": null,
            "max_height": null,
            "max_width": null,
            "min_height": null,
            "min_width": null,
            "object_fit": null,
            "object_position": null,
            "order": null,
            "overflow": null,
            "overflow_x": null,
            "overflow_y": null,
            "padding": null,
            "right": null,
            "top": null,
            "visibility": null,
            "width": null
          }
        },
        "2913f84525be40ceb67548aa0a35901c": {
          "model_module": "@jupyter-widgets/controls",
          "model_name": "VBoxModel",
          "model_module_version": "1.5.0",
          "state": {
            "_dom_classes": [
              "widget-interact"
            ],
            "_model_module": "@jupyter-widgets/controls",
            "_model_module_version": "1.5.0",
            "_model_name": "VBoxModel",
            "_view_count": null,
            "_view_module": "@jupyter-widgets/controls",
            "_view_module_version": "1.5.0",
            "_view_name": "VBoxView",
            "box_style": "",
            "children": [
              "IPY_MODEL_a1ebd3be55e9477ab4263d04a321a218",
              "IPY_MODEL_08f8d51d17ce4fce9b00a660b6aea481",
              "IPY_MODEL_9188fb3660db4947bbacaf3cd98ff55d"
            ],
            "layout": "IPY_MODEL_114ed84582354906ad32417b8cd8434d"
          }
        },
        "a1ebd3be55e9477ab4263d04a321a218": {
          "model_module": "@jupyter-widgets/controls",
          "model_name": "FloatSliderModel",
          "model_module_version": "1.5.0",
          "state": {
            "_dom_classes": [],
            "_model_module": "@jupyter-widgets/controls",
            "_model_module_version": "1.5.0",
            "_model_name": "FloatSliderModel",
            "_view_count": null,
            "_view_module": "@jupyter-widgets/controls",
            "_view_module_version": "1.5.0",
            "_view_name": "FloatSliderView",
            "continuous_update": true,
            "description": "Subjective std",
            "description_tooltip": null,
            "disabled": false,
            "layout": "IPY_MODEL_715e0852eb114c9c8116e3a3d7b76006",
            "max": 2,
            "min": 0,
            "orientation": "horizontal",
            "readout": true,
            "readout_format": ".2f",
            "step": 0.1,
            "style": "IPY_MODEL_ee710192f89840d5a10f227673967c5d",
            "value": 0.2
          }
        },
        "08f8d51d17ce4fce9b00a660b6aea481": {
          "model_module": "@jupyter-widgets/controls",
          "model_name": "FloatSliderModel",
          "model_module_version": "1.5.0",
          "state": {
            "_dom_classes": [],
            "_model_module": "@jupyter-widgets/controls",
            "_model_module_version": "1.5.0",
            "_model_name": "FloatSliderModel",
            "_view_count": null,
            "_view_module": "@jupyter-widgets/controls",
            "_view_module_version": "1.5.0",
            "_view_name": "FloatSliderView",
            "continuous_update": true,
            "description": "Subjective vel std",
            "description_tooltip": null,
            "disabled": false,
            "layout": "IPY_MODEL_448db44c0b27423b9461915bd7d67e5d",
            "max": 2,
            "min": 0,
            "orientation": "horizontal",
            "readout": true,
            "readout_format": ".2f",
            "step": 0.1,
            "style": "IPY_MODEL_4d7999ab37a745c3abb9a770ebe81c31",
            "value": 1.4
          }
        },
        "9188fb3660db4947bbacaf3cd98ff55d": {
          "model_module": "@jupyter-widgets/output",
          "model_name": "OutputModel",
          "model_module_version": "1.0.0",
          "state": {
            "_dom_classes": [],
            "_model_module": "@jupyter-widgets/output",
            "_model_module_version": "1.0.0",
            "_model_name": "OutputModel",
            "_view_count": null,
            "_view_module": "@jupyter-widgets/output",
            "_view_module_version": "1.0.0",
            "_view_name": "OutputView",
            "layout": "IPY_MODEL_de7baf6dd97f48369a5a1cb258dc686d",
            "msg_id": "",
            "outputs": [
              {
                "output_type": "display_data",
                "data": {
                  "text/plain": "<Figure size 576x288 with 2 Axes>",
                  "image/png": "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\n"
                },
                "metadata": {
                  "needs_background": "light"
                }
              }
            ]
          }
        },
        "114ed84582354906ad32417b8cd8434d": {
          "model_module": "@jupyter-widgets/base",
          "model_name": "LayoutModel",
          "model_module_version": "1.2.0",
          "state": {
            "_model_module": "@jupyter-widgets/base",
            "_model_module_version": "1.2.0",
            "_model_name": "LayoutModel",
            "_view_count": null,
            "_view_module": "@jupyter-widgets/base",
            "_view_module_version": "1.2.0",
            "_view_name": "LayoutView",
            "align_content": null,
            "align_items": null,
            "align_self": null,
            "border": null,
            "bottom": null,
            "display": null,
            "flex": null,
            "flex_flow": null,
            "grid_area": null,
            "grid_auto_columns": null,
            "grid_auto_flow": null,
            "grid_auto_rows": null,
            "grid_column": null,
            "grid_gap": null,
            "grid_row": null,
            "grid_template_areas": null,
            "grid_template_columns": null,
            "grid_template_rows": null,
            "height": null,
            "justify_content": null,
            "justify_items": null,
            "left": null,
            "margin": null,
            "max_height": null,
            "max_width": null,
            "min_height": null,
            "min_width": null,
            "object_fit": null,
            "object_position": null,
            "order": null,
            "overflow": null,
            "overflow_x": null,
            "overflow_y": null,
            "padding": null,
            "right": null,
            "top": null,
            "visibility": null,
            "width": null
          }
        },
        "715e0852eb114c9c8116e3a3d7b76006": {
          "model_module": "@jupyter-widgets/base",
          "model_name": "LayoutModel",
          "model_module_version": "1.2.0",
          "state": {
            "_model_module": "@jupyter-widgets/base",
            "_model_module_version": "1.2.0",
            "_model_name": "LayoutModel",
            "_view_count": null,
            "_view_module": "@jupyter-widgets/base",
            "_view_module_version": "1.2.0",
            "_view_name": "LayoutView",
            "align_content": null,
            "align_items": null,
            "align_self": null,
            "border": null,
            "bottom": null,
            "display": null,
            "flex": null,
            "flex_flow": null,
            "grid_area": null,
            "grid_auto_columns": null,
            "grid_auto_flow": null,
            "grid_auto_rows": null,
            "grid_column": null,
            "grid_gap": null,
            "grid_row": null,
            "grid_template_areas": null,
            "grid_template_columns": null,
            "grid_template_rows": null,
            "height": null,
            "justify_content": null,
            "justify_items": null,
            "left": null,
            "margin": null,
            "max_height": null,
            "max_width": null,
            "min_height": null,
            "min_width": null,
            "object_fit": null,
            "object_position": null,
            "order": null,
            "overflow": null,
            "overflow_x": null,
            "overflow_y": null,
            "padding": null,
            "right": null,
            "top": null,
            "visibility": null,
            "width": "400px"
          }
        },
        "ee710192f89840d5a10f227673967c5d": {
          "model_module": "@jupyter-widgets/controls",
          "model_name": "SliderStyleModel",
          "model_module_version": "1.5.0",
          "state": {
            "_model_module": "@jupyter-widgets/controls",
            "_model_module_version": "1.5.0",
            "_model_name": "SliderStyleModel",
            "_view_count": null,
            "_view_module": "@jupyter-widgets/base",
            "_view_module_version": "1.2.0",
            "_view_name": "StyleView",
            "description_width": "200px",
            "handle_color": null
          }
        },
        "448db44c0b27423b9461915bd7d67e5d": {
          "model_module": "@jupyter-widgets/base",
          "model_name": "LayoutModel",
          "model_module_version": "1.2.0",
          "state": {
            "_model_module": "@jupyter-widgets/base",
            "_model_module_version": "1.2.0",
            "_model_name": "LayoutModel",
            "_view_count": null,
            "_view_module": "@jupyter-widgets/base",
            "_view_module_version": "1.2.0",
            "_view_name": "LayoutView",
            "align_content": null,
            "align_items": null,
            "align_self": null,
            "border": null,
            "bottom": null,
            "display": null,
            "flex": null,
            "flex_flow": null,
            "grid_area": null,
            "grid_auto_columns": null,
            "grid_auto_flow": null,
            "grid_auto_rows": null,
            "grid_column": null,
            "grid_gap": null,
            "grid_row": null,
            "grid_template_areas": null,
            "grid_template_columns": null,
            "grid_template_rows": null,
            "height": null,
            "justify_content": null,
            "justify_items": null,
            "left": null,
            "margin": null,
            "max_height": null,
            "max_width": null,
            "min_height": null,
            "min_width": null,
            "object_fit": null,
            "object_position": null,
            "order": null,
            "overflow": null,
            "overflow_x": null,
            "overflow_y": null,
            "padding": null,
            "right": null,
            "top": null,
            "visibility": null,
            "width": "400px"
          }
        },
        "4d7999ab37a745c3abb9a770ebe81c31": {
          "model_module": "@jupyter-widgets/controls",
          "model_name": "SliderStyleModel",
          "model_module_version": "1.5.0",
          "state": {
            "_model_module": "@jupyter-widgets/controls",
            "_model_module_version": "1.5.0",
            "_model_name": "SliderStyleModel",
            "_view_count": null,
            "_view_module": "@jupyter-widgets/base",
            "_view_module_version": "1.2.0",
            "_view_name": "StyleView",
            "description_width": "200px",
            "handle_color": null
          }
        },
        "de7baf6dd97f48369a5a1cb258dc686d": {
          "model_module": "@jupyter-widgets/base",
          "model_name": "LayoutModel",
          "model_module_version": "1.2.0",
          "state": {
            "_model_module": "@jupyter-widgets/base",
            "_model_module_version": "1.2.0",
            "_model_name": "LayoutModel",
            "_view_count": null,
            "_view_module": "@jupyter-widgets/base",
            "_view_module_version": "1.2.0",
            "_view_name": "LayoutView",
            "align_content": null,
            "align_items": null,
            "align_self": null,
            "border": null,
            "bottom": null,
            "display": null,
            "flex": null,
            "flex_flow": null,
            "grid_area": null,
            "grid_auto_columns": null,
            "grid_auto_flow": null,
            "grid_auto_rows": null,
            "grid_column": null,
            "grid_gap": null,
            "grid_row": null,
            "grid_template_areas": null,
            "grid_template_columns": null,
            "grid_template_rows": null,
            "height": null,
            "justify_content": null,
            "justify_items": null,
            "left": null,
            "margin": null,
            "max_height": null,
            "max_width": null,
            "min_height": null,
            "min_width": null,
            "object_fit": null,
            "object_position": null,
            "order": null,
            "overflow": null,
            "overflow_x": null,
            "overflow_y": null,
            "padding": null,
            "right": null,
            "top": null,
            "visibility": null,
            "width": null
          }
        },
        "444fb03969314342873e0942fa792339": {
          "model_module": "@jupyter-widgets/controls",
          "model_name": "VBoxModel",
          "model_module_version": "1.5.0",
          "state": {
            "_dom_classes": [
              "widget-interact"
            ],
            "_model_module": "@jupyter-widgets/controls",
            "_model_module_version": "1.5.0",
            "_model_name": "VBoxModel",
            "_view_count": null,
            "_view_module": "@jupyter-widgets/controls",
            "_view_module_version": "1.5.0",
            "_view_name": "VBoxView",
            "box_style": "",
            "children": [
              "IPY_MODEL_a2da35b37edd466d9f0cfdb9e02aa2f5",
              "IPY_MODEL_d9726d2ee2c9432481164f2d873a2a23",
              "IPY_MODEL_bc77e844acce48439614230e049812c0",
              "IPY_MODEL_0ba987d8c27944f7814c168916ff19f6"
            ],
            "layout": "IPY_MODEL_4503fdaf477e45a3af41d3696c3bf1a5"
          }
        },
        "a2da35b37edd466d9f0cfdb9e02aa2f5": {
          "model_module": "@jupyter-widgets/controls",
          "model_name": "FloatLogSliderModel",
          "model_module_version": "1.5.0",
          "state": {
            "_dom_classes": [],
            "_model_module": "@jupyter-widgets/controls",
            "_model_module_version": "1.5.0",
            "_model_name": "FloatLogSliderModel",
            "_view_count": null,
            "_view_module": "@jupyter-widgets/controls",
            "_view_module_version": "1.5.0",
            "_view_name": "FloatLogSliderView",
            "base": 10,
            "continuous_update": true,
            "description": "Subjective k",
            "description_tooltip": null,
            "disabled": false,
            "layout": "IPY_MODEL_fcf4106e83874ca49f8ec9b040e812cd",
            "max": -2,
            "min": -5,
            "orientation": "horizontal",
            "readout": true,
            "readout_format": ".3g",
            "step": 0.1,
            "style": "IPY_MODEL_5c20dea8dc4448769b4f3ccd8aeeb188",
            "value": 0.00031622776601683794
          }
        },
        "d9726d2ee2c9432481164f2d873a2a23": {
          "model_module": "@jupyter-widgets/controls",
          "model_name": "FloatSliderModel",
          "model_module_version": "1.5.0",
          "state": {
            "_dom_classes": [],
            "_model_module": "@jupyter-widgets/controls",
            "_model_module_version": "1.5.0",
            "_model_name": "FloatSliderModel",
            "_view_count": null,
            "_view_module": "@jupyter-widgets/controls",
            "_view_module_version": "1.5.0",
            "_view_name": "FloatSliderView",
            "continuous_update": true,
            "description": "Subjective lambda",
            "description_tooltip": null,
            "disabled": false,
            "layout": "IPY_MODEL_0ba2b8290b4541d3b8ac1e7dadb2b541",
            "max": 1,
            "min": 0,
            "orientation": "horizontal",
            "readout": true,
            "readout_format": ".2f",
            "step": 0.1,
            "style": "IPY_MODEL_53cc353bb3c94f0fa4812a06d9dbafd6",
            "value": 0
          }
        },
        "bc77e844acce48439614230e049812c0": {
          "model_module": "@jupyter-widgets/controls",
          "model_name": "FloatSliderModel",
          "model_module_version": "1.5.0",
          "state": {
            "_dom_classes": [],
            "_model_module": "@jupyter-widgets/controls",
            "_model_module_version": "1.5.0",
            "_model_name": "FloatSliderModel",
            "_view_count": null,
            "_view_module": "@jupyter-widgets/controls",
            "_view_module_version": "1.5.0",
            "_view_name": "FloatSliderView",
            "continuous_update": true,
            "description": "Subjective sigma_w",
            "description_tooltip": null,
            "disabled": false,
            "layout": "IPY_MODEL_5110a5f390ec45ea9f654eeb224fbfbc",
            "max": 1,
            "min": 0,
            "orientation": "horizontal",
            "readout": true,
            "readout_format": ".2f",
            "step": 0.1,
            "style": "IPY_MODEL_a1343f9c21ea4f6185cda29c10e3f872",
            "value": 0.3
          }
        },
        "0ba987d8c27944f7814c168916ff19f6": {
          "model_module": "@jupyter-widgets/output",
          "model_name": "OutputModel",
          "model_module_version": "1.0.0",
          "state": {
            "_dom_classes": [],
            "_model_module": "@jupyter-widgets/output",
            "_model_module_version": "1.0.0",
            "_model_name": "OutputModel",
            "_view_count": null,
            "_view_module": "@jupyter-widgets/output",
            "_view_module_version": "1.0.0",
            "_view_name": "OutputView",
            "layout": "IPY_MODEL_4a42e87ddee644639f831b56f1843a98",
            "msg_id": "",
            "outputs": [
              {
                "output_type": "display_data",
                "data": {
                  "text/plain": "<Figure size 576x288 with 2 Axes>",
                  "image/png": "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\n"
                },
                "metadata": {
                  "needs_background": "light"
                }
              }
            ]
          }
        },
        "4503fdaf477e45a3af41d3696c3bf1a5": {
          "model_module": "@jupyter-widgets/base",
          "model_name": "LayoutModel",
          "model_module_version": "1.2.0",
          "state": {
            "_model_module": "@jupyter-widgets/base",
            "_model_module_version": "1.2.0",
            "_model_name": "LayoutModel",
            "_view_count": null,
            "_view_module": "@jupyter-widgets/base",
            "_view_module_version": "1.2.0",
            "_view_name": "LayoutView",
            "align_content": null,
            "align_items": null,
            "align_self": null,
            "border": null,
            "bottom": null,
            "display": null,
            "flex": null,
            "flex_flow": null,
            "grid_area": null,
            "grid_auto_columns": null,
            "grid_auto_flow": null,
            "grid_auto_rows": null,
            "grid_column": null,
            "grid_gap": null,
            "grid_row": null,
            "grid_template_areas": null,
            "grid_template_columns": null,
            "grid_template_rows": null,
            "height": null,
            "justify_content": null,
            "justify_items": null,
            "left": null,
            "margin": null,
            "max_height": null,
            "max_width": null,
            "min_height": null,
            "min_width": null,
            "object_fit": null,
            "object_position": null,
            "order": null,
            "overflow": null,
            "overflow_x": null,
            "overflow_y": null,
            "padding": null,
            "right": null,
            "top": null,
            "visibility": null,
            "width": null
          }
        },
        "fcf4106e83874ca49f8ec9b040e812cd": {
          "model_module": "@jupyter-widgets/base",
          "model_name": "LayoutModel",
          "model_module_version": "1.2.0",
          "state": {
            "_model_module": "@jupyter-widgets/base",
            "_model_module_version": "1.2.0",
            "_model_name": "LayoutModel",
            "_view_count": null,
            "_view_module": "@jupyter-widgets/base",
            "_view_module_version": "1.2.0",
            "_view_name": "LayoutView",
            "align_content": null,
            "align_items": null,
            "align_self": null,
            "border": null,
            "bottom": null,
            "display": null,
            "flex": null,
            "flex_flow": null,
            "grid_area": null,
            "grid_auto_columns": null,
            "grid_auto_flow": null,
            "grid_auto_rows": null,
            "grid_column": null,
            "grid_gap": null,
            "grid_row": null,
            "grid_template_areas": null,
            "grid_template_columns": null,
            "grid_template_rows": null,
            "height": null,
            "justify_content": null,
            "justify_items": null,
            "left": null,
            "margin": null,
            "max_height": null,
            "max_width": null,
            "min_height": null,
            "min_width": null,
            "object_fit": null,
            "object_position": null,
            "order": null,
            "overflow": null,
            "overflow_x": null,
            "overflow_y": null,
            "padding": null,
            "right": null,
            "top": null,
            "visibility": null,
            "width": "400px"
          }
        },
        "5c20dea8dc4448769b4f3ccd8aeeb188": {
          "model_module": "@jupyter-widgets/controls",
          "model_name": "SliderStyleModel",
          "model_module_version": "1.5.0",
          "state": {
            "_model_module": "@jupyter-widgets/controls",
            "_model_module_version": "1.5.0",
            "_model_name": "SliderStyleModel",
            "_view_count": null,
            "_view_module": "@jupyter-widgets/base",
            "_view_module_version": "1.2.0",
            "_view_name": "StyleView",
            "description_width": "200px",
            "handle_color": null
          }
        },
        "0ba2b8290b4541d3b8ac1e7dadb2b541": {
          "model_module": "@jupyter-widgets/base",
          "model_name": "LayoutModel",
          "model_module_version": "1.2.0",
          "state": {
            "_model_module": "@jupyter-widgets/base",
            "_model_module_version": "1.2.0",
            "_model_name": "LayoutModel",
            "_view_count": null,
            "_view_module": "@jupyter-widgets/base",
            "_view_module_version": "1.2.0",
            "_view_name": "LayoutView",
            "align_content": null,
            "align_items": null,
            "align_self": null,
            "border": null,
            "bottom": null,
            "display": null,
            "flex": null,
            "flex_flow": null,
            "grid_area": null,
            "grid_auto_columns": null,
            "grid_auto_flow": null,
            "grid_auto_rows": null,
            "grid_column": null,
            "grid_gap": null,
            "grid_row": null,
            "grid_template_areas": null,
            "grid_template_columns": null,
            "grid_template_rows": null,
            "height": null,
            "justify_content": null,
            "justify_items": null,
            "left": null,
            "margin": null,
            "max_height": null,
            "max_width": null,
            "min_height": null,
            "min_width": null,
            "object_fit": null,
            "object_position": null,
            "order": null,
            "overflow": null,
            "overflow_x": null,
            "overflow_y": null,
            "padding": null,
            "right": null,
            "top": null,
            "visibility": null,
            "width": "400px"
          }
        },
        "53cc353bb3c94f0fa4812a06d9dbafd6": {
          "model_module": "@jupyter-widgets/controls",
          "model_name": "SliderStyleModel",
          "model_module_version": "1.5.0",
          "state": {
            "_model_module": "@jupyter-widgets/controls",
            "_model_module_version": "1.5.0",
            "_model_name": "SliderStyleModel",
            "_view_count": null,
            "_view_module": "@jupyter-widgets/base",
            "_view_module_version": "1.2.0",
            "_view_name": "StyleView",
            "description_width": "200px",
            "handle_color": null
          }
        },
        "5110a5f390ec45ea9f654eeb224fbfbc": {
          "model_module": "@jupyter-widgets/base",
          "model_name": "LayoutModel",
          "model_module_version": "1.2.0",
          "state": {
            "_model_module": "@jupyter-widgets/base",
            "_model_module_version": "1.2.0",
            "_model_name": "LayoutModel",
            "_view_count": null,
            "_view_module": "@jupyter-widgets/base",
            "_view_module_version": "1.2.0",
            "_view_name": "LayoutView",
            "align_content": null,
            "align_items": null,
            "align_self": null,
            "border": null,
            "bottom": null,
            "display": null,
            "flex": null,
            "flex_flow": null,
            "grid_area": null,
            "grid_auto_columns": null,
            "grid_auto_flow": null,
            "grid_auto_rows": null,
            "grid_column": null,
            "grid_gap": null,
            "grid_row": null,
            "grid_template_areas": null,
            "grid_template_columns": null,
            "grid_template_rows": null,
            "height": null,
            "justify_content": null,
            "justify_items": null,
            "left": null,
            "margin": null,
            "max_height": null,
            "max_width": null,
            "min_height": null,
            "min_width": null,
            "object_fit": null,
            "object_position": null,
            "order": null,
            "overflow": null,
            "overflow_x": null,
            "overflow_y": null,
            "padding": null,
            "right": null,
            "top": null,
            "visibility": null,
            "width": "400px"
          }
        },
        "a1343f9c21ea4f6185cda29c10e3f872": {
          "model_module": "@jupyter-widgets/controls",
          "model_name": "SliderStyleModel",
          "model_module_version": "1.5.0",
          "state": {
            "_model_module": "@jupyter-widgets/controls",
            "_model_module_version": "1.5.0",
            "_model_name": "SliderStyleModel",
            "_view_count": null,
            "_view_module": "@jupyter-widgets/base",
            "_view_module_version": "1.2.0",
            "_view_name": "StyleView",
            "description_width": "200px",
            "handle_color": null
          }
        },
        "4a42e87ddee644639f831b56f1843a98": {
          "model_module": "@jupyter-widgets/base",
          "model_name": "LayoutModel",
          "model_module_version": "1.2.0",
          "state": {
            "_model_module": "@jupyter-widgets/base",
            "_model_module_version": "1.2.0",
            "_model_name": "LayoutModel",
            "_view_count": null,
            "_view_module": "@jupyter-widgets/base",
            "_view_module_version": "1.2.0",
            "_view_name": "LayoutView",
            "align_content": null,
            "align_items": null,
            "align_self": null,
            "border": null,
            "bottom": null,
            "display": null,
            "flex": null,
            "flex_flow": null,
            "grid_area": null,
            "grid_auto_columns": null,
            "grid_auto_flow": null,
            "grid_auto_rows": null,
            "grid_column": null,
            "grid_gap": null,
            "grid_row": null,
            "grid_template_areas": null,
            "grid_template_columns": null,
            "grid_template_rows": null,
            "height": null,
            "justify_content": null,
            "justify_items": null,
            "left": null,
            "margin": null,
            "max_height": null,
            "max_width": null,
            "min_height": null,
            "min_width": null,
            "object_fit": null,
            "object_position": null,
            "order": null,
            "overflow": null,
            "overflow_x": null,
            "overflow_y": null,
            "padding": null,
            "right": null,
            "top": null,
            "visibility": null,
            "width": null
          }
        }
      }
    }
  },
  "cells": [
    {
      "cell_type": "markdown",
      "metadata": {
        "id": "view-in-github",
        "colab_type": "text"
      },
      "source": [
        "<a href=\"https://colab.research.google.com/github/dominikstrb/lqg/blob/main/CCN_2022_Tutorial.ipynb\" target=\"_parent\"><img src=\"https://colab.research.google.com/assets/colab-badge.svg\" alt=\"Open In Colab\"/></a>"
      ]
    },
    {
      "cell_type": "code",
      "source": [
        "# !pip install lqg==0.1.3\n",
        "!pip install git+https://github.com/RothkopfLab/lqg.git@main"
      ],
      "metadata": {
        "id": "iOboBwJZuOWr",
        "colab": {
          "base_uri": "https://localhost:8080/"
        },
        "outputId": "fd0265a3-6ff8-47ed-9f58-b8ca26665a41"
      },
      "execution_count": 38,
      "outputs": [
        {
          "output_type": "stream",
          "name": "stdout",
          "text": [
            "Looking in indexes: https://pypi.org/simple, https://us-python.pkg.dev/colab-wheels/public/simple/\n",
            "Collecting git+https://github.com/RothkopfLab/lqg.git@main\n",
            "  Cloning https://github.com/RothkopfLab/lqg.git (to revision main) to /tmp/pip-req-build-u6euu8ox\n",
            "  Running command git clone -q https://github.com/RothkopfLab/lqg.git /tmp/pip-req-build-u6euu8ox\n",
            "Requirement already satisfied: numpy>=1.20.3 in /usr/local/lib/python3.7/dist-packages (from lqg==0.1.3) (1.21.6)\n",
            "Requirement already satisfied: scipy>=1.6.3 in /usr/local/lib/python3.7/dist-packages (from lqg==0.1.3) (1.7.3)\n",
            "Requirement already satisfied: matplotlib==3.2.2 in /usr/local/lib/python3.7/dist-packages (from lqg==0.1.3) (3.2.2)\n",
            "Requirement already satisfied: numpyro==0.9.2 in /usr/local/lib/python3.7/dist-packages (from lqg==0.1.3) (0.9.2)\n",
            "Requirement already satisfied: jax>=0.3.14 in /usr/local/lib/python3.7/dist-packages (from lqg==0.1.3) (0.3.14)\n",
            "Requirement already satisfied: arviz>=0.11.2 in /usr/local/lib/python3.7/dist-packages (from lqg==0.1.3) (0.12.1)\n",
            "Requirement already satisfied: cycler>=0.10 in /usr/local/lib/python3.7/dist-packages (from matplotlib==3.2.2->lqg==0.1.3) (0.11.0)\n",
            "Requirement already satisfied: kiwisolver>=1.0.1 in /usr/local/lib/python3.7/dist-packages (from matplotlib==3.2.2->lqg==0.1.3) (1.4.4)\n",
            "Requirement already satisfied: python-dateutil>=2.1 in /usr/local/lib/python3.7/dist-packages (from matplotlib==3.2.2->lqg==0.1.3) (2.8.2)\n",
            "Requirement already satisfied: pyparsing!=2.0.4,!=2.1.2,!=2.1.6,>=2.0.1 in /usr/local/lib/python3.7/dist-packages (from matplotlib==3.2.2->lqg==0.1.3) (3.0.9)\n",
            "Requirement already satisfied: tqdm in /usr/local/lib/python3.7/dist-packages (from numpyro==0.9.2->lqg==0.1.3) (4.64.0)\n",
            "Requirement already satisfied: jaxlib>=0.1.65 in /usr/local/lib/python3.7/dist-packages (from numpyro==0.9.2->lqg==0.1.3) (0.3.14+cuda11.cudnn805)\n",
            "Requirement already satisfied: multipledispatch in /usr/local/lib/python3.7/dist-packages (from numpyro==0.9.2->lqg==0.1.3) (0.6.0)\n",
            "Requirement already satisfied: xarray-einstats>=0.2 in /usr/local/lib/python3.7/dist-packages (from arviz>=0.11.2->lqg==0.1.3) (0.2.2)\n",
            "Requirement already satisfied: xarray>=0.16.1 in /usr/local/lib/python3.7/dist-packages (from arviz>=0.11.2->lqg==0.1.3) (0.20.2)\n",
            "Requirement already satisfied: netcdf4 in /usr/local/lib/python3.7/dist-packages (from arviz>=0.11.2->lqg==0.1.3) (1.6.0)\n",
            "Requirement already satisfied: typing-extensions>=3.7.4.3 in /usr/local/lib/python3.7/dist-packages (from arviz>=0.11.2->lqg==0.1.3) (4.1.1)\n",
            "Requirement already satisfied: pandas>=0.23 in /usr/local/lib/python3.7/dist-packages (from arviz>=0.11.2->lqg==0.1.3) (1.3.5)\n",
            "Requirement already satisfied: packaging in /usr/local/lib/python3.7/dist-packages (from arviz>=0.11.2->lqg==0.1.3) (21.3)\n",
            "Requirement already satisfied: setuptools>=38.4 in /usr/local/lib/python3.7/dist-packages (from arviz>=0.11.2->lqg==0.1.3) (57.4.0)\n",
            "Requirement already satisfied: etils[epath] in /usr/local/lib/python3.7/dist-packages (from jax>=0.3.14->lqg==0.1.3) (0.7.1)\n",
            "Requirement already satisfied: absl-py in /usr/local/lib/python3.7/dist-packages (from jax>=0.3.14->lqg==0.1.3) (1.2.0)\n",
            "Requirement already satisfied: opt-einsum in /usr/local/lib/python3.7/dist-packages (from jax>=0.3.14->lqg==0.1.3) (3.3.0)\n",
            "Requirement already satisfied: flatbuffers<3.0,>=1.12 in /usr/local/lib/python3.7/dist-packages (from jaxlib>=0.1.65->numpyro==0.9.2->lqg==0.1.3) (2.0)\n",
            "Requirement already satisfied: pytz>=2017.3 in /usr/local/lib/python3.7/dist-packages (from pandas>=0.23->arviz>=0.11.2->lqg==0.1.3) (2022.1)\n",
            "Requirement already satisfied: six>=1.5 in /usr/local/lib/python3.7/dist-packages (from python-dateutil>=2.1->matplotlib==3.2.2->lqg==0.1.3) (1.15.0)\n",
            "Requirement already satisfied: importlib-metadata in /usr/local/lib/python3.7/dist-packages (from xarray>=0.16.1->arviz>=0.11.2->lqg==0.1.3) (4.12.0)\n",
            "Requirement already satisfied: importlib_resources in /usr/local/lib/python3.7/dist-packages (from etils[epath]->jax>=0.3.14->lqg==0.1.3) (5.9.0)\n",
            "Requirement already satisfied: zipp in /usr/local/lib/python3.7/dist-packages (from etils[epath]->jax>=0.3.14->lqg==0.1.3) (3.8.1)\n",
            "Requirement already satisfied: cftime in /usr/local/lib/python3.7/dist-packages (from netcdf4->arviz>=0.11.2->lqg==0.1.3) (1.6.1)\n"
          ]
        }
      ]
    },
    {
      "cell_type": "code",
      "source": [
        "from ipywidgets import interact, widgets\n",
        "import matplotlib.pyplot as plt\n",
        "import matplotlib as mpl\n",
        "\n",
        "mpl.rcParams['axes.spines.right'] = False\n",
        "mpl.rcParams['axes.spines.top'] = False\n",
        "\n",
        "from jax import grad, vmap, jit, random, numpy as jnp\n",
        "\n",
        "import numpyro\n",
        "from numpyro import distributions as dist\n",
        "from numpyro.infer import NUTS, MCMC\n",
        "import arviz as az\n",
        "\n",
        "from lqg.model import LQG, Actor, Dynamics, System\n",
        "from lqg import xcorr"
      ],
      "metadata": {
        "id": "MD5gEf6GiMPS"
      },
      "execution_count": 39,
      "outputs": []
    },
    {
      "cell_type": "markdown",
      "source": [
        "## Quick intro to jax\n",
        "\n",
        "\n",
        "1. NumPy-like API: `jax.numpy`\n"
      ],
      "metadata": {
        "id": "y123yiQMcF5S"
      }
    },
    {
      "cell_type": "code",
      "source": [
        "a = jnp.array([[1., 2.],\n",
        "               [3., 4.]])\n"
      ],
      "metadata": {
        "id": "rl6iJpOVcFKS"
      },
      "execution_count": 43,
      "outputs": []
    },
    {
      "cell_type": "code",
      "source": [
        "key = random.PRNGKey(1)\n",
        "\n",
        "b = random.normal(key, shape=(2, 3))\n",
        "\n",
        "a @ b"
      ],
      "metadata": {
        "colab": {
          "base_uri": "https://localhost:8080/"
        },
        "id": "iCRwX4oicsEl",
        "outputId": "1d35f838-e5b0-46e6-a0b7-9f1c5db46afb"
      },
      "execution_count": 44,
      "outputs": [
        {
          "output_type": "execute_result",
          "data": {
            "text/plain": [
              "DeviceArray([[ 1.6896877, -0.6240323,  1.5889112],\n",
              "             [ 4.3366823, -2.2179935,  4.184889 ]], dtype=float32)"
            ]
          },
          "metadata": {},
          "execution_count": 44
        }
      ]
    },
    {
      "cell_type": "markdown",
      "source": [
        "2. Automatic differentiation: `grad`"
      ],
      "metadata": {
        "id": "PLHusaxC0Emr"
      }
    },
    {
      "cell_type": "code",
      "source": [
        "def f(x):\n",
        "  return jnp.sin(x)\n",
        "\n",
        "grad(f)(jnp.pi)"
      ],
      "metadata": {
        "colab": {
          "base_uri": "https://localhost:8080/"
        },
        "id": "bni2jFOLc1bZ",
        "outputId": "331e8199-29bf-4ed5-f5a6-18656dbeebfd"
      },
      "execution_count": 45,
      "outputs": [
        {
          "output_type": "execute_result",
          "data": {
            "text/plain": [
              "DeviceArray(-1., dtype=float32, weak_type=True)"
            ]
          },
          "metadata": {},
          "execution_count": 45
        }
      ]
    },
    {
      "cell_type": "code",
      "source": [
        "jnp.cos(jnp.pi)"
      ],
      "metadata": {
        "colab": {
          "base_uri": "https://localhost:8080/"
        },
        "id": "fvBqoAp7fKVP",
        "outputId": "5b992275-a68d-4e46-991a-2d3b542eb078"
      },
      "execution_count": 46,
      "outputs": [
        {
          "output_type": "execute_result",
          "data": {
            "text/plain": [
              "DeviceArray(-1., dtype=float32, weak_type=True)"
            ]
          },
          "metadata": {},
          "execution_count": 46
        }
      ]
    },
    {
      "cell_type": "markdown",
      "source": [
        "3. Easy vectorization: `vmap`"
      ],
      "metadata": {
        "id": "VnZJapUD0QrJ"
      }
    },
    {
      "cell_type": "code",
      "source": [
        "x = jnp.linspace(0, 2 * jnp.pi)\n",
        "\n",
        "vmap(grad(f))(x)\n"
      ],
      "metadata": {
        "id": "hUXF1_oNQxxv",
        "colab": {
          "base_uri": "https://localhost:8080/"
        },
        "outputId": "90c95b2e-b901-4a65-9359-47bd8c770545"
      },
      "execution_count": 48,
      "outputs": [
        {
          "output_type": "execute_result",
          "data": {
            "text/plain": [
              "DeviceArray([ 1.        ,  0.99179   ,  0.9672949 ,  0.9269168 ,\n",
              "              0.8713187 ,  0.8014136 ,  0.71834934,  0.6234898 ,\n",
              "              0.5183925 ,  0.40478328,  0.28452748,  0.15959987,\n",
              "              0.03205151, -0.09602313, -0.22252095, -0.3453651 ,\n",
              "             -0.46253836, -0.5721167 , -0.672301  , -0.761446  ,\n",
              "             -0.8380882 , -0.9009689 , -0.9490558 , -0.9815592 ,\n",
              "             -0.9979454 , -0.99794537, -0.9815591 , -0.94905573,\n",
              "             -0.90096885, -0.838088  , -0.7614459 , -0.6723007 ,\n",
              "             -0.5721165 , -0.4625382 , -0.34536505, -0.22252055,\n",
              "             -0.09602272,  0.03205181,  0.15960003,  0.28452766,\n",
              "              0.40478376,  0.51839286,  0.62349004,  0.7183495 ,\n",
              "              0.8014137 ,  0.8713187 ,  0.9269169 ,  0.96729493,\n",
              "              0.99179006,  1.        ], dtype=float32)"
            ]
          },
          "metadata": {},
          "execution_count": 48
        }
      ]
    },
    {
      "cell_type": "code",
      "source": [
        "plt.plot(x, f(x))\n",
        "plt.plot(x, vmap(grad(f))(x))"
      ],
      "metadata": {
        "colab": {
          "base_uri": "https://localhost:8080/",
          "height": 283
        },
        "id": "lKm0mjU1spxs",
        "outputId": "9cb45f1e-f52c-4211-a112-9fc9c2f4b1f1"
      },
      "execution_count": 49,
      "outputs": [
        {
          "output_type": "execute_result",
          "data": {
            "text/plain": [
              "[<matplotlib.lines.Line2D at 0x7f623790e890>]"
            ]
          },
          "metadata": {},
          "execution_count": 49
        },
        {
          "output_type": "display_data",
          "data": {
            "text/plain": [
              "<Figure size 432x288 with 1 Axes>"
            ],
            "image/png": "[encoded data removed]"
          },
          "metadata": {
            "needs_background": "light"
          }
        }
      ]
    },
    {
      "cell_type": "markdown",
      "source": [
        "4. Compilation: `jit`"
      ],
      "metadata": {
        "id": "PNAQxt82Lzka"
      }
    },
    {
      "cell_type": "code",
      "source": [
        "def f(x):\n",
        "  return x * x + x * 2.0\n",
        "\n",
        "x = jnp.ones((5000, 5000))"
      ],
      "metadata": {
        "id": "rgImhtMBMEYq"
      },
      "execution_count": 50,
      "outputs": []
    },
    {
      "cell_type": "code",
      "source": [
        "%timeit f(x)"
      ],
      "metadata": {
        "colab": {
          "base_uri": "https://localhost:8080/"
        },
        "id": "8GaeASoTfgXh",
        "outputId": "630eae20-ee7c-42a0-99a1-26d61ce754e7"
      },
      "execution_count": 51,
      "outputs": [
        {
          "output_type": "stream",
          "name": "stdout",
          "text": [
            "53.1 ms ± 11.9 ms per loop (mean ± std. dev. of 7 runs, 10 loops each)\n"
          ]
        }
      ]
    },
    {
      "cell_type": "code",
      "source": [
        "jit_f = jit(f)\n",
        "%timeit jit_f(x)"
      ],
      "metadata": {
        "colab": {
          "base_uri": "https://localhost:8080/"
        },
        "id": "6G4c3ISkL27S",
        "outputId": "a6f00805-1aa6-4dcf-b6c4-676b567d4de2"
      },
      "execution_count": 52,
      "outputs": [
        {
          "output_type": "stream",
          "name": "stdout",
          "text": [
            "13.8 ms ± 2.83 ms per loop (mean ± std. dev. of 7 runs, 100 loops each)\n"
          ]
        }
      ]
    },
    {
      "cell_type": "markdown",
      "source": [
        "# Putting perception into action: Inverse optimal control for continuous psychophysics\n",
        "\n",
        "## Modeling a tracking task with LQG control\n",
        "\n",
        "The LQG control problem is defined by a linear-Gaussian stochastic dynamical system\n",
        "$$\n",
        "\\mathbf x_{t+1} = A \\mathbf x_t + B \\mathbf u_t + V \\mathbf \\epsilon_t, \\; \\mathbf\\epsilon_t \\sim \\mathcal{N}(0, I),\n",
        "$$\n",
        "\n",
        "a linear-Gaussian observation model\n",
        "$$\n",
        "\\mathbf y_t = C \\mathbf x_t + W \\mathbf \\eta_t, \\; \\mathbf\\eta_t \\sim \\mathcal{N}(0, I),\n",
        "$$\n",
        "\n",
        "and a quadratic cost function\n",
        "\n",
        "$$\n",
        "J = \\sum_t \\mathbf x_t^T Q \\mathbf x_t + \\mathbf u_t^T R \\mathbf u_t.\n",
        "$$\n",
        "\n",
        "We start by defining the matrices $A, B, C, V, W, Q, R$ according to our simple model of the continuous psychophysics tracking task:\n",
        "\n",
        "$$\n",
        "A = \\begin{bmatrix}\n",
        "1 & 0 \\\\\n",
        "0 & 1\n",
        "\\end{bmatrix}, \n",
        "\\; B = \\begin{bmatrix}\n",
        "0 \\\\\n",
        "dt\n",
        "\\end{bmatrix},\n",
        "\\; C = \\begin{bmatrix}\n",
        "1 & 0 \\\\\n",
        "0 & 1\n",
        "\\end{bmatrix}, \\\\\n",
        "V = \\begin{bmatrix}\n",
        "\\sigma_\\text{rw} & 0 \\\\\n",
        "0 & \\sigma_\\text{act}\n",
        "\\end{bmatrix}, \n",
        "\\; W = \\begin{bmatrix}\n",
        "\\sigma & 0 \\\\\n",
        "0 & \\sigma_\\text{cursor}\n",
        "\\end{bmatrix}, \\\\\n",
        "Q = \\begin{bmatrix}\n",
        "1 & -1 \\\\\n",
        "-1 & 1\n",
        "\\end{bmatrix}, \\; R = \\begin{bmatrix}\n",
        "c\n",
        "\\end{bmatrix}.\n",
        "$$"
      ],
      "metadata": {
        "id": "6iXCAiGZcWTo"
      }
    },
    {
      "cell_type": "code",
      "source": [
        "action_variability = 0.5\n",
        "sigma_target = 6.\n",
        "sigma_cursor = 1.\n",
        "action_cost = .05\n",
        "\n",
        "dt = 1. / 60.\n",
        "\n",
        "# dynamical system\n",
        "A = jnp.eye(2)\n",
        "B = jnp.array([[0.], \n",
        "              [dt]])\n",
        "\n",
        "# noise\n",
        "V = jnp.diag(jnp.array([1., action_variability]))\n",
        "\n",
        "# observation model\n",
        "C = jnp.eye(2)\n",
        "W = jnp.diag(jnp.array([sigma_target, sigma_cursor]))\n",
        "\n",
        "# cost function\n",
        "Q = jnp.array([[1., -1.],\n",
        "              [-1., 1]])\n",
        "\n",
        "R = jnp.eye(1) * action_cost\n",
        "\n",
        "model = LQG(A, B, C, V, W, Q, R)"
      ],
      "metadata": {
        "id": "H5Ysay2IPnjB"
      },
      "execution_count": 53,
      "outputs": []
    },
    {
      "cell_type": "markdown",
      "source": [
        "Let's simulate some tracking data by applying the Kalman filter and linear-quadratic regular. This is implemented in the method `simulate(rng_key, n, T)`. Since `jax` does not have a global random number generator state, we need to pass a `PRNGKey` object. `n` is the number of trials and `T` is the number of time steps."
      ],
      "metadata": {
        "id": "1PdQ94VUP-s6"
      }
    },
    {
      "cell_type": "code",
      "source": [
        "T = 500\n",
        "x = model.simulate(random.PRNGKey(0), n=100, T=T)\n",
        "\n",
        "plt.plot(jnp.arange(T) * dt, x[:, 1, 0], label=\"target\")\n",
        "plt.plot(jnp.arange(T) * dt, x[:, 1, 1], label=\"cursor\")\n",
        "plt.legend()\n",
        "plt.xlabel(\"Time [s]\")\n",
        "plt.ylabel(\"Position [arcmin]\")\n",
        "plt.show()"
      ],
      "metadata": {
        "colab": {
          "base_uri": "https://localhost:8080/",
          "height": 283
        },
        "id": "rIJXaFLsP9pC",
        "outputId": "f296f3db-706c-46a6-cb31-3d82a7f1bab1"
      },
      "execution_count": 55,
      "outputs": [
        {
          "output_type": "display_data",
          "data": {
            "text/plain": [
              "<Figure size 432x288 with 1 Axes>"
            ],
            "image/png": "[encoded data removed]"
          },
          "metadata": {
            "needs_background": "light"
          }
        }
      ]
    },
    {
      "cell_type": "markdown",
      "source": [
        "## Cross-correlograms\n",
        "\n",
        "We can also look at the correlation between the velocities of the target and the cursor at different time lags. This analysis is known as a cross-correlogram (Mulligan et al., 2013)."
      ],
      "metadata": {
        "id": "9pDP1EqyQ3aa"
      }
    },
    {
      "cell_type": "code",
      "source": [
        "vels = jnp.diff(x, axis=0)\n",
        "lags, correls = xcorr(vels[...,1].T, vels[...,0].T, maxlags=120)\n",
        "\n",
        "plt.plot(lags, correls.mean(axis=0))"
      ],
      "metadata": {
        "colab": {
          "base_uri": "https://localhost:8080/",
          "height": 287
        },
        "id": "Z8nz9oIMRlMG",
        "outputId": "f3117777-068d-4c1a-8427-ec332b960050"
      },
      "execution_count": 56,
      "outputs": [
        {
          "output_type": "execute_result",
          "data": {
            "text/plain": [
              "[<matplotlib.lines.Line2D at 0x7f6238a68950>]"
            ]
          },
          "metadata": {},
          "execution_count": 56
        },
        {
          "output_type": "display_data",
          "data": {
            "text/plain": [
              "<Figure size 432x288 with 1 Axes>"
            ],
            "image/png": "[encoded data removed]"
          },
          "metadata": {
            "needs_background": "light"
          }
        }
      ]
    },
    {
      "cell_type": "markdown",
      "source": [
        "## Influence of model parameters\n",
        "\n",
        "To look a the influence of the different model parameters, we define a class that inherits from the `LQG` base class and defines the matrices given the four parameters."
      ],
      "metadata": {
        "id": "unPHl1sWSXEi"
      }
    },
    {
      "cell_type": "code",
      "source": [
        "class BoundedActor(LQG):\n",
        "  def __init__(self, \n",
        "               sigma_target, \n",
        "               action_variability, \n",
        "               action_cost, \n",
        "               sigma_cursor):\n",
        "    \n",
        "    dt = 1. / 60.\n",
        "\n",
        "    A = jnp.eye(2)\n",
        "    B = jnp.array([[0.], \n",
        "                  [dt]])\n",
        "\n",
        "    V = jnp.diag(jnp.array([1., action_variability]))\n",
        "\n",
        "    C = jnp.eye(2)\n",
        "    W = jnp.diag(jnp.array([sigma_target, sigma_cursor]))\n",
        "\n",
        "\n",
        "    Q = jnp.array([[1., -1.],\n",
        "                  [-1., 1]])\n",
        "\n",
        "    R = jnp.eye(1) * action_cost\n",
        "\n",
        "    \n",
        "    super().__init__(A=A, B=B, C=C, V=V, W=W, Q=Q, R=R)"
      ],
      "metadata": {
        "id": "z6Bx3zXSsIO0"
      },
      "execution_count": 57,
      "outputs": []
    },
    {
      "cell_type": "code",
      "source": [
        "@jit # jit-compile the simulation part to speed up our interactive widget\n",
        "def simulate_trajectories(sigma_target,\n",
        "                          action_cost,\n",
        "                          action_variability, \n",
        "                          sigma_cursor):\n",
        "  model = BoundedActor(sigma_target=sigma_target, \n",
        "                       action_variability=action_variability,\n",
        "                       action_cost=action_cost, \n",
        "                       sigma_cursor=sigma_cursor)\n",
        "\n",
        "  x = model.simulate(random.PRNGKey(0), n=100, T=500)\n",
        "\n",
        "  return x\n",
        "\n",
        "style = {\"description_width\": \"200px\"}\n",
        "layout = {'width': '400px'}\n",
        "\n",
        "@interact(sigma_target=widgets.FloatLogSlider(min=-1, max=2, value=10., \n",
        "                                       style=style, layout=layout,\n",
        "                                       description=\"Perceptual uncertainty (target)\"), \n",
        "          action_cost=widgets.FloatLogSlider(min=-2, max=1, value=1., \n",
        "                                   style=style, layout=layout,\n",
        "                                   description=\"Behavioral costs\"),\n",
        "          action_variability=widgets.FloatSlider(min=.1, max=2., value=.5, \n",
        "                                      style=style, layout=layout,\n",
        "                                      description=\"Action variability\"),\n",
        "          sigma_cursor=widgets.FloatLogSlider(min=-1, max=2, value=1., \n",
        "                                         style=style, layout=layout,\n",
        "                                       description=\"Perceptual uncertainty (cursor)\"))\n",
        "def plot_trajectory(sigma_target, action_cost, action_variability, sigma_cursor):\n",
        "\n",
        "  x = simulate_trajectories(sigma_target, action_cost, action_variability, sigma_cursor)\n",
        "\n",
        "  f, ax = plt.subplots(1, 2, figsize=(8., 4.))\n",
        "  ax[0].plot(jnp.arange(500) / 60, x[:, 0, 0])\n",
        "  ax[0].plot(jnp.arange(500) / 60, x[:, 0, 1])\n",
        "  ax[0].set_ylim(-30, 30)\n",
        "  ax[0].set_title(\"Trajectory\")\n",
        "  ax[0].set_xlabel(\"Time [s]\")\n",
        "  ax[0].set_ylabel(\"Position [arcmin]\")\n",
        "\n",
        "  # cross-correlograms\n",
        "  vels = jnp.diff(x, axis=0)\n",
        "  lags, correls = xcorr(vels[...,1].T, vels[...,0].T, maxlags=120)\n",
        "\n",
        "  ax[1].plot(lags / 60, correls.mean(axis=0))\n",
        "  ax[1].set_ylim(-.01, .1)\n",
        "  ax[1].set_title(\"Cross-correlogram\")\n",
        "  ax[1].set_ylabel(\"Correlation\")\n",
        "  ax[1].set_xlabel(\"Time lag [s]\")\n",
        "\n",
        "  f.tight_layout()"
      ],
      "metadata": {
        "colab": {
          "base_uri": "https://localhost:8080/",
          "height": 425,
          "referenced_widgets": [
            "18c74527bc0e4355961983d5f1c562a5",
            "a5e49a38171f4738954d4d87c6e6e07c",
            "00c2a0e392ee4d64b2784d73010dc63b",
            "91cbb92df8f349f187f4a31590e707aa",
            "27e7c41640224dc4bc5e461f0e7bc047",
            "171f9b76983d4c769356cab713add819",
            "1eea0a19d027477bbae8cc826f8b187d",
            "511447cb6dd54b689f2948027aae6496",
            "ce0f960e3d624ffca21d79e978e08341",
            "95902d214b8448f2a67b44e3df1e675c",
            "27d8b117b9ac4b9a84c40c66306187d3",
            "fb037d3e22eb40089619cac38b4ecbed",
            "94256512d5714e24a257a4a0e3eac058",
            "57542aaacd7a4033abaa379013fbe05b",
            "e738d29f910c4b93942057a0cecd9521",
            "d1098b857e7c474b9ae99a219e097828"
          ]
        },
        "id": "tISmS6qVVCTf",
        "outputId": "4e094c57-7bc5-4aa1-9e8a-5d428b81043e"
      },
      "execution_count": 58,
      "outputs": [
        {
          "output_type": "display_data",
          "data": {
            "text/plain": [
              "interactive(children=(FloatLogSlider(value=10.0, description='Perceptual uncertainty (target)', layout=Layout(…"
            ],
            "application/vnd.jupyter.widget-view+json": {
              "version_major": 2,
              "version_minor": 0,
              "model_id": "18c74527bc0e4355961983d5f1c562a5"
            }
          },
          "metadata": {}
        }
      ]
    },
    {
      "cell_type": "markdown",
      "source": [
        "## Subjective internal models\n",
        "\n",
        "The dynamical system that defines the experiment (i.e. the target movement) might not be known to the agent. In that case, we can assume that the agent has their own subjective internal model, which may differ from the true model.\n",
        "\n",
        "For example, instead of the true random walk\n",
        "\n",
        "$$\n",
        "p_{t+1} = p_t + \\sigma_\\text{rw} * \\epsilon_t,$$\n",
        "\n",
        "the agent could assume that there is a velocity component to the random walk\n",
        "\n",
        "$$\n",
        "p_{t+1} = p_t + dt * v_t + \\sigma_s * \\epsilon_t \\\\\n",
        "v_{t+1} = v_t + \\sigma_v * \\varepsilon_t.\n",
        "$$\n",
        "\n",
        "Let's simulate this and compare it to the random walk on position that was used in the experiment."
      ],
      "metadata": {
        "id": "eOpgSEWy0PIx"
      }
    },
    {
      "cell_type": "code",
      "source": [
        "@interact(sigma_s=widgets.FloatSlider(min=0., max=2., value=1.,\n",
        "                                      style=style, layout=layout,\n",
        "                                       description=\"Subjective std\"), \n",
        "          sigma_v=widgets.FloatSlider(min=0., max=2., value=0., \n",
        "                                   style=style, layout=layout,\n",
        "                                   description=\"Subjective vel std\"))\n",
        "def simulate_random_walks(sigma_s, sigma_v):\n",
        "  T = 100\n",
        "  n = 20\n",
        "  dt = 1. / 60.\n",
        "\n",
        "  key_s, key_v = random.split(random.PRNGKey(123))\n",
        "  x_true = jnp.cumsum(random.normal(key_s, shape=(T, n)), axis=0)\n",
        "\n",
        "  v = jnp.cumsum(random.normal(key_v, shape=(T, n)) * sigma_v, axis=0)\n",
        "  x = jnp.cumsum(random.normal(key_s, shape=(T, n)) * sigma_s + dt * v, axis=0)\n",
        "\n",
        "  f, ax = plt.subplots(1, 2, sharey=True, sharex=True)\n",
        "  ax[0].plot(x_true)\n",
        "  ax[1].plot(x)\n",
        "  f.show()"
      ],
      "metadata": {
        "colab": {
          "base_uri": "https://localhost:8080/",
          "height": 329,
          "referenced_widgets": [
            "38fc1a4aff084ab6b6247d6f709989af",
            "8f15a528364a4f338a97ea356937b5f0",
            "01789ef4430f4eedab341b1936e9a30c",
            "46e37f300f0647299883f2e3d3ff3941",
            "83120ef51bd5450dacdacfb0d0e134b4",
            "2679f076376241df96e753f8530d2c0f",
            "5ca24d34aba4476b879eef6c4b5ba47c",
            "99937cf0d42444acb5a67553f060f3fa",
            "36de108691c54e24b3536611d75a8c53",
            "8d99525b31ea4fa5b6a01381ff3e50cb"
          ]
        },
        "id": "FFf5xIy0cwLE",
        "outputId": "c225aefe-02e9-4378-a89f-03c7d5f99041"
      },
      "execution_count": 60,
      "outputs": [
        {
          "output_type": "display_data",
          "data": {
            "text/plain": [
              "interactive(children=(FloatSlider(value=1.0, description='Subjective std', layout=Layout(width='400px'), max=2…"
            ],
            "application/vnd.jupyter.widget-view+json": {
              "version_major": 2,
              "version_minor": 0,
              "model_id": "38fc1a4aff084ab6b6247d6f709989af"
            }
          },
          "metadata": {}
        }
      ]
    },
    {
      "cell_type": "markdown",
      "source": [
        "We now define a class for the subjective actor. We need to distinguish between the matrices of the actual dynamical system of the experiment and those of the subjective internal model of the agent. This is possible in the `lqg` package by defining a `Dynamics` and an `Actor` object and combining them into a `System`."
      ],
      "metadata": {
        "id": "6paS-UIne3A5"
      }
    },
    {
      "cell_type": "code",
      "source": [
        "class SubjectiveActor(System):\n",
        "  def __init__(self, sigma_s, sigma_v):\n",
        "    dt = 1. / 60.\n",
        "\n",
        "    # parameters\n",
        "    action_variability = 0.5\n",
        "    action_cost = 0.05\n",
        "    sigma_target = 6.\n",
        "    sigma_cursor = 3.\n",
        "\n",
        "    # true dynamical system (same as above)\n",
        "    A = jnp.eye(2)\n",
        "    B = jnp.array([[0.], [dt]])\n",
        "    V = jnp.diag(jnp.array([1., action_variability]))\n",
        "\n",
        "    C = jnp.eye(2)\n",
        "    W = jnp.diag(jnp.array([sigma_cursor, sigma_cursor]))\n",
        "\n",
        "    dynamics = Dynamics(A, B, C, V, W)\n",
        "\n",
        "    # subjective dynamical system parameters\n",
        "    A_subj = jnp.array([[1., 0., dt], \n",
        "                        [0., 1., 0.], \n",
        "                        [0., 0., 1.]])\n",
        "    B_subj = jnp.array([[0.], [dt], [0.]])\n",
        "    C_subj = jnp.eye(2, 3)\n",
        "    V_subj = jnp.diag(jnp.array([sigma_s, action_variability, sigma_v]))\n",
        "    \n",
        "    # cost function\n",
        "    Q = jnp.array([[1., -1., 0.],\n",
        "                [-1., 1., 0.],\n",
        "                [0., 0., 0.]])\n",
        "\n",
        "    R = jnp.eye(1) * action_cost\n",
        "\n",
        "    actor = Actor(A_subj, B_subj, C_subj, V_subj, W, Q, R)\n",
        "\n",
        "    super().__init__(actor=actor, dynamics=dynamics)"
      ],
      "metadata": {
        "id": "XFpZXxgAfRaw"
      },
      "execution_count": 61,
      "outputs": []
    },
    {
      "cell_type": "code",
      "source": [
        "@jit # jit-compile the simulation part to speed up our interactive widget\n",
        "def simulate_subjective_actor(sigma_s, sigma_v):\n",
        "\n",
        "  model = SubjectiveActor(sigma_s, sigma_v)\n",
        "  x = model.simulate(random.PRNGKey(0), x0=jnp.zeros(2), n=100, T=500)\n",
        "\n",
        "  return x\n",
        "\n",
        "@interact(sigma_s=widgets.FloatSlider(min=0., max=2., value=1., \n",
        "                                       style=style, layout=layout,\n",
        "                                       description=\"Subjective std\"), \n",
        "          sigma_v=widgets.FloatSlider(min=0., max=2., value=0., \n",
        "                                   style=style, layout=layout,\n",
        "                                   description=\"Subjective vel std\"))\n",
        "def plot_trajectory(sigma_s, sigma_v):\n",
        "\n",
        "  x = simulate_subjective_actor(sigma_s, sigma_v)\n",
        "\n",
        "  f, ax = plt.subplots(1, 2, figsize=(8., 4.))\n",
        "  ax[0].plot(jnp.arange(500) / 60, x[:, 0, 0])\n",
        "  ax[0].plot(jnp.arange(500) / 60, x[:, 0, 1])\n",
        "  ax[0].set_ylim(-30, 30)\n",
        "  ax[0].set_title(\"Trajectory\")\n",
        "  ax[0].set_xlabel(\"Time [s]\")\n",
        "  ax[0].set_ylabel(\"Position [arcmin]\")\n",
        "\n",
        "  # cross-correlograms\n",
        "  vels = jnp.diff(x, axis=0)\n",
        "  lags, correls = xcorr(vels[...,1].T, vels[...,0].T, maxlags=120)\n",
        "\n",
        "  ax[1].plot(lags / 60, correls.mean(axis=0))\n",
        "  ax[1].set_ylim(-.03, .1)\n",
        "  ax[1].set_title(\"Cross-correlogram\")\n",
        "  ax[1].set_ylabel(\"Correlation\")\n",
        "  ax[1].set_xlabel(\"Time lag [s]\")\n",
        "\n",
        "  f.tight_layout()"
      ],
      "metadata": {
        "colab": {
          "base_uri": "https://localhost:8080/",
          "height": 361,
          "referenced_widgets": [
            "2913f84525be40ceb67548aa0a35901c",
            "a1ebd3be55e9477ab4263d04a321a218",
            "08f8d51d17ce4fce9b00a660b6aea481",
            "9188fb3660db4947bbacaf3cd98ff55d",
            "114ed84582354906ad32417b8cd8434d",
            "715e0852eb114c9c8116e3a3d7b76006",
            "ee710192f89840d5a10f227673967c5d",
            "448db44c0b27423b9461915bd7d67e5d",
            "4d7999ab37a745c3abb9a770ebe81c31",
            "de7baf6dd97f48369a5a1cb258dc686d"
          ]
        },
        "id": "vnBPWX_45kQU",
        "outputId": "f00a7010-3b90-4e5b-d620-e284ebd6702d"
      },
      "execution_count": 62,
      "outputs": [
        {
          "output_type": "display_data",
          "data": {
            "text/plain": [
              "interactive(children=(FloatSlider(value=1.0, description='Subjective std', layout=Layout(width='400px'), max=2…"
            ],
            "application/vnd.jupyter.widget-view+json": {
              "version_major": 2,
              "version_minor": 0,
              "model_id": "2913f84525be40ceb67548aa0a35901c"
            }
          },
          "metadata": {}
        }
      ]
    },
    {
      "cell_type": "markdown",
      "source": [
        "## Exercises\n",
        "\n",
        "### Different target motion\n",
        "\n",
        "The target moves according to an Ornstein-Uhlenbeck process, which can be thought of as a random walk that tends back to zero. The equations for the target position and velocity are\n",
        "\n",
        "$$\n",
        "x_{t+1} = x_t + v_t \\\\\n",
        "v_{t+1} = \\lambda v_t - k x_t + \\sigma_w \\epsilon_t,\n",
        "$$\n",
        "\n",
        "where $\\sigma_w$ is the standard deviation of the velocity's random walk, $\\lambda$ is an inertia parameter, and $k$ pushes the target towards zero.\n",
        "\n",
        "Assume that the agent does not know these parameters, but has their own subjective versions of them. How does changing these subjective assumptions about the target's motion affect behavior?\n",
        "\n",
        "\n",
        "Other ideas to extend the model:\n",
        "- Implement a more realistic model for the the hand or eye movements.\n",
        "- Implement a feedback delay by augmenting the state vector."
      ],
      "metadata": {
        "id": "vD0JjcnFdVvs"
      }
    },
    {
      "cell_type": "code",
      "source": [
        "class DampedSpringModel(System):\n",
        "  def __init__(self, k_subj, lmbd_subj, sigma_w_subj):\n",
        "    \n",
        "    dt = 1. / 60. # time constant\n",
        "\n",
        "    # target motion parameters\n",
        "    lmbd = 0.675\n",
        "    k = 0.0007\n",
        "    sigma_w = 0.2\n",
        "\n",
        "    # agent parameters\n",
        "    action_variability = 0.5\n",
        "    action_cost\n",
        "\n",
        "\n",
        "    A = jnp.array([[1., 0., 1.], # target\n",
        "                   [0., 1., 0.], # eye\n",
        "                   [-k, 0., lmbd]]) # target velocity\n",
        "    B = jnp.array([[0.],\n",
        "                   [dt], \n",
        "                   [0.]])\n",
        "\n",
        "    V = jnp.diag(jnp.array([0., action_variability, sigma_w]))\n",
        "\n",
        "    C = jnp.array([[1., 0., 0.],\n",
        "                   [0., 1., 0.]])\n",
        "    W = jnp.diag(jnp.array([sigma_target, sigma_cursor]))\n",
        "\n",
        "    dynamics = Dynamics(A, B, C, V, W)\n",
        "\n",
        "\n",
        "    Q = jnp.array([[1., -1., 0.],\n",
        "                   [-1., 1, 0.],\n",
        "                   [0., 0., 0.]])\n",
        "\n",
        "    R = jnp.eye(1) * action_cost\n",
        "\n",
        "    A_subj = jnp.array([[1., 0., 1.], # target\n",
        "                   [0., 1., 0.], # eye\n",
        "                   [-k_subj, 0., lmbd_subj]])\n",
        "    V_subj = jnp.diag(jnp.array([0., action_variability, sigma_w_subj]))\n",
        "    \n",
        "    actor = Actor(A_subj, B, C, V_subj, W, Q, R)\n",
        "\n",
        "    super().__init__(actor=actor, dynamics=dynamics)"
      ],
      "metadata": {
        "id": "BCg5WDDTcKzq"
      },
      "execution_count": 71,
      "outputs": []
    },
    {
      "cell_type": "code",
      "source": [
        "@jit # jit-compile the simulation part to speed up our interactive widget\n",
        "def simulate_damped_spring_model(k_subj, lmbd_subj, sigma_w_subj):\n",
        "\n",
        "  model = DampedSpringModel(k_subj, lmbd_subj, sigma_w_subj)\n",
        "  x = model.simulate(random.PRNGKey(0), n=100, T=500)\n",
        "\n",
        "  return x\n",
        "\n",
        "@interact(k_subj=widgets.FloatLogSlider(min=-5, max=-2., value=0.0007, \n",
        "                                       style=style, layout=layout,\n",
        "                                       description=\"Subjective k\"), \n",
        "          lmbd_subj=widgets.FloatSlider(min=0., max=1., value=0.675, \n",
        "                                   style=style, layout=layout,\n",
        "                                   description=\"Subjective lambda\"),\n",
        "          sigma_w_subj=widgets.FloatSlider(min=0., max=1., value=0.2, \n",
        "                                   style=style, layout=layout,\n",
        "                                   description=\"Subjective sigma_w\"))\n",
        "def plot_trajectory(k_subj, lmbd_subj, sigma_w_subj):\n",
        "\n",
        "  x = simulate_damped_spring_model(k_subj, lmbd_subj, sigma_w_subj)\n",
        "\n",
        "  f, ax = plt.subplots(1, 2, figsize=(8., 4.))\n",
        "  ax[0].plot(jnp.arange(500) / 60, x[:, 0, 0])\n",
        "  ax[0].plot(jnp.arange(500) / 60, x[:, 0, 1])\n",
        "  ax[0].set_ylim(-30, 30)\n",
        "  ax[0].set_title(\"Trajectory\")\n",
        "  ax[0].set_xlabel(\"Time [s]\")\n",
        "  ax[0].set_ylabel(\"Position [arcmin]\")\n",
        "\n",
        "  # cross-correlograms\n",
        "  vels = jnp.diff(x, axis=0)\n",
        "  lags, correls = xcorr(vels[...,1].T, vels[...,0].T, maxlags=120)\n",
        "\n",
        "  ax[1].plot(lags / 60, correls.mean(axis=0))\n",
        "  ax[1].set_ylim(-.03, .1)\n",
        "  ax[1].set_title(\"Cross-correlogram\")\n",
        "  ax[1].set_ylabel(\"Correlation\")\n",
        "  ax[1].set_xlabel(\"Time lag [s]\")\n",
        "\n",
        "  f.tight_layout()\n"
      ],
      "metadata": {
        "colab": {
          "base_uri": "https://localhost:8080/",
          "height": 393,
          "referenced_widgets": [
            "444fb03969314342873e0942fa792339",
            "a2da35b37edd466d9f0cfdb9e02aa2f5",
            "d9726d2ee2c9432481164f2d873a2a23",
            "bc77e844acce48439614230e049812c0",
            "0ba987d8c27944f7814c168916ff19f6",
            "4503fdaf477e45a3af41d3696c3bf1a5",
            "fcf4106e83874ca49f8ec9b040e812cd",
            "5c20dea8dc4448769b4f3ccd8aeeb188",
            "0ba2b8290b4541d3b8ac1e7dadb2b541",
            "53cc353bb3c94f0fa4812a06d9dbafd6",
            "5110a5f390ec45ea9f654eeb224fbfbc",
            "a1343f9c21ea4f6185cda29c10e3f872",
            "4a42e87ddee644639f831b56f1843a98"
          ]
        },
        "id": "MgNlkWrEeGGX",
        "outputId": "c1f93eaf-5bc7-4117-cf8a-5c71f8a70232"
      },
      "execution_count": 72,
      "outputs": [
        {
          "output_type": "display_data",
          "data": {
            "text/plain": [
              "interactive(children=(FloatLogSlider(value=0.0007, description='Subjective k', layout=Layout(width='400px'), m…"
            ],
            "application/vnd.jupyter.widget-view+json": {
              "version_major": 2,
              "version_minor": 0,
              "model_id": "444fb03969314342873e0942fa792339"
            }
          },
          "metadata": {}
        }
      ]
    },
    {
      "cell_type": "markdown",
      "source": [
        "# Inverse optimal control\n",
        "\n",
        "In Bayesian inverse optimal control, we are interested in the posterior distribution of the model parameters given a trajectory\n",
        "\n",
        "$$\n",
        "p(\\theta \\mid \\mathbf x_{1:T}) \\propto p(\\mathbf x_{1:T} \\mid \\theta) \\, p(\\theta).\n",
        "$$\n",
        "\n",
        "## Likelihood function\n",
        "\n",
        "To compute the likelihood\n",
        "\n",
        "$$\n",
        "p(\\mathbf x_{1:T} \\mid \\theta) = \\prod_{i=1}^{T-1} p(\\mathbf x_{t+1} \\mid \\mathbf x_{1:t}, \\theta),\n",
        "$$\n",
        "\n",
        "we need to marginalize out the latent variables $\\hat{\\mathbf x}_{1:T}$ (the agent's internal beliefs). We can do this efficiently in the LQG setting by starting with our belief about the agent's belief $p(\\hat{\\mathbf x}_t \\mid \\mathbf x_{1:t})$ and then iteratively performing the following steps:\n",
        "\n",
        "1. Propagate the uncertainty about the agent's belief through the joint dynamical system of states and beliefs\n",
        "$$\n",
        "p(\\hat{\\mathbf{x}}_{t+1}, \\mathbf x_{t+1} \\mid \\mathbf x_{1:t}, \\theta) =  \\int p(\\hat{\\mathbf{x}}_{t+1}, \\mathbf x_{t+1} \\mid \\hat{\\mathbf{x}}_{t}, \\mathbf x_{t}, \\theta) p(\\hat{\\mathbf{x}}_{t} \\mid \\mathbf x_{1:t}, \\theta) d \\hat{\\mathbf{x}}_{t}\n",
        "$$\n",
        "2. Marginalize over the agent's belief\n",
        "$$\n",
        "p(\\mathbf x_{t+1} \\mid \\mathbf x_{1:t}, \\theta) = \\int p(\\hat{\\mathbf{x}}_{t+1}, \\mathbf x_{t+1} \\mid \\mathbf x_{1:t}, \\theta) d \\hat{\\mathbf x}_{t+1}$$\n",
        "3. Condition on the observed state\n",
        "$$\n",
        "p(\\hat{\\mathbf{x}}_{t+1} \\mid \\mathbf x_{1:t+1}, \\theta) = \\frac{p(\\hat{\\mathbf{x}}_{t+1}, \\mathbf x_{t+1} \\mid \\mathbf x_{1:t}, \\theta)}{p(\\mathbf x_{t+1} \\mid \\mathbf x_{1:t}, \\theta)}\n",
        "$$\n",
        "\n",
        "This gives us the contributions to the likelihood at each time step $p(\\mathbf x_{t+1} \\mid \\mathbf x_{1:t}, \\theta)$ (2.) and the distribution over the agent's belief for the next time step $p(\\hat{\\mathbf{x}}_{t+1} \\mid \\mathbf x_{1:t+1}, \\theta)$ (3.).\n",
        "\n",
        "This algorithm for computing the likelihood is implemented in the method `log_likelihood(x)` of our LQG class."
      ],
      "metadata": {
        "id": "KrT9Csgs8ix5"
      }
    },
    {
      "cell_type": "code",
      "source": [
        "true_params = dict(sigma_target=25., \n",
        "                   action_variability=0.5, \n",
        "                   action_cost=0.5, \n",
        "                   sigma_cursor=1.)\n",
        "\n",
        "# simulate some data\n",
        "model = BoundedActor(**true_params)\n",
        "x = model.simulate(random.PRNGKey(1), n=50, T=500)\n",
        "\n",
        "# range of parameter values\n",
        "sigmas = jnp.linspace(5., 50.)\n",
        "\n",
        "# likelihood of one parameter, keeping others constant at the true value\n",
        "def log_likelihood(sigma):\n",
        "  return BoundedActor(sigma_target=sigma, \n",
        "                      action_variability=true_params[\"action_variability\"], \n",
        "                      action_cost=true_params[\"action_cost\"],\n",
        "                      sigma_cursor=true_params[\"sigma_cursor\"]).log_likelihood(x).sum()\n",
        "\n",
        "plt.plot(sigmas, vmap(log_likelihood)(sigmas))\n",
        "plt.axvline(25.)\n",
        "plt.xlabel(r\"$\\sigma$\")\n",
        "plt.ylabel(r\"$\\log p(x \\mid \\sigma)$\")\n",
        "plt.title(\"Log likelihood\")"
      ],
      "metadata": {
        "colab": {
          "base_uri": "https://localhost:8080/",
          "height": 313
        },
        "id": "c7mgDYo78k3Y",
        "outputId": "983e91c4-b1cb-48bf-9631-f94067fe1436"
      },
      "execution_count": 24,
      "outputs": [
        {
          "output_type": "execute_result",
          "data": {
            "text/plain": [
              "Text(0.5, 1.0, 'Log likelihood')"
            ]
          },
          "metadata": {},
          "execution_count": 24
        },
        {
          "output_type": "display_data",
          "data": {
            "text/plain": [
              "<Figure size 432x288 with 1 Axes>"
            ],
            "image/png": "[encoded data removed]"
          },
          "metadata": {
            "needs_background": "light"
          }
        }
      ]
    },
    {
      "cell_type": "code",
      "source": [
        "grad(log_likelihood)(28.)"
      ],
      "metadata": {
        "colab": {
          "base_uri": "https://localhost:8080/"
        },
        "id": "W-_qttKnmQCd",
        "outputId": "0926de58-65c1-45ee-c5a1-0e137b70d3b8"
      },
      "execution_count": 26,
      "outputs": [
        {
          "output_type": "execute_result",
          "data": {
            "text/plain": [
              "DeviceArray(-0.9518541, dtype=float32, weak_type=True)"
            ]
          },
          "metadata": {},
          "execution_count": 26
        }
      ]
    },
    {
      "cell_type": "markdown",
      "source": [
        "## Bayesian inference with NumPyro"
      ],
      "metadata": {
        "id": "ADwtB45EdKBY"
      }
    },
    {
      "cell_type": "code",
      "source": [
        "def lqg_model(x):\n",
        "\n",
        "  # priors\n",
        "  action_variability = numpyro.sample(\"action_variability\", dist.HalfCauchy(1.))\n",
        "  action_cost = numpyro.sample(\"action_cost\", dist.HalfCauchy(1.))\n",
        "  sigma_target = numpyro.sample(\"sigma_target\", dist.HalfCauchy(50.))\n",
        "  sigma_cursor = numpyro.sample(\"sigma_cursor\", dist.HalfCauchy(15.))\n",
        "\n",
        "  # setup model\n",
        "  model = BoundedActor(action_variability=action_variability,\n",
        "                       action_cost=action_cost,\n",
        "                       sigma_target=sigma_target,\n",
        "                       sigma_cursor=sigma_cursor)\n",
        "\n",
        "  # likelihood\n",
        "  numpyro.sample(\"x\", model.conditional_distribution(x[:-1]),\n",
        "                  obs=x[1:])"
      ],
      "metadata": {
        "id": "ZEbUd_9sarPH"
      },
      "execution_count": 30,
      "outputs": []
    },
    {
      "cell_type": "code",
      "source": [
        "nuts_kernel = NUTS(lqg_model)\n",
        "\n",
        "mcmc = MCMC(nuts_kernel, num_warmup=500, num_samples=1000)\n",
        "mcmc.run(random.PRNGKey(0), x)"
      ],
      "metadata": {
        "colab": {
          "base_uri": "https://localhost:8080/"
        },
        "id": "WECvpnCFAZjT",
        "outputId": "7407d94b-bfca-4259-e21e-fdd62cfa9452"
      },
      "execution_count": 31,
      "outputs": [
        {
          "output_type": "stream",
          "name": "stderr",
          "text": [
            "sample: 100%|██████████| 1500/1500 [03:51<00:00,  6.47it/s, 3 steps of size 4.15e-01. acc. prob=0.92]\n"
          ]
        }
      ]
    },
    {
      "cell_type": "code",
      "source": [
        "inference_data = az.from_numpyro(mcmc)\n",
        "\n",
        "az.plot_trace(inference_data)\n",
        "\n",
        "summary = az.summary(inference_data)"
      ],
      "metadata": {
        "colab": {
          "base_uri": "https://localhost:8080/",
          "height": 515
        },
        "id": "rC4aLqQZstnv",
        "outputId": "03b11c42-169d-407e-caa3-0c2ab2e90895"
      },
      "execution_count": 32,
      "outputs": [
        {
          "output_type": "stream",
          "name": "stderr",
          "text": [
            "Shape validation failed: input_shape: (1, 1000), minimum_shape: (chains=2, draws=4)\n"
          ]
        },
        {
          "output_type": "display_data",
          "data": {
            "text/plain": [
              "<Figure size 864x576 with 8 Axes>"
            ],
            "image/png": "[encoded data removed]"
          },
          "metadata": {
            "needs_background": "light"
          }
        }
      ]
    },
    {
      "cell_type": "markdown",
      "source": [
        "## Belief tracking"
      ],
      "metadata": {
        "id": "bu-DdS3DpMhl"
      }
    },
    {
      "cell_type": "code",
      "source": [
        "model = BoundedActor(**summary[\"mean\"].to_dict())\n",
        "\n",
        "x = model.simulate(random.PRNGKey(0), n=100, T=500)"
      ],
      "metadata": {
        "id": "rR4DXXlhkyhI"
      },
      "execution_count": 33,
      "outputs": []
    },
    {
      "cell_type": "code",
      "source": [
        "mu, Sigma = model.conditional_moments(x)\n",
        "d = dist.MultivariateNormal(mu, Sigma[:, jnp.newaxis])\n",
        "x_samp = d.sample(random.PRNGKey(0), sample_shape=(10,))\n",
        "\n",
        "f, ax = plt.subplots(1, 2)\n",
        "ax[0].plot(jnp.arange(500) / 60, x[:, 1, 0], label=\"target\")\n",
        "ax[0].plot(jnp.arange(500) / 60, mu[:, 1, 2], label=\"belief about target\", color=\"C2\")\n",
        "ax[0].plot(jnp.arange(500) / 60, mu[:, 1, 3], label=\"belief about cursor\", color=\"C1\")\n",
        "\n",
        "for i in range(10):\n",
        "  ax[0].plot(jnp.arange(500) / 60, x_samp[i, :, 1, 2],\n",
        "          color=\"C2\", alpha=0.1, zorder=-1)\n",
        "  ax[0].plot(jnp.arange(500) / 60, x_samp[i, :, 1, 3],\n",
        "          color=\"C1\", alpha=0.1, zorder=-1)\n",
        "ax[0].set_ylim(-20, 50)\n",
        "ax[0].set_title(\"Belief tracking\")\n",
        "ax[0].set_xlabel(\"Time [s]\")\n",
        "ax[0].set_ylabel(\"Position [arcmin]\")\n",
        "ax[0].legend(frameon=False)\n",
        "\n",
        "# cross-correlograms with belief about cursor\n",
        "lags, correls = xcorr(jnp.diff(mu[..., 3], axis=0).T,\n",
        "                      jnp.diff(x[..., 0], axis=0).T, maxlags=120)\n",
        "\n",
        "ax[1].plot(lags / 60, correls.mean(axis=0), color=\"C1\")\n",
        "\n",
        "# cross-correlograms with belief about target\n",
        "lags, correls = xcorr(jnp.diff(mu[..., 2], axis=0).T,\n",
        "                      jnp.diff(x[..., 0], axis=0).T, maxlags=120)\n",
        "\n",
        "ax[1].plot(lags / 60, correls.mean(axis=0), color=\"C2\")\n",
        "\n",
        "ax[1].set_ylim(-.03, .12)\n",
        "ax[1].set_title(\"Cross-correlogram\")\n",
        "ax[1].set_ylabel(\"Correlation\")\n",
        "ax[1].set_xlabel(\"Time lag [s]\")\n",
        "\n",
        "f.tight_layout()"
      ],
      "metadata": {
        "colab": {
          "base_uri": "https://localhost:8080/",
          "height": 297
        },
        "id": "AI5wI59Ta0MU",
        "outputId": "7279150a-0b9d-4dde-ae98-1c773551dd1b"
      },
      "execution_count": 37,
      "outputs": [
        {
          "output_type": "display_data",
          "data": {
            "text/plain": [
              "<Figure size 432x288 with 2 Axes>"
            ],
            "image/png": "[encoded data removed]"
          },
          "metadata": {
            "needs_background": "light"
          }
        }
      ]
    },
    {
      "cell_type": "code",
      "source": [
        ""
      ],
      "metadata": {
        "id": "kUCyldKHwcLm"
      },
      "execution_count": null,
      "outputs": []
    }
  ]
}