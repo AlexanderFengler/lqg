{
 "cells": [
  {
   "cell_type": "code",
   "execution_count": 2,
   "outputs": [],
   "source": [
    "from jax import numpy as jnp, random\n",
    "import matplotlib.pyplot as plt\n",
    "\n",
    "from lqg.model import LQG"
   ],
   "metadata": {
    "collapsed": false,
    "pycharm": {
     "name": "#%%\n"
    }
   }
  },
  {
   "cell_type": "markdown",
   "source": [
    "# Inverse optimal control for continuous psychophysics\n",
    "\n",
    "## Modeling a tracking task\n",
    "\n",
    "Linear-Gaussian stochastic dynamical system:\n",
    "$$\n",
    "\\mathbf x_{t+1} = A \\mathbf x_t + B \\mathbf u_t + V \\mathbf \\epsilon_t, \\; \\mathbf\\epsilon_t \\sim \\mathcal{N}(0, I)\n",
    "$$\n",
    "\n",
    "Linear-Gaussian observation model\n",
    "$$\n",
    "\\mathbf y_t = C \\mathbf x_t + W \\mathbf \\eta_t, \\; \\mathbf\\eta_t \\sim \\mathcal{N}(0, I)\n",
    "$$"
   ],
   "metadata": {
    "collapsed": false,
    "pycharm": {
     "name": "#%% md\n"
    }
   }
  },
  {
   "cell_type": "code",
   "execution_count": 3,
   "outputs": [],
   "source": [
    "dt = 1. / 60.\n",
    "\n",
    "# parameters\n",
    "action_variability = 0.5\n",
    "sigma = 6.\n",
    "sigma_prop = 3.\n",
    "\n",
    "A = jnp.eye(2)\n",
    "B = jnp.array([[0.], [dt]])\n",
    "V = jnp.diag(jnp.array([1., action_variability]))\n",
    "\n",
    "C = jnp.eye(2)\n",
    "W = jnp.diag(jnp.array([sigma, sigma_prop]))"
   ],
   "metadata": {
    "collapsed": false,
    "pycharm": {
     "name": "#%%\n"
    }
   }
  },
  {
   "cell_type": "markdown",
   "source": [
    "## Cost function\n",
    "\n",
    "$$\n",
    "J = \\sum_t \\mathbf x_t^T Q \\mathbf x_t + \\mathbf u_t^T R \\mathbf u_t\n",
    "$$"
   ],
   "metadata": {
    "collapsed": false,
    "pycharm": {
     "name": "#%% md\n"
    }
   },
   "outputs": []
  },
  {
   "cell_type": "code",
   "execution_count": 4,
   "outputs": [],
   "source": [
    "action_cost = 0.5\n",
    "\n",
    "Q = jnp.array([[1., -1.],\n",
    "               [-1., 1]])\n",
    "\n",
    "R = jnp.eye(1) * action_cost"
   ],
   "metadata": {
    "collapsed": false,
    "pycharm": {
     "name": "#%%\n"
    }
   }
  },
  {
   "cell_type": "code",
   "execution_count": 5,
   "outputs": [
    {
     "data": {
      "text/plain": "[<matplotlib.lines.Line2D at 0x7f1a144abc40>]"
     },
     "execution_count": 5,
     "metadata": {},
     "output_type": "execute_result"
    },
    {
     "data": {
      "text/plain": "<Figure size 432x288 with 1 Axes>",
      "image/png": "[encoded data removed]"
     },
     "metadata": {
      "needs_background": "light"
     },
     "output_type": "display_data"
    }
   ],
   "source": [
    "from lqg.model import LQG\n",
    "\n",
    "lqg = LQG(A, B, C, V, W, Q, R)\n",
    "\n",
    "x = lqg.simulate(random.PRNGKey(0), x0=jnp.zeros(2), T=1000)\n",
    "\n",
    "plt.plot(x[:, 0, 0])\n",
    "plt.plot(x[:, 0, 1])"
   ],
   "metadata": {
    "collapsed": false,
    "pycharm": {
     "name": "#%%\n"
    }
   }
  },
  {
   "cell_type": "code",
   "execution_count": null,
   "outputs": [],
   "source": [],
   "metadata": {
    "collapsed": false,
    "pycharm": {
     "name": "#%%\n"
    }
   }
  }
 ],
 "metadata": {
  "kernelspec": {
   "display_name": "Python 3",
   "language": "python",
   "name": "python3"
  },
  "language_info": {
   "codemirror_mode": {
    "name": "ipython",
    "version": 2
   },
   "file_extension": ".py",
   "mimetype": "text/x-python",
   "name": "python",
   "nbconvert_exporter": "python",
   "pygments_lexer": "ipython2",
   "version": "2.7.6"
  }
 },
 "nbformat": 4,
 "nbformat_minor": 0
}